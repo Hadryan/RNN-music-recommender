{
 "cells": [
  {
   "cell_type": "code",
   "execution_count": 2,
   "metadata": {},
   "outputs": [],
   "source": [
    "import pandas as pd\n",
    "from collections import Counter\n",
    "import seaborn as sns\n",
    "import warnings\n",
    "warnings.filterwarnings('ignore')"
   ]
  },
  {
   "cell_type": "markdown",
   "metadata": {},
   "source": [
    "## Data\n",
    "- data: https://zenodo.org/record/2594557#.XRDedJNKhp9\n",
    "\n",
    "## Research\n",
    "- https://arxiv.org/pdf/1802.08452.pdf\n",
    "- https://web.stanford.edu/~jlmcc/papers/PDP/Chapter3.pdf\n",
    "- https://www.kdd.org/kdd2018/files/deep-learning-day/DLDay18_paper_27.pdf\n",
    "- https://machinelearningmastery.com/time-series-prediction-lstm-recurrent-neural-networks-python-keras/\n",
    "- https://nipunbatra.github.io/blog/2017/recommend-keras.html\n"
   ]
  },
  {
   "cell_type": "code",
   "execution_count": 4,
   "metadata": {},
   "outputs": [],
   "source": [
    "df = pd.read_csv('datasets/spotify_dataset.csv',error_bad_lines=False,warn_bad_lines=False)"
   ]
  },
  {
   "cell_type": "code",
   "execution_count": 5,
   "metadata": {},
   "outputs": [],
   "source": [
    "df.rename(index=str, columns={\n",
    "    ' \"artistname\"': \"artist\",\n",
    "    ' \"trackname\"': \"trackname\",\n",
    "    ' \"playlistname\"': \"playlistname\"\n",
    "},inplace=True)"
   ]
  },
  {
   "cell_type": "code",
   "execution_count": 6,
   "metadata": {},
   "outputs": [
    {
     "data": {
      "text/plain": [
       "(12891680, 4)"
      ]
     },
     "execution_count": 6,
     "metadata": {},
     "output_type": "execute_result"
    }
   ],
   "source": [
    "df.shape"
   ]
  },
  {
   "cell_type": "markdown",
   "metadata": {},
   "source": [
    "---"
   ]
  },
  {
   "cell_type": "code",
   "execution_count": 7,
   "metadata": {},
   "outputs": [
    {
     "data": {
      "text/plain": [
       "Index(['user_id', 'artist', 'trackname', 'playlistname'], dtype='object')"
      ]
     },
     "execution_count": 7,
     "metadata": {},
     "output_type": "execute_result"
    }
   ],
   "source": [
    "df.columns"
   ]
  },
  {
   "cell_type": "code",
   "execution_count": 8,
   "metadata": {},
   "outputs": [
    {
     "data": {
      "text/plain": [
       "user_id           15918\n",
       "artist           289821\n",
       "trackname       2032044\n",
       "playlistname     157504\n",
       "dtype: int64"
      ]
     },
     "execution_count": 8,
     "metadata": {},
     "output_type": "execute_result"
    }
   ],
   "source": [
    "df.nunique()"
   ]
  },
  {
   "cell_type": "code",
   "execution_count": 9,
   "metadata": {},
   "outputs": [
    {
     "data": {
      "text/plain": [
       "[('Daft Punk', 36086),\n",
       " ('Coldplay', 35485),\n",
       " (nan, 33568),\n",
       " ('Radiohead', 31429),\n",
       " ('The Rolling Stones', 30832),\n",
       " ('Kanye West', 29111),\n",
       " ('JAY Z', 28928),\n",
       " ('Eminem', 28894),\n",
       " ('Queen', 28079),\n",
       " ('David Bowie', 27802)]"
      ]
     },
     "execution_count": 9,
     "metadata": {},
     "output_type": "execute_result"
    }
   ],
   "source": [
    "Counter(df.artist).most_common(10)"
   ]
  },
  {
   "cell_type": "code",
   "execution_count": 10,
   "metadata": {},
   "outputs": [
    {
     "data": {
      "text/plain": [
       "user_id             0\n",
       "artist          33568\n",
       "trackname          85\n",
       "playlistname     1246\n",
       "dtype: int64"
      ]
     },
     "execution_count": 10,
     "metadata": {},
     "output_type": "execute_result"
    }
   ],
   "source": [
    "df.isna().sum()"
   ]
  },
  {
   "cell_type": "code",
   "execution_count": 11,
   "metadata": {},
   "outputs": [
    {
     "data": {
      "text/html": [
       "<div>\n",
       "<style scoped>\n",
       "    .dataframe tbody tr th:only-of-type {\n",
       "        vertical-align: middle;\n",
       "    }\n",
       "\n",
       "    .dataframe tbody tr th {\n",
       "        vertical-align: top;\n",
       "    }\n",
       "\n",
       "    .dataframe thead th {\n",
       "        text-align: right;\n",
       "    }\n",
       "</style>\n",
       "<table border=\"1\" class=\"dataframe\">\n",
       "  <thead>\n",
       "    <tr style=\"text-align: right;\">\n",
       "      <th></th>\n",
       "      <th>user_id</th>\n",
       "      <th>artist</th>\n",
       "      <th>trackname</th>\n",
       "      <th>playlistname</th>\n",
       "    </tr>\n",
       "  </thead>\n",
       "  <tbody>\n",
       "    <tr>\n",
       "      <th>769</th>\n",
       "      <td>07f0fc3be95dcd878966b1f9572ff670</td>\n",
       "      <td>NaN</td>\n",
       "      <td>07 - echoes</td>\n",
       "      <td>Starred</td>\n",
       "    </tr>\n",
       "    <tr>\n",
       "      <th>2606</th>\n",
       "      <td>c5cdf06b5f1836006ef2a2fe4f5ff103</td>\n",
       "      <td>NaN</td>\n",
       "      <td>Im Not Okay (I Promise) ~ My Chemical Romance</td>\n",
       "      <td>ngt emo eller</td>\n",
       "    </tr>\n",
       "    <tr>\n",
       "      <th>2607</th>\n",
       "      <td>c5cdf06b5f1836006ef2a2fe4f5ff103</td>\n",
       "      <td>NaN</td>\n",
       "      <td>Just The Girl - The Click Five Cover</td>\n",
       "      <td>ngt emo eller</td>\n",
       "    </tr>\n",
       "    <tr>\n",
       "      <th>2608</th>\n",
       "      <td>c5cdf06b5f1836006ef2a2fe4f5ff103</td>\n",
       "      <td>NaN</td>\n",
       "      <td>Low - Sleeping With Sirens Cover</td>\n",
       "      <td>ngt emo eller</td>\n",
       "    </tr>\n",
       "    <tr>\n",
       "      <th>2609</th>\n",
       "      <td>c5cdf06b5f1836006ef2a2fe4f5ff103</td>\n",
       "      <td>NaN</td>\n",
       "      <td>Pierce The Veil - -Just The Way You Are- Lyric...</td>\n",
       "      <td>ngt emo eller</td>\n",
       "    </tr>\n",
       "    <tr>\n",
       "      <th>2610</th>\n",
       "      <td>c5cdf06b5f1836006ef2a2fe4f5ff103</td>\n",
       "      <td>NaN</td>\n",
       "      <td>Pierce The Veil - Disasterology ( Lyrics )</td>\n",
       "      <td>ngt emo eller</td>\n",
       "    </tr>\n",
       "    <tr>\n",
       "      <th>2612</th>\n",
       "      <td>c5cdf06b5f1836006ef2a2fe4f5ff103</td>\n",
       "      <td>NaN</td>\n",
       "      <td>live and let die- paul mccartney</td>\n",
       "      <td>ngt emo eller</td>\n",
       "    </tr>\n",
       "    <tr>\n",
       "      <th>2613</th>\n",
       "      <td>c5cdf06b5f1836006ef2a2fe4f5ff103</td>\n",
       "      <td>NaN</td>\n",
       "      <td>patty walters - My Chemical Romance 'TEENAGERS...</td>\n",
       "      <td>ngt emo eller</td>\n",
       "    </tr>\n",
       "    <tr>\n",
       "      <th>16360</th>\n",
       "      <td>f4052aabcb90ac2bc768b14946255b45</td>\n",
       "      <td>NaN</td>\n",
       "      <td>Deluge 2.mp3</td>\n",
       "      <td>mcfinal</td>\n",
       "    </tr>\n",
       "    <tr>\n",
       "      <th>16361</th>\n",
       "      <td>f4052aabcb90ac2bc768b14946255b45</td>\n",
       "      <td>NaN</td>\n",
       "      <td>Golden Brown 2.mp3</td>\n",
       "      <td>mcfinal</td>\n",
       "    </tr>\n",
       "    <tr>\n",
       "      <th>16362</th>\n",
       "      <td>f4052aabcb90ac2bc768b14946255b45</td>\n",
       "      <td>NaN</td>\n",
       "      <td>Green Chimney's 2.mp3</td>\n",
       "      <td>mcfinal</td>\n",
       "    </tr>\n",
       "    <tr>\n",
       "      <th>16363</th>\n",
       "      <td>f4052aabcb90ac2bc768b14946255b45</td>\n",
       "      <td>NaN</td>\n",
       "      <td>Hot Water Valley 2.mp3</td>\n",
       "      <td>mcfinal</td>\n",
       "    </tr>\n",
       "    <tr>\n",
       "      <th>16364</th>\n",
       "      <td>f4052aabcb90ac2bc768b14946255b45</td>\n",
       "      <td>NaN</td>\n",
       "      <td>Indra 2.mp3</td>\n",
       "      <td>mcfinal</td>\n",
       "    </tr>\n",
       "    <tr>\n",
       "      <th>16365</th>\n",
       "      <td>f4052aabcb90ac2bc768b14946255b45</td>\n",
       "      <td>NaN</td>\n",
       "      <td>Lonnie's Lament 2.mp3</td>\n",
       "      <td>mcfinal</td>\n",
       "    </tr>\n",
       "    <tr>\n",
       "      <th>16366</th>\n",
       "      <td>f4052aabcb90ac2bc768b14946255b45</td>\n",
       "      <td>NaN</td>\n",
       "      <td>Neolithic Chant 2.mp3</td>\n",
       "      <td>mcfinal</td>\n",
       "    </tr>\n",
       "    <tr>\n",
       "      <th>16367</th>\n",
       "      <td>f4052aabcb90ac2bc768b14946255b45</td>\n",
       "      <td>NaN</td>\n",
       "      <td>Niama 2.mp3</td>\n",
       "      <td>mcfinal</td>\n",
       "    </tr>\n",
       "    <tr>\n",
       "      <th>16368</th>\n",
       "      <td>f4052aabcb90ac2bc768b14946255b45</td>\n",
       "      <td>NaN</td>\n",
       "      <td>Teo 2.mp3</td>\n",
       "      <td>mcfinal</td>\n",
       "    </tr>\n",
       "    <tr>\n",
       "      <th>17771</th>\n",
       "      <td>50346e4190d1707ebc6b39a95f86927a</td>\n",
       "      <td>NaN</td>\n",
       "      <td>04-Charlie Rouse-Bossa Nova Bacchanal-Samba de...</td>\n",
       "      <td>C'est beau ça</td>\n",
       "    </tr>\n",
       "    <tr>\n",
       "      <th>24564</th>\n",
       "      <td>cdccfd048f6a2d655f6b2dfdfce95f04</td>\n",
       "      <td>NaN</td>\n",
       "      <td>Wild World - Skins</td>\n",
       "      <td>Starred</td>\n",
       "    </tr>\n",
       "    <tr>\n",
       "      <th>24565</th>\n",
       "      <td>cdccfd048f6a2d655f6b2dfdfce95f04</td>\n",
       "      <td>NaN</td>\n",
       "      <td>Yanni - The Storm 2004 Live Video HD</td>\n",
       "      <td>Starred</td>\n",
       "    </tr>\n",
       "  </tbody>\n",
       "</table>\n",
       "</div>"
      ],
      "text/plain": [
       "                                user_id artist  \\\n",
       "769    07f0fc3be95dcd878966b1f9572ff670    NaN   \n",
       "2606   c5cdf06b5f1836006ef2a2fe4f5ff103    NaN   \n",
       "2607   c5cdf06b5f1836006ef2a2fe4f5ff103    NaN   \n",
       "2608   c5cdf06b5f1836006ef2a2fe4f5ff103    NaN   \n",
       "2609   c5cdf06b5f1836006ef2a2fe4f5ff103    NaN   \n",
       "2610   c5cdf06b5f1836006ef2a2fe4f5ff103    NaN   \n",
       "2612   c5cdf06b5f1836006ef2a2fe4f5ff103    NaN   \n",
       "2613   c5cdf06b5f1836006ef2a2fe4f5ff103    NaN   \n",
       "16360  f4052aabcb90ac2bc768b14946255b45    NaN   \n",
       "16361  f4052aabcb90ac2bc768b14946255b45    NaN   \n",
       "16362  f4052aabcb90ac2bc768b14946255b45    NaN   \n",
       "16363  f4052aabcb90ac2bc768b14946255b45    NaN   \n",
       "16364  f4052aabcb90ac2bc768b14946255b45    NaN   \n",
       "16365  f4052aabcb90ac2bc768b14946255b45    NaN   \n",
       "16366  f4052aabcb90ac2bc768b14946255b45    NaN   \n",
       "16367  f4052aabcb90ac2bc768b14946255b45    NaN   \n",
       "16368  f4052aabcb90ac2bc768b14946255b45    NaN   \n",
       "17771  50346e4190d1707ebc6b39a95f86927a    NaN   \n",
       "24564  cdccfd048f6a2d655f6b2dfdfce95f04    NaN   \n",
       "24565  cdccfd048f6a2d655f6b2dfdfce95f04    NaN   \n",
       "\n",
       "                                               trackname   playlistname  \n",
       "769                                          07 - echoes        Starred  \n",
       "2606       Im Not Okay (I Promise) ~ My Chemical Romance  ngt emo eller  \n",
       "2607                Just The Girl - The Click Five Cover  ngt emo eller  \n",
       "2608                    Low - Sleeping With Sirens Cover  ngt emo eller  \n",
       "2609   Pierce The Veil - -Just The Way You Are- Lyric...  ngt emo eller  \n",
       "2610          Pierce The Veil - Disasterology ( Lyrics )  ngt emo eller  \n",
       "2612                    live and let die- paul mccartney  ngt emo eller  \n",
       "2613   patty walters - My Chemical Romance 'TEENAGERS...  ngt emo eller  \n",
       "16360                                       Deluge 2.mp3        mcfinal  \n",
       "16361                                 Golden Brown 2.mp3        mcfinal  \n",
       "16362                              Green Chimney's 2.mp3        mcfinal  \n",
       "16363                             Hot Water Valley 2.mp3        mcfinal  \n",
       "16364                                        Indra 2.mp3        mcfinal  \n",
       "16365                              Lonnie's Lament 2.mp3        mcfinal  \n",
       "16366                              Neolithic Chant 2.mp3        mcfinal  \n",
       "16367                                        Niama 2.mp3        mcfinal  \n",
       "16368                                          Teo 2.mp3        mcfinal  \n",
       "17771  04-Charlie Rouse-Bossa Nova Bacchanal-Samba de...  C'est beau ça  \n",
       "24564                                 Wild World - Skins        Starred  \n",
       "24565               Yanni - The Storm 2004 Live Video HD        Starred  "
      ]
     },
     "execution_count": 11,
     "metadata": {},
     "output_type": "execute_result"
    }
   ],
   "source": [
    "df[df.artist.isna()].head(20)"
   ]
  },
  {
   "cell_type": "code",
   "execution_count": 12,
   "metadata": {},
   "outputs": [],
   "source": [
    "df.dropna(inplace=True)"
   ]
  },
  {
   "cell_type": "code",
   "execution_count": 13,
   "metadata": {},
   "outputs": [
    {
     "data": {
      "text/plain": [
       "(12856838, 4)"
      ]
     },
     "execution_count": 13,
     "metadata": {},
     "output_type": "execute_result"
    }
   ],
   "source": [
    "df.shape"
   ]
  },
  {
   "cell_type": "code",
   "execution_count": 14,
   "metadata": {},
   "outputs": [
    {
     "data": {
      "text/plain": [
       "user_id         0\n",
       "artist          0\n",
       "trackname       0\n",
       "playlistname    0\n",
       "dtype: int64"
      ]
     },
     "execution_count": 14,
     "metadata": {},
     "output_type": "execute_result"
    }
   ],
   "source": [
    "df.isna().sum()"
   ]
  },
  {
   "cell_type": "markdown",
   "metadata": {},
   "source": [
    "## EDA\n",
    "- Playlist size\n",
    "- Playlist per user"
   ]
  },
  {
   "cell_type": "code",
   "execution_count": 15,
   "metadata": {},
   "outputs": [
    {
     "data": {
      "text/html": [
       "<div>\n",
       "<style scoped>\n",
       "    .dataframe tbody tr th:only-of-type {\n",
       "        vertical-align: middle;\n",
       "    }\n",
       "\n",
       "    .dataframe tbody tr th {\n",
       "        vertical-align: top;\n",
       "    }\n",
       "\n",
       "    .dataframe thead th {\n",
       "        text-align: right;\n",
       "    }\n",
       "</style>\n",
       "<table border=\"1\" class=\"dataframe\">\n",
       "  <thead>\n",
       "    <tr style=\"text-align: right;\">\n",
       "      <th></th>\n",
       "      <th>user_id</th>\n",
       "      <th>artist</th>\n",
       "      <th>trackname</th>\n",
       "      <th>playlistname</th>\n",
       "    </tr>\n",
       "  </thead>\n",
       "  <tbody>\n",
       "    <tr>\n",
       "      <th>0</th>\n",
       "      <td>9cc0cfd4d7d7885102480dd99e7a90d6</td>\n",
       "      <td>Elvis Costello</td>\n",
       "      <td>(The Angels Wanna Wear My) Red Shoes</td>\n",
       "      <td>HARD ROCK 2010</td>\n",
       "    </tr>\n",
       "    <tr>\n",
       "      <th>1</th>\n",
       "      <td>9cc0cfd4d7d7885102480dd99e7a90d6</td>\n",
       "      <td>Elvis Costello &amp; The Attractions</td>\n",
       "      <td>(What's So Funny 'Bout) Peace, Love And Unders...</td>\n",
       "      <td>HARD ROCK 2010</td>\n",
       "    </tr>\n",
       "    <tr>\n",
       "      <th>2</th>\n",
       "      <td>9cc0cfd4d7d7885102480dd99e7a90d6</td>\n",
       "      <td>Tiffany Page</td>\n",
       "      <td>7 Years Too Late</td>\n",
       "      <td>HARD ROCK 2010</td>\n",
       "    </tr>\n",
       "    <tr>\n",
       "      <th>3</th>\n",
       "      <td>9cc0cfd4d7d7885102480dd99e7a90d6</td>\n",
       "      <td>Elvis Costello &amp; The Attractions</td>\n",
       "      <td>Accidents Will Happen</td>\n",
       "      <td>HARD ROCK 2010</td>\n",
       "    </tr>\n",
       "    <tr>\n",
       "      <th>4</th>\n",
       "      <td>9cc0cfd4d7d7885102480dd99e7a90d6</td>\n",
       "      <td>Elvis Costello</td>\n",
       "      <td>Alison</td>\n",
       "      <td>HARD ROCK 2010</td>\n",
       "    </tr>\n",
       "  </tbody>\n",
       "</table>\n",
       "</div>"
      ],
      "text/plain": [
       "                            user_id                            artist  \\\n",
       "0  9cc0cfd4d7d7885102480dd99e7a90d6                    Elvis Costello   \n",
       "1  9cc0cfd4d7d7885102480dd99e7a90d6  Elvis Costello & The Attractions   \n",
       "2  9cc0cfd4d7d7885102480dd99e7a90d6                      Tiffany Page   \n",
       "3  9cc0cfd4d7d7885102480dd99e7a90d6  Elvis Costello & The Attractions   \n",
       "4  9cc0cfd4d7d7885102480dd99e7a90d6                    Elvis Costello   \n",
       "\n",
       "                                           trackname    playlistname  \n",
       "0               (The Angels Wanna Wear My) Red Shoes  HARD ROCK 2010  \n",
       "1  (What's So Funny 'Bout) Peace, Love And Unders...  HARD ROCK 2010  \n",
       "2                                   7 Years Too Late  HARD ROCK 2010  \n",
       "3                              Accidents Will Happen  HARD ROCK 2010  \n",
       "4                                             Alison  HARD ROCK 2010  "
      ]
     },
     "execution_count": 15,
     "metadata": {},
     "output_type": "execute_result"
    }
   ],
   "source": [
    "df.head()"
   ]
  },
  {
   "cell_type": "code",
   "execution_count": 17,
   "metadata": {},
   "outputs": [],
   "source": [
    "df['user_playlistname'] = df.user_id + '--' + df.playlistname"
   ]
  },
  {
   "cell_type": "code",
   "execution_count": 18,
   "metadata": {},
   "outputs": [
    {
     "data": {
      "text/html": [
       "<div>\n",
       "<style scoped>\n",
       "    .dataframe tbody tr th:only-of-type {\n",
       "        vertical-align: middle;\n",
       "    }\n",
       "\n",
       "    .dataframe tbody tr th {\n",
       "        vertical-align: top;\n",
       "    }\n",
       "\n",
       "    .dataframe thead th {\n",
       "        text-align: right;\n",
       "    }\n",
       "</style>\n",
       "<table border=\"1\" class=\"dataframe\">\n",
       "  <thead>\n",
       "    <tr style=\"text-align: right;\">\n",
       "      <th></th>\n",
       "      <th>user_id</th>\n",
       "      <th>artist</th>\n",
       "      <th>trackname</th>\n",
       "      <th>playlistname</th>\n",
       "      <th>user_playlistname</th>\n",
       "    </tr>\n",
       "  </thead>\n",
       "  <tbody>\n",
       "    <tr>\n",
       "      <th>0</th>\n",
       "      <td>9cc0cfd4d7d7885102480dd99e7a90d6</td>\n",
       "      <td>Elvis Costello</td>\n",
       "      <td>(The Angels Wanna Wear My) Red Shoes</td>\n",
       "      <td>HARD ROCK 2010</td>\n",
       "      <td>9cc0cfd4d7d7885102480dd99e7a90d6--HARD ROCK 2010</td>\n",
       "    </tr>\n",
       "    <tr>\n",
       "      <th>1</th>\n",
       "      <td>9cc0cfd4d7d7885102480dd99e7a90d6</td>\n",
       "      <td>Elvis Costello &amp; The Attractions</td>\n",
       "      <td>(What's So Funny 'Bout) Peace, Love And Unders...</td>\n",
       "      <td>HARD ROCK 2010</td>\n",
       "      <td>9cc0cfd4d7d7885102480dd99e7a90d6--HARD ROCK 2010</td>\n",
       "    </tr>\n",
       "    <tr>\n",
       "      <th>2</th>\n",
       "      <td>9cc0cfd4d7d7885102480dd99e7a90d6</td>\n",
       "      <td>Tiffany Page</td>\n",
       "      <td>7 Years Too Late</td>\n",
       "      <td>HARD ROCK 2010</td>\n",
       "      <td>9cc0cfd4d7d7885102480dd99e7a90d6--HARD ROCK 2010</td>\n",
       "    </tr>\n",
       "    <tr>\n",
       "      <th>3</th>\n",
       "      <td>9cc0cfd4d7d7885102480dd99e7a90d6</td>\n",
       "      <td>Elvis Costello &amp; The Attractions</td>\n",
       "      <td>Accidents Will Happen</td>\n",
       "      <td>HARD ROCK 2010</td>\n",
       "      <td>9cc0cfd4d7d7885102480dd99e7a90d6--HARD ROCK 2010</td>\n",
       "    </tr>\n",
       "    <tr>\n",
       "      <th>4</th>\n",
       "      <td>9cc0cfd4d7d7885102480dd99e7a90d6</td>\n",
       "      <td>Elvis Costello</td>\n",
       "      <td>Alison</td>\n",
       "      <td>HARD ROCK 2010</td>\n",
       "      <td>9cc0cfd4d7d7885102480dd99e7a90d6--HARD ROCK 2010</td>\n",
       "    </tr>\n",
       "  </tbody>\n",
       "</table>\n",
       "</div>"
      ],
      "text/plain": [
       "                            user_id                            artist  \\\n",
       "0  9cc0cfd4d7d7885102480dd99e7a90d6                    Elvis Costello   \n",
       "1  9cc0cfd4d7d7885102480dd99e7a90d6  Elvis Costello & The Attractions   \n",
       "2  9cc0cfd4d7d7885102480dd99e7a90d6                      Tiffany Page   \n",
       "3  9cc0cfd4d7d7885102480dd99e7a90d6  Elvis Costello & The Attractions   \n",
       "4  9cc0cfd4d7d7885102480dd99e7a90d6                    Elvis Costello   \n",
       "\n",
       "                                           trackname    playlistname  \\\n",
       "0               (The Angels Wanna Wear My) Red Shoes  HARD ROCK 2010   \n",
       "1  (What's So Funny 'Bout) Peace, Love And Unders...  HARD ROCK 2010   \n",
       "2                                   7 Years Too Late  HARD ROCK 2010   \n",
       "3                              Accidents Will Happen  HARD ROCK 2010   \n",
       "4                                             Alison  HARD ROCK 2010   \n",
       "\n",
       "                                  user_playlistname  \n",
       "0  9cc0cfd4d7d7885102480dd99e7a90d6--HARD ROCK 2010  \n",
       "1  9cc0cfd4d7d7885102480dd99e7a90d6--HARD ROCK 2010  \n",
       "2  9cc0cfd4d7d7885102480dd99e7a90d6--HARD ROCK 2010  \n",
       "3  9cc0cfd4d7d7885102480dd99e7a90d6--HARD ROCK 2010  \n",
       "4  9cc0cfd4d7d7885102480dd99e7a90d6--HARD ROCK 2010  "
      ]
     },
     "execution_count": 18,
     "metadata": {},
     "output_type": "execute_result"
    }
   ],
   "source": [
    "df.head()"
   ]
  },
  {
   "cell_type": "code",
   "execution_count": 19,
   "metadata": {},
   "outputs": [
    {
     "data": {
      "text/plain": [
       "<matplotlib.axes._subplots.AxesSubplot at 0x1a5806b7b8>"
      ]
     },
     "execution_count": 19,
     "metadata": {},
     "output_type": "execute_result"
    },
    {
     "data": {
      "image/png": "[encoded data removed]",
      "text/plain": [
       "<Figure size 432x288 with 1 Axes>"
      ]
     },
     "metadata": {
      "needs_background": "light"
     },
     "output_type": "display_data"
    }
   ],
   "source": [
    "sns.distplot(df.user_playlistname.value_counts())"
   ]
  },
  {
   "cell_type": "code",
   "execution_count": 20,
   "metadata": {},
   "outputs": [
    {
     "data": {
      "text/plain": [
       "<matplotlib.axes._subplots.AxesSubplot at 0x1a8d8d43c8>"
      ]
     },
     "execution_count": 20,
     "metadata": {},
     "output_type": "execute_result"
    },
    {
     "data": {
      "image/png": "[encoded data removed]",
      "text/plain": [
       "<Figure size 432x288 with 1 Axes>"
      ]
     },
     "metadata": {
      "needs_background": "light"
     },
     "output_type": "display_data"
    }
   ],
   "source": [
    "sns.distplot(df[df['playlistname'] != 'Starred'].user_playlistname.value_counts())"
   ]
  },
  {
   "cell_type": "code",
   "execution_count": 56,
   "metadata": {
    "scrolled": true
   },
   "outputs": [
    {
     "data": {
      "text/plain": [
       "4398de6902abde3351347b048fcdc287Starred                                            47362\n",
       "68756b4d60b6fac27789e85c2b63d1c6Starred                                            18509\n",
       "c410ee930bd5f0e4893632503ec17b05Starred                                            18082\n",
       "f2604a69836c94d00fcd11dd602944fceverything                                         15213\n",
       "6b85a8076b4f3b1036ef15f09e2feeebGeneros                                            14854\n",
       "00dd7fde8040db835d917e077bb47e4bStarred                                            13635\n",
       "1c43b609f0b4a55de35803000c86ade0Starred                                            13053\n",
       "cba242053229db043497e4dd284b025fStarred                                            11195\n",
       "e3833c156aef7b25ba9d8837341a99bbAll Live Files                                     10989\n",
       "8ece433d541d9fac7fbd7c0c6082c7a6Musica!                                            10154\n",
       "ce7eab9cbb66a49a8b71c751458e8663Starred                                            10130\n",
       "4398de6902abde3351347b048fcdc287Library & Streams (Part 3)                          9508\n",
       "4398de6902abde3351347b048fcdc287Library & Streams (Part 8)                          9495\n",
       "4398de6902abde3351347b048fcdc287Library & Streams (Part 6)                          9469\n",
       "4398de6902abde3351347b048fcdc287Library & Streams (Part 12)                         9466\n",
       "4398de6902abde3351347b048fcdc287Library & Streams (Part 7)                          9459\n",
       "f006fae400158646e274820937d25de9Starred                                             9455\n",
       "4398de6902abde3351347b048fcdc287Library & Streams (Part 4)                          9441\n",
       "4398de6902abde3351347b048fcdc287Library & Streams (Part 21)                         9431\n",
       "4398de6902abde3351347b048fcdc287Library & Streams (Part 16)                         9414\n",
       "0e8a2028b0ca919a288924dea8719973Bitches on my dick                                  9410\n",
       "4398de6902abde3351347b048fcdc287Library & Streams (Part 24)                         9401\n",
       "4398de6902abde3351347b048fcdc287Library & Streams (Part 14)                         9399\n",
       "4398de6902abde3351347b048fcdc287Library & Streams (Part 9)                          9393\n",
       "4398de6902abde3351347b048fcdc287Library & Streams (Part 2)                          9386\n",
       "d49c0fdadc701f66d10aec118604f4b71 Everything                                        9384\n",
       "99deafd9b792af8e6a535483088faef2All Spotify Stuff Vol 2                             9378\n",
       "4398de6902abde3351347b048fcdc287Library & Streams (Part 23)                         9377\n",
       "4398de6902abde3351347b048fcdc287Library & Streams (Part 17)                         9374\n",
       "4398de6902abde3351347b048fcdc287Library & Streams (Part 5)                          9373\n",
       "                                                                                   ...  \n",
       "a8a663a542f7e28432895a75cdc8513bGhcf                                                   1\n",
       "d2536a3cc44de87f57f3c4bc5ac6678aBike Party  1                                          1\n",
       "faed9d40e206860cac30d1f130498e3dEl Club de los Ladrones                                1\n",
       "087f0f8bc5eeab5b2dc81f4ce200fd4eCada Beso - En Vivo                                    1\n",
       "49cdf77f3f402a1d2957d483b37254b2La Belle Epoque                                        1\n",
       "93b4dc32e95bdd9ddeeab626b243f4e9Farewell, Mona Lisa                                    1\n",
       "7159afe35f54dbbc3f1d0aee4d6e1e8eStarred                                                1\n",
       "889d11964f45b803195c3498a223fa61A Place Called World                                   1\n",
       "966a3bb64627f83f9d297d058affb936belly dance                                            1\n",
       "ddaa78bba4a75a8697a69d2a7308bc48Recently Saved                                         1\n",
       "4c3e3b99e710904baf40972b7c15ef8aIn a white light                                       1\n",
       "c5803780f480d499d1928185f854bc75Bloodmoss                                              1\n",
       "550aecc412b72672bb7eae98cff13dd4MIXUP                                                  1\n",
       "8a45e4e2c7cdfcd7531be4407ddfc04dDance (pt 1) - 2009 Re-Mastered Digital Version        1\n",
       "ecf9320ded8ff9919cf54baa050c6fbcThe Very Best of Enya                                  1\n",
       "2edd7899d65e0fdf1e10cf5d95aaef29Believe                                                1\n",
       "0730c27e8ab43d37eadda928e3b3358aThe Great Escape                                       1\n",
       "25f1c303f36a79b140efa2adf49c6f0dUK FUNKY CD                                            1\n",
       "551f7a4022e603e092d48fc816dce2d6All My Days                                            1\n",
       "c2e01194cdc81a7ed33a1d53379fd193popero                                                 1\n",
       "9ce3c63fdc7852432536a2bf7f3a2f31fixed fred                                             1\n",
       "0559a6359ca4190e0575f1bb8872aa73I Know                                                 1\n",
       "b0f4caba525430a9baefa2bb3e1b7cbfAARON THOMAS                                           1\n",
       "73f0ebfd10ab66b577a651a5a31505e8Unfinished Sympathy - 2006 Digital Remaster 2          1\n",
       "6f786bb405268e86068e092ef04dd437Down The River - HKT McBuffallo Mix                    1\n",
       "ad59a6c1cedf10afe9e6c2bcf1ff0ed1Seagull                                                1\n",
       "b1d60ddf9553f30e1a7e18990da4a0f2Jag Vet Du Vill Ha Mig - Lulliloo Music Remixs         1\n",
       "600e3b287b8c81c2822f49170b7fd18aWell Run Dry - Promise Land Radio Edit                 1\n",
       "1c7bf88c979c44311942816bd349e9e8Basic Space (Jamie xx Space Bass Mix)                  1\n",
       "2f9edb346faf62c480615d4f08698f2bStarred                                                1\n",
       "Name: user_playlistname, Length: 231560, dtype: int64"
      ]
     },
     "execution_count": 56,
     "metadata": {},
     "output_type": "execute_result"
    }
   ],
   "source": [
    "df.user_playlistname.value_counts()"
   ]
  },
  {
   "cell_type": "markdown",
   "metadata": {},
   "source": [
    "# MORE DATA CLEANING"
   ]
  },
  {
   "cell_type": "code",
   "execution_count": 21,
   "metadata": {},
   "outputs": [],
   "source": [
    "df['playlist_length'] = df.groupby('user_playlistname')['user_playlistname'].transform('count')"
   ]
  },
  {
   "cell_type": "code",
   "execution_count": 22,
   "metadata": {},
   "outputs": [
    {
     "data": {
      "text/html": [
       "<div>\n",
       "<style scoped>\n",
       "    .dataframe tbody tr th:only-of-type {\n",
       "        vertical-align: middle;\n",
       "    }\n",
       "\n",
       "    .dataframe tbody tr th {\n",
       "        vertical-align: top;\n",
       "    }\n",
       "\n",
       "    .dataframe thead th {\n",
       "        text-align: right;\n",
       "    }\n",
       "</style>\n",
       "<table border=\"1\" class=\"dataframe\">\n",
       "  <thead>\n",
       "    <tr style=\"text-align: right;\">\n",
       "      <th></th>\n",
       "      <th>user_id</th>\n",
       "      <th>artist</th>\n",
       "      <th>trackname</th>\n",
       "      <th>playlistname</th>\n",
       "      <th>user_playlistname</th>\n",
       "      <th>playlist_length</th>\n",
       "    </tr>\n",
       "  </thead>\n",
       "  <tbody>\n",
       "    <tr>\n",
       "      <th>0</th>\n",
       "      <td>9cc0cfd4d7d7885102480dd99e7a90d6</td>\n",
       "      <td>Elvis Costello</td>\n",
       "      <td>(The Angels Wanna Wear My) Red Shoes</td>\n",
       "      <td>HARD ROCK 2010</td>\n",
       "      <td>9cc0cfd4d7d7885102480dd99e7a90d6--HARD ROCK 2010</td>\n",
       "      <td>67</td>\n",
       "    </tr>\n",
       "    <tr>\n",
       "      <th>1</th>\n",
       "      <td>9cc0cfd4d7d7885102480dd99e7a90d6</td>\n",
       "      <td>Elvis Costello &amp; The Attractions</td>\n",
       "      <td>(What's So Funny 'Bout) Peace, Love And Unders...</td>\n",
       "      <td>HARD ROCK 2010</td>\n",
       "      <td>9cc0cfd4d7d7885102480dd99e7a90d6--HARD ROCK 2010</td>\n",
       "      <td>67</td>\n",
       "    </tr>\n",
       "    <tr>\n",
       "      <th>2</th>\n",
       "      <td>9cc0cfd4d7d7885102480dd99e7a90d6</td>\n",
       "      <td>Tiffany Page</td>\n",
       "      <td>7 Years Too Late</td>\n",
       "      <td>HARD ROCK 2010</td>\n",
       "      <td>9cc0cfd4d7d7885102480dd99e7a90d6--HARD ROCK 2010</td>\n",
       "      <td>67</td>\n",
       "    </tr>\n",
       "    <tr>\n",
       "      <th>3</th>\n",
       "      <td>9cc0cfd4d7d7885102480dd99e7a90d6</td>\n",
       "      <td>Elvis Costello &amp; The Attractions</td>\n",
       "      <td>Accidents Will Happen</td>\n",
       "      <td>HARD ROCK 2010</td>\n",
       "      <td>9cc0cfd4d7d7885102480dd99e7a90d6--HARD ROCK 2010</td>\n",
       "      <td>67</td>\n",
       "    </tr>\n",
       "    <tr>\n",
       "      <th>4</th>\n",
       "      <td>9cc0cfd4d7d7885102480dd99e7a90d6</td>\n",
       "      <td>Elvis Costello</td>\n",
       "      <td>Alison</td>\n",
       "      <td>HARD ROCK 2010</td>\n",
       "      <td>9cc0cfd4d7d7885102480dd99e7a90d6--HARD ROCK 2010</td>\n",
       "      <td>67</td>\n",
       "    </tr>\n",
       "  </tbody>\n",
       "</table>\n",
       "</div>"
      ],
      "text/plain": [
       "                            user_id                            artist  \\\n",
       "0  9cc0cfd4d7d7885102480dd99e7a90d6                    Elvis Costello   \n",
       "1  9cc0cfd4d7d7885102480dd99e7a90d6  Elvis Costello & The Attractions   \n",
       "2  9cc0cfd4d7d7885102480dd99e7a90d6                      Tiffany Page   \n",
       "3  9cc0cfd4d7d7885102480dd99e7a90d6  Elvis Costello & The Attractions   \n",
       "4  9cc0cfd4d7d7885102480dd99e7a90d6                    Elvis Costello   \n",
       "\n",
       "                                           trackname    playlistname  \\\n",
       "0               (The Angels Wanna Wear My) Red Shoes  HARD ROCK 2010   \n",
       "1  (What's So Funny 'Bout) Peace, Love And Unders...  HARD ROCK 2010   \n",
       "2                                   7 Years Too Late  HARD ROCK 2010   \n",
       "3                              Accidents Will Happen  HARD ROCK 2010   \n",
       "4                                             Alison  HARD ROCK 2010   \n",
       "\n",
       "                                  user_playlistname  playlist_length  \n",
       "0  9cc0cfd4d7d7885102480dd99e7a90d6--HARD ROCK 2010               67  \n",
       "1  9cc0cfd4d7d7885102480dd99e7a90d6--HARD ROCK 2010               67  \n",
       "2  9cc0cfd4d7d7885102480dd99e7a90d6--HARD ROCK 2010               67  \n",
       "3  9cc0cfd4d7d7885102480dd99e7a90d6--HARD ROCK 2010               67  \n",
       "4  9cc0cfd4d7d7885102480dd99e7a90d6--HARD ROCK 2010               67  "
      ]
     },
     "execution_count": 22,
     "metadata": {},
     "output_type": "execute_result"
    }
   ],
   "source": [
    "df.head()"
   ]
  },
  {
   "cell_type": "code",
   "execution_count": 23,
   "metadata": {},
   "outputs": [
    {
     "data": {
      "text/plain": [
       "<matplotlib.axes._subplots.AxesSubplot at 0x1a23643fd0>"
      ]
     },
     "execution_count": 23,
     "metadata": {},
     "output_type": "execute_result"
    },
    {
     "data": {
      "image/png": "[encoded data removed]",
      "text/plain": [
       "<Figure size 432x288 with 1 Axes>"
      ]
     },
     "metadata": {
      "needs_background": "light"
     },
     "output_type": "display_data"
    }
   ],
   "source": [
    "sns.distplot(df.playlist_length)"
   ]
  },
  {
   "cell_type": "code",
   "execution_count": 62,
   "metadata": {},
   "outputs": [],
   "source": [
    "#add column for order in playlist\n",
    "#trim down to only smaller playlists"
   ]
  },
  {
   "cell_type": "code",
   "execution_count": 24,
   "metadata": {},
   "outputs": [
    {
     "data": {
      "text/plain": [
       "12856838"
      ]
     },
     "execution_count": 24,
     "metadata": {},
     "output_type": "execute_result"
    }
   ],
   "source": [
    "#12.8 million\n",
    "df.shape[0]"
   ]
  },
  {
   "cell_type": "code",
   "execution_count": 25,
   "metadata": {},
   "outputs": [
    {
     "data": {
      "text/plain": [
       "12838954"
      ]
     },
     "execution_count": 25,
     "metadata": {},
     "output_type": "execute_result"
    }
   ],
   "source": [
    "#12.8 million\n",
    "df.loc[(df.playlist_length >= 3)].shape[0]"
   ]
  },
  {
   "cell_type": "code",
   "execution_count": 26,
   "metadata": {},
   "outputs": [],
   "source": [
    "#6.4 million\n",
    "df = df.loc[(df.playlist_length <= 200) & (df.playlist_length >= 3)]"
   ]
  },
  {
   "cell_type": "code",
   "execution_count": 27,
   "metadata": {},
   "outputs": [
    {
     "data": {
      "text/plain": [
       "<matplotlib.axes._subplots.AxesSubplot at 0x1a1fca0860>"
      ]
     },
     "execution_count": 27,
     "metadata": {},
     "output_type": "execute_result"
    },
    {
     "data": {
      "image/png": "[encoded data removed]",
      "text/plain": [
       "<Figure size 432x288 with 1 Axes>"
      ]
     },
     "metadata": {
      "needs_background": "light"
     },
     "output_type": "display_data"
    }
   ],
   "source": [
    "sns.distplot(df.playlist_length)"
   ]
  },
  {
   "cell_type": "code",
   "execution_count": 28,
   "metadata": {},
   "outputs": [
    {
     "data": {
      "text/plain": [
       "[('Starred', 173167),\n",
       " ('Liked from Radio', 105288),\n",
       " ('Favoritas de la radio', 18767),\n",
       " ('Christmas', 13674),\n",
       " ('My Shazam Tracks', 10601),\n",
       " ('Country', 7683),\n",
       " ('Rock', 7607),\n",
       " ('Chill', 7235),\n",
       " ('2014', 7112),\n",
       " ('2013', 5871),\n",
       " ('Running', 5573),\n",
       " ('New Playlist', 5428),\n",
       " ('Classical', 5277),\n",
       " ('Coldplay', 4821),\n",
       " ('Jazz', 4809),\n",
       " ('Oldies', 4328),\n",
       " ('Last.fm Recommendations', 4306),\n",
       " ('Rap', 4258),\n",
       " (\"80's\", 4187),\n",
       " ('90s', 3886),\n",
       " ('Dance', 3875),\n",
       " ('Party', 3805),\n",
       " ('Muse', 3751),\n",
       " ('Workout', 3741),\n",
       " ('2015', 3701),\n",
       " ('U2', 3652),\n",
       " ('80s', 3621),\n",
       " ('Eminem', 3529),\n",
       " ('Relax', 3527),\n",
       " ('Hip Hop', 3438),\n",
       " ('2012', 3314),\n",
       " ('Covers', 3279),\n",
       " ('Soundtracks', 3232),\n",
       " ('Reggae', 3173),\n",
       " ('Radiohead', 3112),\n",
       " ('Mis pistas de Shazam', 3100),\n",
       " ('Pop', 2993),\n",
       " ('Blues', 2949),\n",
       " ('Indie', 2895),\n",
       " ('Queen', 2866),\n",
       " ('Summer', 2841),\n",
       " ('Linkin Park', 2748),\n",
       " ('Classics', 2628),\n",
       " ('Daft Punk', 2582),\n",
       " ('Foo Fighters', 2571),\n",
       " ('Disney', 2550),\n",
       " ('Curtida no Rádio', 2545),\n",
       " ('Work', 2519),\n",
       " ('<3', 2506),\n",
       " ('Metallica', 2469)]"
      ]
     },
     "execution_count": 28,
     "metadata": {},
     "output_type": "execute_result"
    }
   ],
   "source": [
    "Counter(df.playlistname).most_common(50)"
   ]
  },
  {
   "cell_type": "code",
   "execution_count": 29,
   "metadata": {},
   "outputs": [],
   "source": [
    "not_real_playlist = [\n",
    "    'Starred',\n",
    "    'Liked from Radio',\n",
    "    'Favoritas de la radio',\n",
    "    'My Shazam Tracks',\n",
    "    'Last.fm Recommendations',\n",
    "    'Mis pistas de Shazam',\n",
    "    'Curtida no Rádio'\n",
    "]"
   ]
  },
  {
   "cell_type": "code",
   "execution_count": 30,
   "metadata": {},
   "outputs": [],
   "source": [
    "df = df[df.playlistname.isin(not_real_playlist) == False]"
   ]
  },
  {
   "cell_type": "code",
   "execution_count": 31,
   "metadata": {},
   "outputs": [
    {
     "data": {
      "text/plain": [
       "<matplotlib.axes._subplots.AxesSubplot at 0x1a1fdc1ba8>"
      ]
     },
     "execution_count": 31,
     "metadata": {},
     "output_type": "execute_result"
    },
    {
     "data": {
      "image/png": "[encoded data removed]",
      "text/plain": [
       "<Figure size 432x288 with 1 Axes>"
      ]
     },
     "metadata": {
      "needs_background": "light"
     },
     "output_type": "display_data"
    }
   ],
   "source": [
    "sns.distplot(df.playlist_length)"
   ]
  },
  {
   "cell_type": "code",
   "execution_count": 32,
   "metadata": {},
   "outputs": [],
   "source": [
    "#playlist_position column"
   ]
  },
  {
   "cell_type": "code",
   "execution_count": 33,
   "metadata": {
    "scrolled": true
   },
   "outputs": [
    {
     "data": {
      "text/html": [
       "<div>\n",
       "<style scoped>\n",
       "    .dataframe tbody tr th:only-of-type {\n",
       "        vertical-align: middle;\n",
       "    }\n",
       "\n",
       "    .dataframe tbody tr th {\n",
       "        vertical-align: top;\n",
       "    }\n",
       "\n",
       "    .dataframe thead th {\n",
       "        text-align: right;\n",
       "    }\n",
       "</style>\n",
       "<table border=\"1\" class=\"dataframe\">\n",
       "  <thead>\n",
       "    <tr style=\"text-align: right;\">\n",
       "      <th></th>\n",
       "      <th>user_id</th>\n",
       "      <th>artist</th>\n",
       "      <th>trackname</th>\n",
       "      <th>playlistname</th>\n",
       "      <th>user_playlistname</th>\n",
       "      <th>playlist_length</th>\n",
       "    </tr>\n",
       "  </thead>\n",
       "  <tbody>\n",
       "    <tr>\n",
       "      <th>0</th>\n",
       "      <td>9cc0cfd4d7d7885102480dd99e7a90d6</td>\n",
       "      <td>Elvis Costello</td>\n",
       "      <td>(The Angels Wanna Wear My) Red Shoes</td>\n",
       "      <td>HARD ROCK 2010</td>\n",
       "      <td>9cc0cfd4d7d7885102480dd99e7a90d6--HARD ROCK 2010</td>\n",
       "      <td>67</td>\n",
       "    </tr>\n",
       "    <tr>\n",
       "      <th>1</th>\n",
       "      <td>9cc0cfd4d7d7885102480dd99e7a90d6</td>\n",
       "      <td>Elvis Costello &amp; The Attractions</td>\n",
       "      <td>(What's So Funny 'Bout) Peace, Love And Unders...</td>\n",
       "      <td>HARD ROCK 2010</td>\n",
       "      <td>9cc0cfd4d7d7885102480dd99e7a90d6--HARD ROCK 2010</td>\n",
       "      <td>67</td>\n",
       "    </tr>\n",
       "    <tr>\n",
       "      <th>2</th>\n",
       "      <td>9cc0cfd4d7d7885102480dd99e7a90d6</td>\n",
       "      <td>Tiffany Page</td>\n",
       "      <td>7 Years Too Late</td>\n",
       "      <td>HARD ROCK 2010</td>\n",
       "      <td>9cc0cfd4d7d7885102480dd99e7a90d6--HARD ROCK 2010</td>\n",
       "      <td>67</td>\n",
       "    </tr>\n",
       "    <tr>\n",
       "      <th>3</th>\n",
       "      <td>9cc0cfd4d7d7885102480dd99e7a90d6</td>\n",
       "      <td>Elvis Costello &amp; The Attractions</td>\n",
       "      <td>Accidents Will Happen</td>\n",
       "      <td>HARD ROCK 2010</td>\n",
       "      <td>9cc0cfd4d7d7885102480dd99e7a90d6--HARD ROCK 2010</td>\n",
       "      <td>67</td>\n",
       "    </tr>\n",
       "    <tr>\n",
       "      <th>4</th>\n",
       "      <td>9cc0cfd4d7d7885102480dd99e7a90d6</td>\n",
       "      <td>Elvis Costello</td>\n",
       "      <td>Alison</td>\n",
       "      <td>HARD ROCK 2010</td>\n",
       "      <td>9cc0cfd4d7d7885102480dd99e7a90d6--HARD ROCK 2010</td>\n",
       "      <td>67</td>\n",
       "    </tr>\n",
       "  </tbody>\n",
       "</table>\n",
       "</div>"
      ],
      "text/plain": [
       "                            user_id                            artist  \\\n",
       "0  9cc0cfd4d7d7885102480dd99e7a90d6                    Elvis Costello   \n",
       "1  9cc0cfd4d7d7885102480dd99e7a90d6  Elvis Costello & The Attractions   \n",
       "2  9cc0cfd4d7d7885102480dd99e7a90d6                      Tiffany Page   \n",
       "3  9cc0cfd4d7d7885102480dd99e7a90d6  Elvis Costello & The Attractions   \n",
       "4  9cc0cfd4d7d7885102480dd99e7a90d6                    Elvis Costello   \n",
       "\n",
       "                                           trackname    playlistname  \\\n",
       "0               (The Angels Wanna Wear My) Red Shoes  HARD ROCK 2010   \n",
       "1  (What's So Funny 'Bout) Peace, Love And Unders...  HARD ROCK 2010   \n",
       "2                                   7 Years Too Late  HARD ROCK 2010   \n",
       "3                              Accidents Will Happen  HARD ROCK 2010   \n",
       "4                                             Alison  HARD ROCK 2010   \n",
       "\n",
       "                                  user_playlistname  playlist_length  \n",
       "0  9cc0cfd4d7d7885102480dd99e7a90d6--HARD ROCK 2010               67  \n",
       "1  9cc0cfd4d7d7885102480dd99e7a90d6--HARD ROCK 2010               67  \n",
       "2  9cc0cfd4d7d7885102480dd99e7a90d6--HARD ROCK 2010               67  \n",
       "3  9cc0cfd4d7d7885102480dd99e7a90d6--HARD ROCK 2010               67  \n",
       "4  9cc0cfd4d7d7885102480dd99e7a90d6--HARD ROCK 2010               67  "
      ]
     },
     "execution_count": 33,
     "metadata": {},
     "output_type": "execute_result"
    }
   ],
   "source": [
    "df.head()"
   ]
  },
  {
   "cell_type": "code",
   "execution_count": 34,
   "metadata": {},
   "outputs": [],
   "source": [
    "df['artist_trackname'] = df['artist'] + '--' + df['trackname']"
   ]
  },
  {
   "cell_type": "code",
   "execution_count": 35,
   "metadata": {},
   "outputs": [
    {
     "data": {
      "text/html": [
       "<div>\n",
       "<style scoped>\n",
       "    .dataframe tbody tr th:only-of-type {\n",
       "        vertical-align: middle;\n",
       "    }\n",
       "\n",
       "    .dataframe tbody tr th {\n",
       "        vertical-align: top;\n",
       "    }\n",
       "\n",
       "    .dataframe thead th {\n",
       "        text-align: right;\n",
       "    }\n",
       "</style>\n",
       "<table border=\"1\" class=\"dataframe\">\n",
       "  <thead>\n",
       "    <tr style=\"text-align: right;\">\n",
       "      <th></th>\n",
       "      <th>user_id</th>\n",
       "      <th>artist</th>\n",
       "      <th>trackname</th>\n",
       "      <th>playlistname</th>\n",
       "      <th>user_playlistname</th>\n",
       "      <th>playlist_length</th>\n",
       "      <th>artist_trackname</th>\n",
       "    </tr>\n",
       "  </thead>\n",
       "  <tbody>\n",
       "    <tr>\n",
       "      <th>0</th>\n",
       "      <td>9cc0cfd4d7d7885102480dd99e7a90d6</td>\n",
       "      <td>Elvis Costello</td>\n",
       "      <td>(The Angels Wanna Wear My) Red Shoes</td>\n",
       "      <td>HARD ROCK 2010</td>\n",
       "      <td>9cc0cfd4d7d7885102480dd99e7a90d6--HARD ROCK 2010</td>\n",
       "      <td>67</td>\n",
       "      <td>Elvis Costello--(The Angels Wanna Wear My) Red...</td>\n",
       "    </tr>\n",
       "    <tr>\n",
       "      <th>1</th>\n",
       "      <td>9cc0cfd4d7d7885102480dd99e7a90d6</td>\n",
       "      <td>Elvis Costello &amp; The Attractions</td>\n",
       "      <td>(What's So Funny 'Bout) Peace, Love And Unders...</td>\n",
       "      <td>HARD ROCK 2010</td>\n",
       "      <td>9cc0cfd4d7d7885102480dd99e7a90d6--HARD ROCK 2010</td>\n",
       "      <td>67</td>\n",
       "      <td>Elvis Costello &amp; The Attractions--(What's So F...</td>\n",
       "    </tr>\n",
       "    <tr>\n",
       "      <th>2</th>\n",
       "      <td>9cc0cfd4d7d7885102480dd99e7a90d6</td>\n",
       "      <td>Tiffany Page</td>\n",
       "      <td>7 Years Too Late</td>\n",
       "      <td>HARD ROCK 2010</td>\n",
       "      <td>9cc0cfd4d7d7885102480dd99e7a90d6--HARD ROCK 2010</td>\n",
       "      <td>67</td>\n",
       "      <td>Tiffany Page--7 Years Too Late</td>\n",
       "    </tr>\n",
       "    <tr>\n",
       "      <th>3</th>\n",
       "      <td>9cc0cfd4d7d7885102480dd99e7a90d6</td>\n",
       "      <td>Elvis Costello &amp; The Attractions</td>\n",
       "      <td>Accidents Will Happen</td>\n",
       "      <td>HARD ROCK 2010</td>\n",
       "      <td>9cc0cfd4d7d7885102480dd99e7a90d6--HARD ROCK 2010</td>\n",
       "      <td>67</td>\n",
       "      <td>Elvis Costello &amp; The Attractions--Accidents Wi...</td>\n",
       "    </tr>\n",
       "    <tr>\n",
       "      <th>4</th>\n",
       "      <td>9cc0cfd4d7d7885102480dd99e7a90d6</td>\n",
       "      <td>Elvis Costello</td>\n",
       "      <td>Alison</td>\n",
       "      <td>HARD ROCK 2010</td>\n",
       "      <td>9cc0cfd4d7d7885102480dd99e7a90d6--HARD ROCK 2010</td>\n",
       "      <td>67</td>\n",
       "      <td>Elvis Costello--Alison</td>\n",
       "    </tr>\n",
       "  </tbody>\n",
       "</table>\n",
       "</div>"
      ],
      "text/plain": [
       "                            user_id                            artist  \\\n",
       "0  9cc0cfd4d7d7885102480dd99e7a90d6                    Elvis Costello   \n",
       "1  9cc0cfd4d7d7885102480dd99e7a90d6  Elvis Costello & The Attractions   \n",
       "2  9cc0cfd4d7d7885102480dd99e7a90d6                      Tiffany Page   \n",
       "3  9cc0cfd4d7d7885102480dd99e7a90d6  Elvis Costello & The Attractions   \n",
       "4  9cc0cfd4d7d7885102480dd99e7a90d6                    Elvis Costello   \n",
       "\n",
       "                                           trackname    playlistname  \\\n",
       "0               (The Angels Wanna Wear My) Red Shoes  HARD ROCK 2010   \n",
       "1  (What's So Funny 'Bout) Peace, Love And Unders...  HARD ROCK 2010   \n",
       "2                                   7 Years Too Late  HARD ROCK 2010   \n",
       "3                              Accidents Will Happen  HARD ROCK 2010   \n",
       "4                                             Alison  HARD ROCK 2010   \n",
       "\n",
       "                                  user_playlistname  playlist_length  \\\n",
       "0  9cc0cfd4d7d7885102480dd99e7a90d6--HARD ROCK 2010               67   \n",
       "1  9cc0cfd4d7d7885102480dd99e7a90d6--HARD ROCK 2010               67   \n",
       "2  9cc0cfd4d7d7885102480dd99e7a90d6--HARD ROCK 2010               67   \n",
       "3  9cc0cfd4d7d7885102480dd99e7a90d6--HARD ROCK 2010               67   \n",
       "4  9cc0cfd4d7d7885102480dd99e7a90d6--HARD ROCK 2010               67   \n",
       "\n",
       "                                    artist_trackname  \n",
       "0  Elvis Costello--(The Angels Wanna Wear My) Red...  \n",
       "1  Elvis Costello & The Attractions--(What's So F...  \n",
       "2                     Tiffany Page--7 Years Too Late  \n",
       "3  Elvis Costello & The Attractions--Accidents Wi...  \n",
       "4                             Elvis Costello--Alison  "
      ]
     },
     "execution_count": 35,
     "metadata": {},
     "output_type": "execute_result"
    }
   ],
   "source": [
    "df.head()"
   ]
  },
  {
   "cell_type": "markdown",
   "metadata": {},
   "source": [
    "### The faster way"
   ]
  },
  {
   "cell_type": "code",
   "execution_count": 37,
   "metadata": {},
   "outputs": [],
   "source": [
    "df['playlist_position'] = df.groupby('user_playlistname').cumcount(ascending=True)"
   ]
  },
  {
   "cell_type": "code",
   "execution_count": null,
   "metadata": {},
   "outputs": [],
   "source": []
  }
 ],
 "metadata": {
  "kernelspec": {
   "display_name": "Python 3",
   "language": "python",
   "name": "python3"
  },
  "language_info": {
   "codemirror_mode": {
    "name": "ipython",
    "version": 3
   },
   "file_extension": ".py",
   "mimetype": "text/x-python",
   "name": "python",
   "nbconvert_exporter": "python",
   "pygments_lexer": "ipython3",
   "version": "3.6.8"
  }
 },
 "nbformat": 4,
 "nbformat_minor": 2
}
