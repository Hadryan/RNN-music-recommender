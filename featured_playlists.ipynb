{
 "cells": [
  {
   "cell_type": "code",
   "execution_count": 35,
   "metadata": {},
   "outputs": [],
   "source": [
    "import api_keys\n",
    "import spotipy\n",
    "from spotipy.oauth2 import SpotifyClientCredentials"
   ]
  },
  {
   "cell_type": "code",
   "execution_count": 95,
   "metadata": {},
   "outputs": [],
   "source": [
    "sp = spotipy.Spotify(\n",
    "    client_credentials_manager = SpotifyClientCredentials(\n",
    "        client_id=api_keys.CLIENT_ID,\n",
    "        client_secret=api_keys.CLIENT_SECRET\n",
    "    )    \n",
    ")\n",
    "\n",
    "def get_playlist_ids(date,offset):\n",
    "    '''\n",
    "    Get playlist ids for a particular day\n",
    "    Inputs: date in ISO-8601 format\n",
    "            offfset - page number\n",
    "    Output: list of playlist ids\n",
    "    '''\n",
    "    return [d['id'] for d in sp.featured_playlists(\n",
    "        locale=None,\n",
    "        country='US',\n",
    "        timestamp=date,\n",
    "        limit=50,\n",
    "        offset=offset*50\n",
    "    )['playlists']['items']]\n",
    "    \n",
    "def get_playlist_tracks(id_):\n",
    "    '''\n",
    "    Get the tracks for a spotify playlist.\n",
    "    Input: playlist ID\n",
    "    Output: list of song IDs\n",
    "    '''\n",
    "    return [i['track']['id'] for i in sp.user_playlist('spotify',id_)['tracks']['items']]\n",
    "\n",
    "def get_song_features(ids):\n",
    "    '''\n",
    "    Get song features for each song in a list\n",
    "    '''\n",
    "    return [sp.audio_features(_) for _ in ids]"
   ]
  },
  {
   "cell_type": "code",
   "execution_count": 84,
   "metadata": {},
   "outputs": [
    {
     "data": {
      "text/plain": [
       "['37i9dQZF1DWWBHeXOYZf74',\n",
       " '37i9dQZF1DX0SM0LYsmbMT',\n",
       " '37i9dQZF1DX2A29LI7xHn1',\n",
       " '37i9dQZF1DWTfrr8pte1rT',\n",
       " '37i9dQZF1DX4y8h9WqDPAE',\n",
       " '37i9dQZF1DWXMg4uP5o3dm',\n",
       " '37i9dQZF1DWUxHPh2rEiHr',\n",
       " '37i9dQZF1DXadasIcsfbqh',\n",
       " '37i9dQZF1DWSfMe9z89s9B',\n",
       " '37i9dQZF1DX55dNU0PWnO5']"
      ]
     },
     "execution_count": 84,
     "metadata": {},
     "output_type": "execute_result"
    }
   ],
   "source": [
    "get_playlist_ids('2019-08-06T19:47:31',0)"
   ]
  },
  {
   "cell_type": "code",
   "execution_count": 82,
   "metadata": {
    "scrolled": true
   },
   "outputs": [
    {
     "data": {
      "text/plain": [
       "['4PvbbMYL4fkToni5BLaYRb',\n",
       " '5fiR9Dy9hNXEPZOLo1kyNb',\n",
       " '1GZH9Sv6zCIse2GKihRHKy',\n",
       " '3vEOALYBUNQUMXpqhWx3hG',\n",
       " '6wE9qLKJu7DovH54rvrSVs',\n",
       " '3hMvsYZjU1pFH0xoywKXA9',\n",
       " '2LmQRj2QIzoyv9GcwGZslt',\n",
       " '3FsL491yGtc7Lwq1onHAsn',\n",
       " '5XR4V6uo2NCLkke1DyOcPY',\n",
       " '2urQEPkvz0ISpmqrKoSvwA']"
      ]
     },
     "execution_count": 82,
     "metadata": {},
     "output_type": "execute_result"
    }
   ],
   "source": [
    "get_playlist_tracks('37i9dQZF1DWWBHeXOYZf74')[0:10]"
   ]
  },
  {
   "cell_type": "code",
   "execution_count": 87,
   "metadata": {},
   "outputs": [
    {
     "data": {
      "text/plain": [
       "[{'danceability': 0.73,\n",
       "  'energy': 0.634,\n",
       "  'key': 2,\n",
       "  'loudness': -5.116,\n",
       "  'mode': 1,\n",
       "  'speechiness': 0.297,\n",
       "  'acousticness': 0.324,\n",
       "  'instrumentalness': 6.16e-05,\n",
       "  'liveness': 0.0712,\n",
       "  'valence': 0.47,\n",
       "  'tempo': 79.554,\n",
       "  'type': 'audio_features',\n",
       "  'id': '5fiR9Dy9hNXEPZOLo1kyNb',\n",
       "  'uri': 'spotify:track:5fiR9Dy9hNXEPZOLo1kyNb',\n",
       "  'track_href': 'https://api.spotify.com/v1/tracks/5fiR9Dy9hNXEPZOLo1kyNb',\n",
       "  'analysis_url': 'https://api.spotify.com/v1/audio-analysis/5fiR9Dy9hNXEPZOLo1kyNb',\n",
       "  'duration_ms': 219720,\n",
       "  'time_signature': 4}]"
      ]
     },
     "execution_count": 87,
     "metadata": {},
     "output_type": "execute_result"
    }
   ],
   "source": [
    "sp.audio_features('5fiR9Dy9hNXEPZOLo1kyNb')"
   ]
  }
 ],
 "metadata": {
  "kernelspec": {
   "display_name": "Python 3",
   "language": "python",
   "name": "python3"
  },
  "language_info": {
   "codemirror_mode": {
    "name": "ipython",
    "version": 3
   },
   "file_extension": ".py",
   "mimetype": "text/x-python",
   "name": "python",
   "nbconvert_exporter": "python",
   "pygments_lexer": "ipython3",
   "version": "3.6.8"
  }
 },
 "nbformat": 4,
 "nbformat_minor": 2
}
