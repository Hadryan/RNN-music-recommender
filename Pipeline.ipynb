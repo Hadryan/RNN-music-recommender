{
 "cells": [
  {
   "cell_type": "code",
   "execution_count": 2,
   "metadata": {},
   "outputs": [
    {
     "data": {
      "text/html": [
       "        <script type=\"text/javascript\">\n",
       "        window.PlotlyConfig = {MathJaxConfig: 'local'};\n",
       "        if (window.MathJax) {MathJax.Hub.Config({SVG: {font: \"STIX-Web\"}});}\n",
       "        if (typeof require !== 'undefined') {\n",
       "        require.undef(\"plotly\");\n",
       "        requirejs.config({\n",
       "            paths: {\n",
       "                'plotly': ['https://cdn.plot.ly/plotly-latest.min']\n",
       "            }\n",
       "        });\n",
       "        require(['plotly'], function(Plotly) {\n",
       "            window._Plotly = Plotly;\n",
       "        });\n",
       "        }\n",
       "        </script>\n",
       "        "
      ]
     },
     "metadata": {},
     "output_type": "display_data"
    }
   ],
   "source": [
    "#data\n",
    "import numpy as np\n",
    "import numpy_indexed as npi\n",
    "import pandas as pd\n",
    "from scipy.spatial.distance import cdist\n",
    "from sklearn.externals import joblib\n",
    "from keras.models import load_model\n",
    "#visualization\n",
    "from plotly.offline import download_plotlyjs, init_notebook_mode, plot, iplot\n",
    "init_notebook_mode(connected=True)\n",
    "import plotly.graph_objs as go\n",
    "#APIs\n",
    "import spotipy\n",
    "from spotipy.oauth2 import SpotifyClientCredentials\n",
    "#API Keys\n",
    "import api_keys\n",
    "#Utils\n",
    "from tqdm import tqdm_notebook as tqdm\n",
    "from IPython.display import display"
   ]
  },
  {
   "cell_type": "code",
   "execution_count": 4,
   "metadata": {},
   "outputs": [],
   "source": [
    "#get model, y-j transformer, std-scaler, PCA, and RNN model\n",
    "model = load_model('cloud/model.h5')\n",
    "std_scaler = joblib.load('scalers/std_scaler.pkl')\n",
    "y_j = joblib.load('scalers/yeo_johnson.pkl')\n",
    "pca = joblib.load('scalers/pca.pkl')\n",
    "\n",
    "features = [\n",
    "    'mode',\n",
    "    'acousticness',\n",
    "    'danceability',\n",
    "    'energy',\n",
    "    'instrumentalness',\n",
    "    'liveness',\n",
    "    'loudness',\n",
    "    'speechiness',\n",
    "    'valence',\n",
    "] "
   ]
  },
  {
   "cell_type": "code",
   "execution_count": 5,
   "metadata": {},
   "outputs": [],
   "source": [
    "#Authenticate\n",
    "sp = spotipy.Spotify(\n",
    "    client_credentials_manager = SpotifyClientCredentials(\n",
    "        client_id=api_keys.CLIENT_ID,\n",
    "        client_secret=api_keys.CLIENT_SECRET\n",
    "    )\n",
    ") "
   ]
  },
  {
   "cell_type": "code",
   "execution_count": 9,
   "metadata": {},
   "outputs": [],
   "source": [
    "class Playlist():\n",
    "    playlists = {}\n",
    "    def __init__(self):\n",
    "        self.name = input('Playlist Name:')\n",
    "        Playlist.playlists[self.name] = self\n",
    "        self.init_song_strings = []\n",
    "        self.search_results = []\n",
    "        self.recommended_track_ids = [] #list of track ids straight from spotify\n",
    "        self.trax = [] #all tracks as dict\n",
    "        self.df = None #this is where the data goes\n",
    "        self.playlist = None\n",
    "        \n",
    "        #input your songs\n",
    "        self.init_song_strings.append(input('Song 1: '))\n",
    "        self.init_song_strings.append(input('Song 2: '))\n",
    "        self.init_song_strings.append(input('Song 3: '))\n",
    "        \n",
    "        # DO EVERYTHING\n",
    "        self.get_recommendations()\n",
    "        self.get_features()\n",
    "        self.transform()\n",
    "        self.build_playlist() \n",
    "        self.show_playlist() \n",
    "        self.do_pca()\n",
    "        \n",
    "    def get_recommendations(self):\n",
    "        print('Getting Recommendations...')\n",
    "        for ss in self.init_song_strings:\n",
    "            r = sp.search(ss,limit=1)['tracks']['items'][0]\n",
    "            self.search_results.append({\n",
    "                        'id':r['id'],\n",
    "                        'artists':[i['name'] for i in r['artists']],\n",
    "                        'name':r['name']\n",
    "                })\n",
    "        for id_ in tqdm(self.search_results):\n",
    "            #append to self.recommended_track_ids\n",
    "            results = sp.recommendations(seed_tracks = [id_['id']],limit=100)\n",
    "            for r in results['tracks']:\n",
    "                if r['id'] not in [i['id'] for i in self.recommended_track_ids]:\n",
    "                    self.recommended_track_ids.append({\n",
    "                        'id':r['id'],\n",
    "                        'artists':[i['name'] for i in r['artists']],\n",
    "                        'name':r['name']\n",
    "                        }) #there may be duplicates\n",
    "    \n",
    "    def get_features(self):\n",
    "        print('Getting Initial Song Features')\n",
    "        for id_ in tqdm(self.search_results):\n",
    "            dict_ = sp.audio_features(id_['id'])[0]\n",
    "            dict_.update(id_)\n",
    "            self.trax.append(dict_)\n",
    "        print('Getting Recommended Song Features')\n",
    "        for id_ in tqdm(self.recommended_track_ids):\n",
    "            dict_ = sp.audio_features(id_['id'])[0]\n",
    "            dict_.update(id_)\n",
    "            self.trax.append(dict_)\n",
    "    \n",
    "    def transform(self):\n",
    "        '''\n",
    "        rehape and then apply yeo-johnson and standard scaler transformations - \n",
    "        these are already trained above and are global vars\n",
    "        '''\n",
    "        print('Applying Transformations...')\n",
    "\n",
    "        columns = ['id','artists','name','tempo','time_signature','key',] + features\n",
    "        self.df = pd.DataFrame(self.trax)[columns].dropna()\n",
    "        self.df[features[1:]] = std_scaler.transform(y_j.transform(self.df[features[1:]]))\n",
    "        self.playlist = self.df.iloc[0:3].copy()\n",
    "        \n",
    "    def rnn_predict(self):\n",
    "        return model.predict(np.array(\n",
    "            [np.array(\n",
    "                self.playlist[features]\n",
    "            )]\n",
    "        ))[0,-1]\n",
    "    \n",
    "    @staticmethod\n",
    "    def tempo_similarity(t1,t2):\n",
    "        if t1 <= 0:\n",
    "             return -1\n",
    "        t2 *= (t2 > 0)\n",
    "        return np.cos(2*np.pi*np.log2(t1/t2))\n",
    "    \n",
    "    @staticmethod\n",
    "    def key_similarity(s1,s2):\n",
    "        '''between -1 and 1, 1 being most similar\n",
    "        uses the circle of fifths - optimized for broadcasting\n",
    "        perfect fifth and same octave are given values of 1.\n",
    "        s1 - a single song (row of dataframe)\n",
    "        s2 - many songs (multiple rows of dataframe)\n",
    "        '''\n",
    "        #get relative major:\n",
    "        #this is for each and is NOT OPTIMIZED >:(\n",
    "        k1 = s1['key']\n",
    "        k2 = s2['key']\n",
    "        m1 = s1['mode']\n",
    "        m2 = s2['mode']\n",
    "        #broadcast dat b00lean\n",
    "        k1 += 3*(m1==0)\n",
    "        k2 += 3*(m2==0)\n",
    "        #get remainder\n",
    "        k1,k2 = np.remainder((k1,k2),12)\n",
    "        #get the position\n",
    "        circle_of_fifths = {0:0,7:1,2:2,9:3,4:4,11:5,6:6,1:7,8:8,3:9,10:10,5:11,}\n",
    "        #return similarity\n",
    "        #https://stackoverflow.com/questions/32243062/numpy-broadcast-through-dictionary\n",
    "        diff = np.abs(\n",
    "            circle_of_fifths[k1] - npi.remap(k2, list(circle_of_fifths.keys()), list(circle_of_fifths.values()))\n",
    "        )\n",
    "        diff = np.abs((diff>6)*12-diff)\n",
    "        return 1 - ((diff == 0) + diff - 1)/2.5\n",
    "    \n",
    "    def argmin_song(self,songs):\n",
    "        '''get the next song song which minimizes objective function,\n",
    "        which itself is a function of uses key_similarity, tempo_similarity,\n",
    "        and euclidian distance to the vector given by rnn_predict.\n",
    "        alpha, beta, and gamma are tuning parameters.\n",
    "        '''\n",
    "        song = self.playlist.iloc[-1]\n",
    "        \n",
    "        alpha = 1 #how much to count distance\n",
    "        beta = 1 #how much to count key similarity\n",
    "        gamma = 1 #how much to count tempo similarity\n",
    "        delta = 1.5 #scaler for RNN vector\n",
    "        \n",
    "        distance = cdist([self.rnn_predict()*delta],songs[features[1:]])[0]\n",
    "        key_similarity = Playlist.key_similarity(song,songs)\n",
    "        tempo_similarity = Playlist.tempo_similarity(song['tempo'],songs['tempo']).values\n",
    "        \n",
    "        \n",
    "        \n",
    "        return songs.reset_index().iloc[np.argmin(\n",
    "            alpha*distance - beta*key_similarity - gamma*tempo_similarity\n",
    "        )]\n",
    "    \n",
    "    def build_playlist(self):\n",
    "        '''use self.argmin_song() to build the whole playlist'''\n",
    "        print('Determining Best Song Sequence...')\n",
    "        for i in tqdm(range(10)):\n",
    "            songs = self.df[~self.df['id'].isin(self.playlist['id'].to_list())]\n",
    "            self.playlist = self.playlist.append(self.argmin_song(songs), ignore_index = True)\n",
    "    \n",
    "    def show_playlist(self):\n",
    "        'give the playlist showing (artist,song,id) in a dataframe'\n",
    "        display(self.playlist[['artists','name','id']])\n",
    "    \n",
    "    def do_pca(self):\n",
    "        'do the nice 3d graph based on global trained PCA'\n",
    "        print('Visualizing...')\n",
    "        x,y,z = pca.transform(self.playlist[features[1:]]).T\n",
    "        fig = go.Figure(data=[go.Scatter3d(\n",
    "            x=x,y=y,z=z,\n",
    "            mode='lines+markers',\n",
    "            text=self.playlist['artists'].apply(lambda x: ', '.join(x)) \\\n",
    "            + ' - ' + self.playlist['name'].astype(str),\n",
    "            marker=dict(\n",
    "                size=5,\n",
    "                color=z,                # set color to an array/list of desired values\n",
    "                colorscale='Viridis',   # choose a colorscale\n",
    "                opacity=0.8,\n",
    "            ),\n",
    "            line=dict(\n",
    "            color='#000000',\n",
    "            width=1\n",
    "        ) \n",
    "        )])\n",
    "        fig.update_layout(\n",
    "            margin=dict(l=0, r=0, b=0, t=0),\n",
    "            scene={\n",
    "                'xaxis_title':'PC0',\n",
    "                'yaxis_title':'PC1',\n",
    "                'zaxis_title':'PC2'\n",
    "            }\n",
    "        ),\n",
    "        fig.show()"
   ]
  },
  {
   "cell_type": "code",
   "execution_count": 10,
   "metadata": {
    "scrolled": false
   },
   "outputs": [
    {
     "name": "stdout",
     "output_type": "stream",
     "text": [
      "Playlist Name:test delta\n",
      "Song 1: kaytranada\n",
      "Song 2: bonobo\n",
      "Song 3: disclosure\n",
      "Getting Recommendations...\n"
     ]
    },
    {
     "data": {
      "application/vnd.jupyter.widget-view+json": {
       "model_id": "ef3f5e3188bc4e78be4c8b635f45c652",
       "version_major": 2,
       "version_minor": 0
      },
      "text/plain": [
       "HBox(children=(IntProgress(value=0, max=3), HTML(value='')))"
      ]
     },
     "metadata": {},
     "output_type": "display_data"
    },
    {
     "name": "stdout",
     "output_type": "stream",
     "text": [
      "\n",
      "Getting Initial Song Features\n"
     ]
    },
    {
     "data": {
      "application/vnd.jupyter.widget-view+json": {
       "model_id": "9b94aeda9d53462194f4672bfef82108",
       "version_major": 2,
       "version_minor": 0
      },
      "text/plain": [
       "HBox(children=(IntProgress(value=0, max=3), HTML(value='')))"
      ]
     },
     "metadata": {},
     "output_type": "display_data"
    },
    {
     "name": "stdout",
     "output_type": "stream",
     "text": [
      "\n",
      "Getting Recommended Song Features\n"
     ]
    },
    {
     "data": {
      "application/vnd.jupyter.widget-view+json": {
       "model_id": "c3cb7e7b54784386a2214066438ad523",
       "version_major": 2,
       "version_minor": 0
      },
      "text/plain": [
       "HBox(children=(IntProgress(value=0, max=296), HTML(value='')))"
      ]
     },
     "metadata": {},
     "output_type": "display_data"
    },
    {
     "name": "stdout",
     "output_type": "stream",
     "text": [
      "\n",
      "Applying Transformations...\n",
      "Determining Best Song Sequence...\n"
     ]
    },
    {
     "data": {
      "application/vnd.jupyter.widget-view+json": {
       "model_id": "1833e383d4d345d294bf67729df84cbc",
       "version_major": 2,
       "version_minor": 0
      },
      "text/plain": [
       "HBox(children=(IntProgress(value=0, max=10), HTML(value='')))"
      ]
     },
     "metadata": {},
     "output_type": "display_data"
    },
    {
     "name": "stdout",
     "output_type": "stream",
     "text": [
      "\n"
     ]
    },
    {
     "data": {
      "text/html": [
       "<div>\n",
       "<style scoped>\n",
       "    .dataframe tbody tr th:only-of-type {\n",
       "        vertical-align: middle;\n",
       "    }\n",
       "\n",
       "    .dataframe tbody tr th {\n",
       "        vertical-align: top;\n",
       "    }\n",
       "\n",
       "    .dataframe thead th {\n",
       "        text-align: right;\n",
       "    }\n",
       "</style>\n",
       "<table border=\"1\" class=\"dataframe\">\n",
       "  <thead>\n",
       "    <tr style=\"text-align: right;\">\n",
       "      <th></th>\n",
       "      <th>artists</th>\n",
       "      <th>name</th>\n",
       "      <th>id</th>\n",
       "    </tr>\n",
       "  </thead>\n",
       "  <tbody>\n",
       "    <tr>\n",
       "      <th>0</th>\n",
       "      <td>[KAYTRANADA, Shay Lia]</td>\n",
       "      <td>CHANCES</td>\n",
       "      <td>439X8jGytErRiPnaoUJHju</td>\n",
       "    </tr>\n",
       "    <tr>\n",
       "      <th>1</th>\n",
       "      <td>[Bonobo]</td>\n",
       "      <td>Linked</td>\n",
       "      <td>3rCtueI7qBN2kZBZnXuk5K</td>\n",
       "    </tr>\n",
       "    <tr>\n",
       "      <th>2</th>\n",
       "      <td>[Khalid, Disclosure]</td>\n",
       "      <td>Talk</td>\n",
       "      <td>0rTV5WefWd1J3OwIheTzxM</td>\n",
       "    </tr>\n",
       "    <tr>\n",
       "      <th>3</th>\n",
       "      <td>[Ruel]</td>\n",
       "      <td>Painkiller</td>\n",
       "      <td>1abFkY2jm6KDFMZ7RD9YJh</td>\n",
       "    </tr>\n",
       "    <tr>\n",
       "      <th>4</th>\n",
       "      <td>[Moon Boots, Nic Hanson]</td>\n",
       "      <td>Keep The Faith</td>\n",
       "      <td>5d6C3XycqRLFAGLtyO3Rfx</td>\n",
       "    </tr>\n",
       "    <tr>\n",
       "      <th>5</th>\n",
       "      <td>[Rex Orange County, Benny Sings]</td>\n",
       "      <td>Loving Is Easy</td>\n",
       "      <td>5EYi2rH4LYs6M21ZLOyQTx</td>\n",
       "    </tr>\n",
       "    <tr>\n",
       "      <th>6</th>\n",
       "      <td>[Queen Naija]</td>\n",
       "      <td>Butterflies</td>\n",
       "      <td>4A58lXGBRCg2cumRXTRxHO</td>\n",
       "    </tr>\n",
       "    <tr>\n",
       "      <th>7</th>\n",
       "      <td>[Franc Moody]</td>\n",
       "      <td>Dance Moves</td>\n",
       "      <td>1DriOnyA5tFc2bUdM6nglI</td>\n",
       "    </tr>\n",
       "    <tr>\n",
       "      <th>8</th>\n",
       "      <td>[Elder Island]</td>\n",
       "      <td>Black Fur</td>\n",
       "      <td>3Ipgo2twyvBySMwsTzunlH</td>\n",
       "    </tr>\n",
       "    <tr>\n",
       "      <th>9</th>\n",
       "      <td>[LEISURE]</td>\n",
       "      <td>On My Mind</td>\n",
       "      <td>2MIAO0Bqj54tY3uQ9wP7KG</td>\n",
       "    </tr>\n",
       "    <tr>\n",
       "      <th>10</th>\n",
       "      <td>[Tirzah]</td>\n",
       "      <td>Holding On</td>\n",
       "      <td>4RjwMyr4D2W4py79Heop9l</td>\n",
       "    </tr>\n",
       "    <tr>\n",
       "      <th>11</th>\n",
       "      <td>[Ali Gatie]</td>\n",
       "      <td>Moonlight</td>\n",
       "      <td>72pv4E0eBIcE9z8V4tPHui</td>\n",
       "    </tr>\n",
       "    <tr>\n",
       "      <th>12</th>\n",
       "      <td>[Loud Luxury, Brando]</td>\n",
       "      <td>Body (feat. Brando)</td>\n",
       "      <td>7K7MUBCnzgBAvMVW2RTWNs</td>\n",
       "    </tr>\n",
       "  </tbody>\n",
       "</table>\n",
       "</div>"
      ],
      "text/plain": [
       "                             artists                 name  \\\n",
       "0             [KAYTRANADA, Shay Lia]              CHANCES   \n",
       "1                           [Bonobo]               Linked   \n",
       "2               [Khalid, Disclosure]                 Talk   \n",
       "3                             [Ruel]           Painkiller   \n",
       "4           [Moon Boots, Nic Hanson]       Keep The Faith   \n",
       "5   [Rex Orange County, Benny Sings]       Loving Is Easy   \n",
       "6                      [Queen Naija]          Butterflies   \n",
       "7                      [Franc Moody]          Dance Moves   \n",
       "8                     [Elder Island]            Black Fur   \n",
       "9                          [LEISURE]           On My Mind   \n",
       "10                          [Tirzah]           Holding On   \n",
       "11                       [Ali Gatie]            Moonlight   \n",
       "12             [Loud Luxury, Brando]  Body (feat. Brando)   \n",
       "\n",
       "                        id  \n",
       "0   439X8jGytErRiPnaoUJHju  \n",
       "1   3rCtueI7qBN2kZBZnXuk5K  \n",
       "2   0rTV5WefWd1J3OwIheTzxM  \n",
       "3   1abFkY2jm6KDFMZ7RD9YJh  \n",
       "4   5d6C3XycqRLFAGLtyO3Rfx  \n",
       "5   5EYi2rH4LYs6M21ZLOyQTx  \n",
       "6   4A58lXGBRCg2cumRXTRxHO  \n",
       "7   1DriOnyA5tFc2bUdM6nglI  \n",
       "8   3Ipgo2twyvBySMwsTzunlH  \n",
       "9   2MIAO0Bqj54tY3uQ9wP7KG  \n",
       "10  4RjwMyr4D2W4py79Heop9l  \n",
       "11  72pv4E0eBIcE9z8V4tPHui  \n",
       "12  7K7MUBCnzgBAvMVW2RTWNs  "
      ]
     },
     "metadata": {},
     "output_type": "display_data"
    },
    {
     "name": "stdout",
     "output_type": "stream",
     "text": [
      "Visualizing...\n"
     ]
    },
    {
     "data": {
      "application/vnd.plotly.v1+json": {
       "config": {
        "plotlyServerURL": "https://plot.ly"
       },
       "data": [
        {
         "line": {
          "color": "#000000",
          "width": 1
         },
         "marker": {
          "color": [
           -1.6688431904353398,
           1.005052353657821,
           -0.24692851358992923,
           -0.37594164517880574,
           0.55276484749264,
           0.269475934619354,
           -0.18513629623393021,
           0.8929256105187618,
           0.7204697034608,
           0.481368201430225,
           0.5574100440933893,
           0.4268427830562062,
           1.5902328596402548
          ],
          "colorscale": [
           [
            0,
            "#440154"
           ],
           [
            0.1111111111111111,
            "#482878"
           ],
           [
            0.2222222222222222,
            "#3e4989"
           ],
           [
            0.3333333333333333,
            "#31688e"
           ],
           [
            0.4444444444444444,
            "#26828e"
           ],
           [
            0.5555555555555556,
            "#1f9e89"
           ],
           [
            0.6666666666666666,
            "#35b779"
           ],
           [
            0.7777777777777778,
            "#6ece58"
           ],
           [
            0.8888888888888888,
            "#b5de2b"
           ],
           [
            1,
            "#fde725"
           ]
          ],
          "opacity": 0.8,
          "size": 5
         },
         "mode": "lines+markers",
         "text": [
          "KAYTRANADA, Shay Lia - CHANCES",
          "Bonobo - Linked",
          "Khalid, Disclosure - Talk",
          "Ruel - Painkiller",
          "Moon Boots, Nic Hanson - Keep The Faith",
          "Rex Orange County, Benny Sings - Loving Is Easy",
          "Queen Naija - Butterflies",
          "Franc Moody - Dance Moves",
          "Elder Island - Black Fur",
          "LEISURE - On My Mind",
          "Tirzah - Holding On",
          "Ali Gatie - Moonlight",
          "Loud Luxury, Brando - Body (feat. Brando)"
         ],
         "type": "scatter3d",
         "x": [
          1.325828041596181,
          -0.8666079265140769,
          0.7866071786525709,
          0.5750493657428141,
          0.9645484607714166,
          0.6091740207046461,
          0.3360718541126436,
          1.102072160330124,
          -0.18970815941609934,
          1.8185677711225525,
          0.42803903898070617,
          -0.04861385434052138,
          1.5682207351418673
         ],
         "y": [
          -1.2624852242229492,
          -0.3105310493661773,
          -1.635531439516034,
          -0.550228382727027,
          -1.079975280846232,
          -1.44790106812452,
          -1.1398955845736,
          -1.9328574055328882,
          -1.6146717543644957,
          -2.272974899605767,
          -1.6960696411836025,
          -1.7958478564854126,
          -1.3291567796037318
         ],
         "z": [
          -1.6688431904353398,
          1.005052353657821,
          -0.24692851358992923,
          -0.37594164517880574,
          0.55276484749264,
          0.269475934619354,
          -0.18513629623393021,
          0.8929256105187618,
          0.7204697034608,
          0.481368201430225,
          0.5574100440933893,
          0.4268427830562062,
          1.5902328596402548
         ]
        }
       ],
       "layout": {
        "margin": {
         "b": 0,
         "l": 0,
         "r": 0,
         "t": 0
        },
        "scene": {
         "xaxis": {
          "title": {
           "text": "PC0"
          }
         },
         "yaxis": {
          "title": {
           "text": "PC1"
          }
         },
         "zaxis": {
          "title": {
           "text": "PC2"
          }
         }
        },
        "template": {
         "data": {
          "bar": [
           {
            "error_x": {
             "color": "#2a3f5f"
            },
            "error_y": {
             "color": "#2a3f5f"
            },
            "marker": {
             "line": {
              "color": "#E5ECF6",
              "width": 0.5
             }
            },
            "type": "bar"
           }
          ],
          "barpolar": [
           {
            "marker": {
             "line": {
              "color": "#E5ECF6",
              "width": 0.5
             }
            },
            "type": "barpolar"
           }
          ],
          "carpet": [
           {
            "aaxis": {
             "endlinecolor": "#2a3f5f",
             "gridcolor": "white",
             "linecolor": "white",
             "minorgridcolor": "white",
             "startlinecolor": "#2a3f5f"
            },
            "baxis": {
             "endlinecolor": "#2a3f5f",
             "gridcolor": "white",
             "linecolor": "white",
             "minorgridcolor": "white",
             "startlinecolor": "#2a3f5f"
            },
            "type": "carpet"
           }
          ],
          "choropleth": [
           {
            "colorbar": {
             "outlinewidth": 0,
             "ticks": ""
            },
            "type": "choropleth"
           }
          ],
          "contour": [
           {
            "colorbar": {
             "outlinewidth": 0,
             "ticks": ""
            },
            "colorscale": [
             [
              0,
              "#0d0887"
             ],
             [
              0.1111111111111111,
              "#46039f"
             ],
             [
              0.2222222222222222,
              "#7201a8"
             ],
             [
              0.3333333333333333,
              "#9c179e"
             ],
             [
              0.4444444444444444,
              "#bd3786"
             ],
             [
              0.5555555555555556,
              "#d8576b"
             ],
             [
              0.6666666666666666,
              "#ed7953"
             ],
             [
              0.7777777777777778,
              "#fb9f3a"
             ],
             [
              0.8888888888888888,
              "#fdca26"
             ],
             [
              1,
              "#f0f921"
             ]
            ],
            "type": "contour"
           }
          ],
          "contourcarpet": [
           {
            "colorbar": {
             "outlinewidth": 0,
             "ticks": ""
            },
            "type": "contourcarpet"
           }
          ],
          "heatmap": [
           {
            "colorbar": {
             "outlinewidth": 0,
             "ticks": ""
            },
            "colorscale": [
             [
              0,
              "#0d0887"
             ],
             [
              0.1111111111111111,
              "#46039f"
             ],
             [
              0.2222222222222222,
              "#7201a8"
             ],
             [
              0.3333333333333333,
              "#9c179e"
             ],
             [
              0.4444444444444444,
              "#bd3786"
             ],
             [
              0.5555555555555556,
              "#d8576b"
             ],
             [
              0.6666666666666666,
              "#ed7953"
             ],
             [
              0.7777777777777778,
              "#fb9f3a"
             ],
             [
              0.8888888888888888,
              "#fdca26"
             ],
             [
              1,
              "#f0f921"
             ]
            ],
            "type": "heatmap"
           }
          ],
          "heatmapgl": [
           {
            "colorbar": {
             "outlinewidth": 0,
             "ticks": ""
            },
            "colorscale": [
             [
              0,
              "#0d0887"
             ],
             [
              0.1111111111111111,
              "#46039f"
             ],
             [
              0.2222222222222222,
              "#7201a8"
             ],
             [
              0.3333333333333333,
              "#9c179e"
             ],
             [
              0.4444444444444444,
              "#bd3786"
             ],
             [
              0.5555555555555556,
              "#d8576b"
             ],
             [
              0.6666666666666666,
              "#ed7953"
             ],
             [
              0.7777777777777778,
              "#fb9f3a"
             ],
             [
              0.8888888888888888,
              "#fdca26"
             ],
             [
              1,
              "#f0f921"
             ]
            ],
            "type": "heatmapgl"
           }
          ],
          "histogram": [
           {
            "marker": {
             "colorbar": {
              "outlinewidth": 0,
              "ticks": ""
             }
            },
            "type": "histogram"
           }
          ],
          "histogram2d": [
           {
            "colorbar": {
             "outlinewidth": 0,
             "ticks": ""
            },
            "colorscale": [
             [
              0,
              "#0d0887"
             ],
             [
              0.1111111111111111,
              "#46039f"
             ],
             [
              0.2222222222222222,
              "#7201a8"
             ],
             [
              0.3333333333333333,
              "#9c179e"
             ],
             [
              0.4444444444444444,
              "#bd3786"
             ],
             [
              0.5555555555555556,
              "#d8576b"
             ],
             [
              0.6666666666666666,
              "#ed7953"
             ],
             [
              0.7777777777777778,
              "#fb9f3a"
             ],
             [
              0.8888888888888888,
              "#fdca26"
             ],
             [
              1,
              "#f0f921"
             ]
            ],
            "type": "histogram2d"
           }
          ],
          "histogram2dcontour": [
           {
            "colorbar": {
             "outlinewidth": 0,
             "ticks": ""
            },
            "colorscale": [
             [
              0,
              "#0d0887"
             ],
             [
              0.1111111111111111,
              "#46039f"
             ],
             [
              0.2222222222222222,
              "#7201a8"
             ],
             [
              0.3333333333333333,
              "#9c179e"
             ],
             [
              0.4444444444444444,
              "#bd3786"
             ],
             [
              0.5555555555555556,
              "#d8576b"
             ],
             [
              0.6666666666666666,
              "#ed7953"
             ],
             [
              0.7777777777777778,
              "#fb9f3a"
             ],
             [
              0.8888888888888888,
              "#fdca26"
             ],
             [
              1,
              "#f0f921"
             ]
            ],
            "type": "histogram2dcontour"
           }
          ],
          "mesh3d": [
           {
            "colorbar": {
             "outlinewidth": 0,
             "ticks": ""
            },
            "type": "mesh3d"
           }
          ],
          "parcoords": [
           {
            "line": {
             "colorbar": {
              "outlinewidth": 0,
              "ticks": ""
             }
            },
            "type": "parcoords"
           }
          ],
          "scatter": [
           {
            "marker": {
             "colorbar": {
              "outlinewidth": 0,
              "ticks": ""
             }
            },
            "type": "scatter"
           }
          ],
          "scatter3d": [
           {
            "line": {
             "colorbar": {
              "outlinewidth": 0,
              "ticks": ""
             }
            },
            "marker": {
             "colorbar": {
              "outlinewidth": 0,
              "ticks": ""
             }
            },
            "type": "scatter3d"
           }
          ],
          "scattercarpet": [
           {
            "marker": {
             "colorbar": {
              "outlinewidth": 0,
              "ticks": ""
             }
            },
            "type": "scattercarpet"
           }
          ],
          "scattergeo": [
           {
            "marker": {
             "colorbar": {
              "outlinewidth": 0,
              "ticks": ""
             }
            },
            "type": "scattergeo"
           }
          ],
          "scattergl": [
           {
            "marker": {
             "colorbar": {
              "outlinewidth": 0,
              "ticks": ""
             }
            },
            "type": "scattergl"
           }
          ],
          "scattermapbox": [
           {
            "marker": {
             "colorbar": {
              "outlinewidth": 0,
              "ticks": ""
             }
            },
            "type": "scattermapbox"
           }
          ],
          "scatterpolar": [
           {
            "marker": {
             "colorbar": {
              "outlinewidth": 0,
              "ticks": ""
             }
            },
            "type": "scatterpolar"
           }
          ],
          "scatterpolargl": [
           {
            "marker": {
             "colorbar": {
              "outlinewidth": 0,
              "ticks": ""
             }
            },
            "type": "scatterpolargl"
           }
          ],
          "scatterternary": [
           {
            "marker": {
             "colorbar": {
              "outlinewidth": 0,
              "ticks": ""
             }
            },
            "type": "scatterternary"
           }
          ],
          "surface": [
           {
            "colorbar": {
             "outlinewidth": 0,
             "ticks": ""
            },
            "colorscale": [
             [
              0,
              "#0d0887"
             ],
             [
              0.1111111111111111,
              "#46039f"
             ],
             [
              0.2222222222222222,
              "#7201a8"
             ],
             [
              0.3333333333333333,
              "#9c179e"
             ],
             [
              0.4444444444444444,
              "#bd3786"
             ],
             [
              0.5555555555555556,
              "#d8576b"
             ],
             [
              0.6666666666666666,
              "#ed7953"
             ],
             [
              0.7777777777777778,
              "#fb9f3a"
             ],
             [
              0.8888888888888888,
              "#fdca26"
             ],
             [
              1,
              "#f0f921"
             ]
            ],
            "type": "surface"
           }
          ],
          "table": [
           {
            "cells": {
             "fill": {
              "color": "#EBF0F8"
             },
             "line": {
              "color": "white"
             }
            },
            "header": {
             "fill": {
              "color": "#C8D4E3"
             },
             "line": {
              "color": "white"
             }
            },
            "type": "table"
           }
          ]
         },
         "layout": {
          "annotationdefaults": {
           "arrowcolor": "#2a3f5f",
           "arrowhead": 0,
           "arrowwidth": 1
          },
          "colorscale": {
           "diverging": [
            [
             0,
             "#8e0152"
            ],
            [
             0.1,
             "#c51b7d"
            ],
            [
             0.2,
             "#de77ae"
            ],
            [
             0.3,
             "#f1b6da"
            ],
            [
             0.4,
             "#fde0ef"
            ],
            [
             0.5,
             "#f7f7f7"
            ],
            [
             0.6,
             "#e6f5d0"
            ],
            [
             0.7,
             "#b8e186"
            ],
            [
             0.8,
             "#7fbc41"
            ],
            [
             0.9,
             "#4d9221"
            ],
            [
             1,
             "#276419"
            ]
           ],
           "sequential": [
            [
             0,
             "#0d0887"
            ],
            [
             0.1111111111111111,
             "#46039f"
            ],
            [
             0.2222222222222222,
             "#7201a8"
            ],
            [
             0.3333333333333333,
             "#9c179e"
            ],
            [
             0.4444444444444444,
             "#bd3786"
            ],
            [
             0.5555555555555556,
             "#d8576b"
            ],
            [
             0.6666666666666666,
             "#ed7953"
            ],
            [
             0.7777777777777778,
             "#fb9f3a"
            ],
            [
             0.8888888888888888,
             "#fdca26"
            ],
            [
             1,
             "#f0f921"
            ]
           ],
           "sequentialminus": [
            [
             0,
             "#0d0887"
            ],
            [
             0.1111111111111111,
             "#46039f"
            ],
            [
             0.2222222222222222,
             "#7201a8"
            ],
            [
             0.3333333333333333,
             "#9c179e"
            ],
            [
             0.4444444444444444,
             "#bd3786"
            ],
            [
             0.5555555555555556,
             "#d8576b"
            ],
            [
             0.6666666666666666,
             "#ed7953"
            ],
            [
             0.7777777777777778,
             "#fb9f3a"
            ],
            [
             0.8888888888888888,
             "#fdca26"
            ],
            [
             1,
             "#f0f921"
            ]
           ]
          },
          "colorway": [
           "#636efa",
           "#EF553B",
           "#00cc96",
           "#ab63fa",
           "#FFA15A",
           "#19d3f3",
           "#FF6692",
           "#B6E880",
           "#FF97FF",
           "#FECB52"
          ],
          "font": {
           "color": "#2a3f5f"
          },
          "geo": {
           "bgcolor": "white",
           "lakecolor": "white",
           "landcolor": "#E5ECF6",
           "showlakes": true,
           "showland": true,
           "subunitcolor": "white"
          },
          "hoverlabel": {
           "align": "left"
          },
          "hovermode": "closest",
          "mapbox": {
           "style": "light"
          },
          "paper_bgcolor": "white",
          "plot_bgcolor": "#E5ECF6",
          "polar": {
           "angularaxis": {
            "gridcolor": "white",
            "linecolor": "white",
            "ticks": ""
           },
           "bgcolor": "#E5ECF6",
           "radialaxis": {
            "gridcolor": "white",
            "linecolor": "white",
            "ticks": ""
           }
          },
          "scene": {
           "xaxis": {
            "backgroundcolor": "#E5ECF6",
            "gridcolor": "white",
            "gridwidth": 2,
            "linecolor": "white",
            "showbackground": true,
            "ticks": "",
            "zerolinecolor": "white"
           },
           "yaxis": {
            "backgroundcolor": "#E5ECF6",
            "gridcolor": "white",
            "gridwidth": 2,
            "linecolor": "white",
            "showbackground": true,
            "ticks": "",
            "zerolinecolor": "white"
           },
           "zaxis": {
            "backgroundcolor": "#E5ECF6",
            "gridcolor": "white",
            "gridwidth": 2,
            "linecolor": "white",
            "showbackground": true,
            "ticks": "",
            "zerolinecolor": "white"
           }
          },
          "shapedefaults": {
           "line": {
            "color": "#2a3f5f"
           }
          },
          "ternary": {
           "aaxis": {
            "gridcolor": "white",
            "linecolor": "white",
            "ticks": ""
           },
           "baxis": {
            "gridcolor": "white",
            "linecolor": "white",
            "ticks": ""
           },
           "bgcolor": "#E5ECF6",
           "caxis": {
            "gridcolor": "white",
            "linecolor": "white",
            "ticks": ""
           }
          },
          "title": {
           "x": 0.05
          },
          "xaxis": {
           "automargin": true,
           "gridcolor": "white",
           "linecolor": "white",
           "ticks": "",
           "zerolinecolor": "white",
           "zerolinewidth": 2
          },
          "yaxis": {
           "automargin": true,
           "gridcolor": "white",
           "linecolor": "white",
           "ticks": "",
           "zerolinecolor": "white",
           "zerolinewidth": 2
          }
         }
        }
       }
      },
      "text/html": [
       "<div>\n",
       "        \n",
       "        \n",
       "            <div id=\"e79c43ed-551e-49f5-b7b1-2e7857625467\" class=\"plotly-graph-div\" style=\"height:525px; width:100%;\"></div>\n",
       "            <script type=\"text/javascript\">\n",
       "                require([\"plotly\"], function(Plotly) {\n",
       "                    window.PLOTLYENV=window.PLOTLYENV || {};\n",
       "                    \n",
       "                if (document.getElementById(\"e79c43ed-551e-49f5-b7b1-2e7857625467\")) {\n",
       "                    Plotly.newPlot(\n",
       "                        'e79c43ed-551e-49f5-b7b1-2e7857625467',\n",
       "                        [{\"line\": {\"color\": \"#000000\", \"width\": 1}, \"marker\": {\"color\": [-1.6688431904353398, 1.005052353657821, -0.24692851358992923, -0.37594164517880574, 0.55276484749264, 0.269475934619354, -0.18513629623393021, 0.8929256105187618, 0.7204697034608, 0.481368201430225, 0.5574100440933893, 0.4268427830562062, 1.5902328596402548], \"colorscale\": [[0.0, \"#440154\"], [0.1111111111111111, \"#482878\"], [0.2222222222222222, \"#3e4989\"], [0.3333333333333333, \"#31688e\"], [0.4444444444444444, \"#26828e\"], [0.5555555555555556, \"#1f9e89\"], [0.6666666666666666, \"#35b779\"], [0.7777777777777778, \"#6ece58\"], [0.8888888888888888, \"#b5de2b\"], [1.0, \"#fde725\"]], \"opacity\": 0.8, \"size\": 5}, \"mode\": \"lines+markers\", \"text\": [\"KAYTRANADA, Shay Lia - CHANCES\", \"Bonobo - Linked\", \"Khalid, Disclosure - Talk\", \"Ruel - Painkiller\", \"Moon Boots, Nic Hanson - Keep The Faith\", \"Rex Orange County, Benny Sings - Loving Is Easy\", \"Queen Naija - Butterflies\", \"Franc Moody - Dance Moves\", \"Elder Island - Black Fur\", \"LEISURE - On My Mind\", \"Tirzah - Holding On\", \"Ali Gatie - Moonlight\", \"Loud Luxury, Brando - Body (feat. Brando)\"], \"type\": \"scatter3d\", \"x\": [1.325828041596181, -0.8666079265140769, 0.7866071786525709, 0.5750493657428141, 0.9645484607714166, 0.6091740207046461, 0.3360718541126436, 1.102072160330124, -0.18970815941609934, 1.8185677711225525, 0.42803903898070617, -0.04861385434052138, 1.5682207351418673], \"y\": [-1.2624852242229492, -0.3105310493661773, -1.635531439516034, -0.550228382727027, -1.079975280846232, -1.44790106812452, -1.1398955845736, -1.9328574055328882, -1.6146717543644957, -2.272974899605767, -1.6960696411836025, -1.7958478564854126, -1.3291567796037318], \"z\": [-1.6688431904353398, 1.005052353657821, -0.24692851358992923, -0.37594164517880574, 0.55276484749264, 0.269475934619354, -0.18513629623393021, 0.8929256105187618, 0.7204697034608, 0.481368201430225, 0.5574100440933893, 0.4268427830562062, 1.5902328596402548]}],\n",
       "                        {\"margin\": {\"b\": 0, \"l\": 0, \"r\": 0, \"t\": 0}, \"scene\": {\"xaxis\": {\"title\": {\"text\": \"PC0\"}}, \"yaxis\": {\"title\": {\"text\": \"PC1\"}}, \"zaxis\": {\"title\": {\"text\": \"PC2\"}}}, \"template\": {\"data\": {\"bar\": [{\"error_x\": {\"color\": \"#2a3f5f\"}, \"error_y\": {\"color\": \"#2a3f5f\"}, \"marker\": {\"line\": {\"color\": \"#E5ECF6\", \"width\": 0.5}}, \"type\": \"bar\"}], \"barpolar\": [{\"marker\": {\"line\": {\"color\": \"#E5ECF6\", \"width\": 0.5}}, \"type\": \"barpolar\"}], \"carpet\": [{\"aaxis\": {\"endlinecolor\": \"#2a3f5f\", \"gridcolor\": \"white\", \"linecolor\": \"white\", \"minorgridcolor\": \"white\", \"startlinecolor\": \"#2a3f5f\"}, \"baxis\": {\"endlinecolor\": \"#2a3f5f\", \"gridcolor\": \"white\", \"linecolor\": \"white\", \"minorgridcolor\": \"white\", \"startlinecolor\": \"#2a3f5f\"}, \"type\": \"carpet\"}], \"choropleth\": [{\"colorbar\": {\"outlinewidth\": 0, \"ticks\": \"\"}, \"type\": \"choropleth\"}], \"contour\": [{\"colorbar\": {\"outlinewidth\": 0, \"ticks\": \"\"}, \"colorscale\": [[0.0, \"#0d0887\"], [0.1111111111111111, \"#46039f\"], [0.2222222222222222, \"#7201a8\"], [0.3333333333333333, \"#9c179e\"], [0.4444444444444444, \"#bd3786\"], [0.5555555555555556, \"#d8576b\"], [0.6666666666666666, \"#ed7953\"], [0.7777777777777778, \"#fb9f3a\"], [0.8888888888888888, \"#fdca26\"], [1.0, \"#f0f921\"]], \"type\": \"contour\"}], \"contourcarpet\": [{\"colorbar\": {\"outlinewidth\": 0, \"ticks\": \"\"}, \"type\": \"contourcarpet\"}], \"heatmap\": [{\"colorbar\": {\"outlinewidth\": 0, \"ticks\": \"\"}, \"colorscale\": [[0.0, \"#0d0887\"], [0.1111111111111111, \"#46039f\"], [0.2222222222222222, \"#7201a8\"], [0.3333333333333333, \"#9c179e\"], [0.4444444444444444, \"#bd3786\"], [0.5555555555555556, \"#d8576b\"], [0.6666666666666666, \"#ed7953\"], [0.7777777777777778, \"#fb9f3a\"], [0.8888888888888888, \"#fdca26\"], [1.0, \"#f0f921\"]], \"type\": \"heatmap\"}], \"heatmapgl\": [{\"colorbar\": {\"outlinewidth\": 0, \"ticks\": \"\"}, \"colorscale\": [[0.0, \"#0d0887\"], [0.1111111111111111, \"#46039f\"], [0.2222222222222222, \"#7201a8\"], [0.3333333333333333, \"#9c179e\"], [0.4444444444444444, \"#bd3786\"], [0.5555555555555556, \"#d8576b\"], [0.6666666666666666, \"#ed7953\"], [0.7777777777777778, \"#fb9f3a\"], [0.8888888888888888, \"#fdca26\"], [1.0, \"#f0f921\"]], \"type\": \"heatmapgl\"}], \"histogram\": [{\"marker\": {\"colorbar\": {\"outlinewidth\": 0, \"ticks\": \"\"}}, \"type\": \"histogram\"}], \"histogram2d\": [{\"colorbar\": {\"outlinewidth\": 0, \"ticks\": \"\"}, \"colorscale\": [[0.0, \"#0d0887\"], [0.1111111111111111, \"#46039f\"], [0.2222222222222222, \"#7201a8\"], [0.3333333333333333, \"#9c179e\"], [0.4444444444444444, \"#bd3786\"], [0.5555555555555556, \"#d8576b\"], [0.6666666666666666, \"#ed7953\"], [0.7777777777777778, \"#fb9f3a\"], [0.8888888888888888, \"#fdca26\"], [1.0, \"#f0f921\"]], \"type\": \"histogram2d\"}], \"histogram2dcontour\": [{\"colorbar\": {\"outlinewidth\": 0, \"ticks\": \"\"}, \"colorscale\": [[0.0, \"#0d0887\"], [0.1111111111111111, \"#46039f\"], [0.2222222222222222, \"#7201a8\"], [0.3333333333333333, \"#9c179e\"], [0.4444444444444444, \"#bd3786\"], [0.5555555555555556, \"#d8576b\"], [0.6666666666666666, \"#ed7953\"], [0.7777777777777778, \"#fb9f3a\"], [0.8888888888888888, \"#fdca26\"], [1.0, \"#f0f921\"]], \"type\": \"histogram2dcontour\"}], \"mesh3d\": [{\"colorbar\": {\"outlinewidth\": 0, \"ticks\": \"\"}, \"type\": \"mesh3d\"}], \"parcoords\": [{\"line\": {\"colorbar\": {\"outlinewidth\": 0, \"ticks\": \"\"}}, \"type\": \"parcoords\"}], \"scatter\": [{\"marker\": {\"colorbar\": {\"outlinewidth\": 0, \"ticks\": \"\"}}, \"type\": \"scatter\"}], \"scatter3d\": [{\"line\": {\"colorbar\": {\"outlinewidth\": 0, \"ticks\": \"\"}}, \"marker\": {\"colorbar\": {\"outlinewidth\": 0, \"ticks\": \"\"}}, \"type\": \"scatter3d\"}], \"scattercarpet\": [{\"marker\": {\"colorbar\": {\"outlinewidth\": 0, \"ticks\": \"\"}}, \"type\": \"scattercarpet\"}], \"scattergeo\": [{\"marker\": {\"colorbar\": {\"outlinewidth\": 0, \"ticks\": \"\"}}, \"type\": \"scattergeo\"}], \"scattergl\": [{\"marker\": {\"colorbar\": {\"outlinewidth\": 0, \"ticks\": \"\"}}, \"type\": \"scattergl\"}], \"scattermapbox\": [{\"marker\": {\"colorbar\": {\"outlinewidth\": 0, \"ticks\": \"\"}}, \"type\": \"scattermapbox\"}], \"scatterpolar\": [{\"marker\": {\"colorbar\": {\"outlinewidth\": 0, \"ticks\": \"\"}}, \"type\": \"scatterpolar\"}], \"scatterpolargl\": [{\"marker\": {\"colorbar\": {\"outlinewidth\": 0, \"ticks\": \"\"}}, \"type\": \"scatterpolargl\"}], \"scatterternary\": [{\"marker\": {\"colorbar\": {\"outlinewidth\": 0, \"ticks\": \"\"}}, \"type\": \"scatterternary\"}], \"surface\": [{\"colorbar\": {\"outlinewidth\": 0, \"ticks\": \"\"}, \"colorscale\": [[0.0, \"#0d0887\"], [0.1111111111111111, \"#46039f\"], [0.2222222222222222, \"#7201a8\"], [0.3333333333333333, \"#9c179e\"], [0.4444444444444444, \"#bd3786\"], [0.5555555555555556, \"#d8576b\"], [0.6666666666666666, \"#ed7953\"], [0.7777777777777778, \"#fb9f3a\"], [0.8888888888888888, \"#fdca26\"], [1.0, \"#f0f921\"]], \"type\": \"surface\"}], \"table\": [{\"cells\": {\"fill\": {\"color\": \"#EBF0F8\"}, \"line\": {\"color\": \"white\"}}, \"header\": {\"fill\": {\"color\": \"#C8D4E3\"}, \"line\": {\"color\": \"white\"}}, \"type\": \"table\"}]}, \"layout\": {\"annotationdefaults\": {\"arrowcolor\": \"#2a3f5f\", \"arrowhead\": 0, \"arrowwidth\": 1}, \"colorscale\": {\"diverging\": [[0, \"#8e0152\"], [0.1, \"#c51b7d\"], [0.2, \"#de77ae\"], [0.3, \"#f1b6da\"], [0.4, \"#fde0ef\"], [0.5, \"#f7f7f7\"], [0.6, \"#e6f5d0\"], [0.7, \"#b8e186\"], [0.8, \"#7fbc41\"], [0.9, \"#4d9221\"], [1, \"#276419\"]], \"sequential\": [[0.0, \"#0d0887\"], [0.1111111111111111, \"#46039f\"], [0.2222222222222222, \"#7201a8\"], [0.3333333333333333, \"#9c179e\"], [0.4444444444444444, \"#bd3786\"], [0.5555555555555556, \"#d8576b\"], [0.6666666666666666, \"#ed7953\"], [0.7777777777777778, \"#fb9f3a\"], [0.8888888888888888, \"#fdca26\"], [1.0, \"#f0f921\"]], \"sequentialminus\": [[0.0, \"#0d0887\"], [0.1111111111111111, \"#46039f\"], [0.2222222222222222, \"#7201a8\"], [0.3333333333333333, \"#9c179e\"], [0.4444444444444444, \"#bd3786\"], [0.5555555555555556, \"#d8576b\"], [0.6666666666666666, \"#ed7953\"], [0.7777777777777778, \"#fb9f3a\"], [0.8888888888888888, \"#fdca26\"], [1.0, \"#f0f921\"]]}, \"colorway\": [\"#636efa\", \"#EF553B\", \"#00cc96\", \"#ab63fa\", \"#FFA15A\", \"#19d3f3\", \"#FF6692\", \"#B6E880\", \"#FF97FF\", \"#FECB52\"], \"font\": {\"color\": \"#2a3f5f\"}, \"geo\": {\"bgcolor\": \"white\", \"lakecolor\": \"white\", \"landcolor\": \"#E5ECF6\", \"showlakes\": true, \"showland\": true, \"subunitcolor\": \"white\"}, \"hoverlabel\": {\"align\": \"left\"}, \"hovermode\": \"closest\", \"mapbox\": {\"style\": \"light\"}, \"paper_bgcolor\": \"white\", \"plot_bgcolor\": \"#E5ECF6\", \"polar\": {\"angularaxis\": {\"gridcolor\": \"white\", \"linecolor\": \"white\", \"ticks\": \"\"}, \"bgcolor\": \"#E5ECF6\", \"radialaxis\": {\"gridcolor\": \"white\", \"linecolor\": \"white\", \"ticks\": \"\"}}, \"scene\": {\"xaxis\": {\"backgroundcolor\": \"#E5ECF6\", \"gridcolor\": \"white\", \"gridwidth\": 2, \"linecolor\": \"white\", \"showbackground\": true, \"ticks\": \"\", \"zerolinecolor\": \"white\"}, \"yaxis\": {\"backgroundcolor\": \"#E5ECF6\", \"gridcolor\": \"white\", \"gridwidth\": 2, \"linecolor\": \"white\", \"showbackground\": true, \"ticks\": \"\", \"zerolinecolor\": \"white\"}, \"zaxis\": {\"backgroundcolor\": \"#E5ECF6\", \"gridcolor\": \"white\", \"gridwidth\": 2, \"linecolor\": \"white\", \"showbackground\": true, \"ticks\": \"\", \"zerolinecolor\": \"white\"}}, \"shapedefaults\": {\"line\": {\"color\": \"#2a3f5f\"}}, \"ternary\": {\"aaxis\": {\"gridcolor\": \"white\", \"linecolor\": \"white\", \"ticks\": \"\"}, \"baxis\": {\"gridcolor\": \"white\", \"linecolor\": \"white\", \"ticks\": \"\"}, \"bgcolor\": \"#E5ECF6\", \"caxis\": {\"gridcolor\": \"white\", \"linecolor\": \"white\", \"ticks\": \"\"}}, \"title\": {\"x\": 0.05}, \"xaxis\": {\"automargin\": true, \"gridcolor\": \"white\", \"linecolor\": \"white\", \"ticks\": \"\", \"zerolinecolor\": \"white\", \"zerolinewidth\": 2}, \"yaxis\": {\"automargin\": true, \"gridcolor\": \"white\", \"linecolor\": \"white\", \"ticks\": \"\", \"zerolinecolor\": \"white\", \"zerolinewidth\": 2}}}},\n",
       "                        {\"responsive\": true}\n",
       "                    ).then(function(){\n",
       "                            \n",
       "var gd = document.getElementById('e79c43ed-551e-49f5-b7b1-2e7857625467');\n",
       "var x = new MutationObserver(function (mutations, observer) {{\n",
       "        var display = window.getComputedStyle(gd).display;\n",
       "        if (!display || display === 'none') {{\n",
       "            console.log([gd, 'removed!']);\n",
       "            Plotly.purge(gd);\n",
       "            observer.disconnect();\n",
       "        }}\n",
       "}});\n",
       "\n",
       "// Listen for the removal of the full notebook cells\n",
       "var notebookContainer = gd.closest('#notebook-container');\n",
       "if (notebookContainer) {{\n",
       "    x.observe(notebookContainer, {childList: true});\n",
       "}}\n",
       "\n",
       "// Listen for the clearing of the current output cell\n",
       "var outputEl = gd.closest('.output');\n",
       "if (outputEl) {{\n",
       "    x.observe(outputEl, {childList: true});\n",
       "}}\n",
       "\n",
       "                        })\n",
       "                };\n",
       "                });\n",
       "            </script>\n",
       "        </div>"
      ]
     },
     "metadata": {},
     "output_type": "display_data"
    },
    {
     "data": {
      "text/plain": [
       "<__main__.Playlist at 0x13a3f2358>"
      ]
     },
     "execution_count": 10,
     "metadata": {},
     "output_type": "execute_result"
    }
   ],
   "source": [
    "Playlist() "
   ]
  },
  {
   "cell_type": "code",
   "execution_count": null,
   "metadata": {},
   "outputs": [],
   "source": []
  }
 ],
 "metadata": {
  "kernelspec": {
   "display_name": "Python 3",
   "language": "python",
   "name": "python3"
  },
  "language_info": {
   "codemirror_mode": {
    "name": "ipython",
    "version": 3
   },
   "file_extension": ".py",
   "mimetype": "text/x-python",
   "name": "python",
   "nbconvert_exporter": "python",
   "pygments_lexer": "ipython3",
   "version": "3.6.8"
  }
 },
 "nbformat": 4,
 "nbformat_minor": 2
}
