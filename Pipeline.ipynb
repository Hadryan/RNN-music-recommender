{
 "cells": [
  {
   "cell_type": "code",
   "execution_count": 179,
   "metadata": {},
   "outputs": [
    {
     "data": {
      "text/html": [
       "        <script type=\"text/javascript\">\n",
       "        window.PlotlyConfig = {MathJaxConfig: 'local'};\n",
       "        if (window.MathJax) {MathJax.Hub.Config({SVG: {font: \"STIX-Web\"}});}\n",
       "        if (typeof require !== 'undefined') {\n",
       "        require.undef(\"plotly\");\n",
       "        requirejs.config({\n",
       "            paths: {\n",
       "                'plotly': ['https://cdn.plot.ly/plotly-latest.min']\n",
       "            }\n",
       "        });\n",
       "        require(['plotly'], function(Plotly) {\n",
       "            window._Plotly = Plotly;\n",
       "        });\n",
       "        }\n",
       "        </script>\n",
       "        "
      ]
     },
     "metadata": {},
     "output_type": "display_data"
    }
   ],
   "source": [
    "#data\n",
    "import numpy as np\n",
    "import numpy_indexed as npi\n",
    "import pandas as pd\n",
    "from scipy.spatial.distance import cdist\n",
    "from sklearn.externals import joblib\n",
    "from keras.models import load_model\n",
    "#visualization\n",
    "from plotly.offline import download_plotlyjs, init_notebook_mode, plot, iplot\n",
    "init_notebook_mode(connected=True)\n",
    "import plotly.graph_objs as go\n",
    "#APIs\n",
    "import spotipy\n",
    "from spotipy.oauth2 import SpotifyClientCredentials\n",
    "#API Keys\n",
    "import api_keys\n",
    "#Utils\n",
    "import time\n",
    "from tqdm import tqdm_notebook as tqdm\n",
    "from IPython.display import display"
   ]
  },
  {
   "cell_type": "code",
   "execution_count": 23,
   "metadata": {},
   "outputs": [],
   "source": [
    "#get model, y-j transformer, std-scaler, PCA, and RNN model\n",
    "model = load_model('cloud/model.h5')\n",
    "std_scaler = joblib.load('scalers/std_scaler.pkl')\n",
    "y_j = joblib.load('scalers/yeo_johnson.pkl')\n",
    "pca = joblib.load('scalers/pca.pkl')\n",
    "\n",
    "features = [\n",
    "    'mode',\n",
    "    'acousticness',\n",
    "    'danceability',\n",
    "    'energy',\n",
    "    'instrumentalness',\n",
    "    'liveness',\n",
    "    'loudness',\n",
    "    'speechiness',\n",
    "    'valence',\n",
    "] "
   ]
  },
  {
   "cell_type": "code",
   "execution_count": 10,
   "metadata": {},
   "outputs": [],
   "source": [
    "#Authenticate\n",
    "sp = spotipy.Spotify(\n",
    "    client_credentials_manager = SpotifyClientCredentials(\n",
    "        client_id=api_keys.CLIENT_ID,\n",
    "        client_secret=api_keys.CLIENT_SECRET\n",
    "    )\n",
    ") "
   ]
  },
  {
   "cell_type": "code",
   "execution_count": 264,
   "metadata": {},
   "outputs": [],
   "source": [
    "class Playlist():\n",
    "    playlists = {}\n",
    "    def __init__(self):\n",
    "        self.name = input('Playlist Name:')\n",
    "        Playlist.playlists[self.name] = self\n",
    "        self.init_song_strings = []\n",
    "        self.search_results = []\n",
    "        self.recommended_track_ids = [] #list of track ids straight from spotify\n",
    "        self.trax = [] #all tracks as dict\n",
    "        self.df = None #this is where the data goes\n",
    "        self.playlist = None\n",
    "        \n",
    "        #input your songs\n",
    "        self.init_song_strings.append(input('Song 1: '))\n",
    "        self.init_song_strings.append(input('Song 2: '))\n",
    "        self.init_song_strings.append(input('Song 3: '))\n",
    "        \n",
    "        # DO EVERYTHING\n",
    "        self.get_recommendations()\n",
    "        self.get_features()\n",
    "        self.transform()\n",
    "        self.build_playlist() \n",
    "        self.show_playlist() \n",
    "        self.do_pca()\n",
    "        \n",
    "    def get_recommendations(self):\n",
    "        print('Getting Recommendations...')\n",
    "        for ss in self.init_song_strings:\n",
    "            r = sp.search(ss,limit=1)['tracks']['items'][0]\n",
    "            self.search_results.append({\n",
    "                        'id':r['id'],\n",
    "                        'artists':[i['name'] for i in r['artists']],\n",
    "                        'name':r['name']\n",
    "                })\n",
    "        for id_ in tqdm(self.search_results):\n",
    "            #append to self.recommended_track_ids\n",
    "            results = sp.recommendations(seed_tracks = [id_['id']],limit=100)\n",
    "            for r in results['tracks']:\n",
    "                if r['id'] not in [i['id'] for i in self.recommended_track_ids]:\n",
    "                    self.recommended_track_ids.append({\n",
    "                        'id':r['id'],\n",
    "                        'artists':[i['name'] for i in r['artists']],\n",
    "                        'name':r['name']\n",
    "                        }) #there may be duplicates\n",
    "    \n",
    "    def get_features(self):\n",
    "        print('Getting Initial Song Features')\n",
    "        for id_ in tqdm(self.search_results):\n",
    "            dict_ = sp.audio_features(id_['id'])[0]\n",
    "            dict_.update(id_)\n",
    "            self.trax.append(dict_)\n",
    "        print('Getting Recommended Song Features')\n",
    "        for id_ in tqdm(self.recommended_track_ids):\n",
    "            dict_ = sp.audio_features(id_['id'])[0]\n",
    "            dict_.update(id_)\n",
    "            self.trax.append(dict_)\n",
    "    \n",
    "    def transform(self):\n",
    "        '''\n",
    "        rehape and then apply yeo-johnson and standard scaler transformations - \n",
    "        these are already trained above and are global vars\n",
    "        '''\n",
    "        print('Applying Transformations...')\n",
    "\n",
    "        columns = ['id','artists','name','tempo','time_signature','key',] + features\n",
    "        self.df = pd.DataFrame(self.trax)[columns].dropna()\n",
    "        self.df[features[1:]] = std_scaler.transform(y_j.transform(self.df[features[1:]]))\n",
    "        self.playlist = self.df.iloc[0:3].copy()\n",
    "        \n",
    "    def rnn_predict(self):\n",
    "        return model.predict(np.array(\n",
    "            [np.array(\n",
    "                self.playlist[features]\n",
    "            )]\n",
    "        ))[0,-1]\n",
    "    \n",
    "    @staticmethod\n",
    "    def tempo_similarity(t1,t2):\n",
    "        if t1 <= 0:\n",
    "             return -1\n",
    "        t2 *= (t2 > 0)\n",
    "        return np.cos(2*np.pi*np.log2(t1/t2))\n",
    "    \n",
    "    @staticmethod\n",
    "    def key_similarity(s1,s2):\n",
    "        '''between -1 and 1, 1 being most similar\n",
    "        uses the circle of fifths - optimized for broadcasting\n",
    "        perfect fifth and same octave are given values of 1.\n",
    "        s1 - a single song (row of dataframe)\n",
    "        s2 - many songs (multiple rows of dataframe)\n",
    "        '''\n",
    "        #get relative major:\n",
    "        #this is for each and is NOT OPTIMIZED >:(\n",
    "        k1 = s1['key']\n",
    "        k2 = s2['key']\n",
    "        m1 = s1['mode']\n",
    "        m2 = s2['mode']\n",
    "        #broadcast dat b00lean\n",
    "        k1 += 3*(m1==0)\n",
    "        k2 += 3*(m2==0)\n",
    "        #get remainder\n",
    "        k1,k2 = np.remainder((k1,k2),12)\n",
    "        #get the position\n",
    "        circle_of_fifths = {0:0,7:1,2:2,9:3,4:4,11:5,6:6,1:7,8:8,3:9,10:10,5:11,}\n",
    "        #return similarity\n",
    "        #https://stackoverflow.com/questions/32243062/numpy-broadcast-through-dictionary\n",
    "        diff = np.abs(\n",
    "            circle_of_fifths[k1] - npi.remap(k2, list(circle_of_fifths.keys()), list(circle_of_fifths.values()))\n",
    "        )\n",
    "        diff = np.abs((diff>6)*12-diff)\n",
    "        return 1 - ((diff == 0) + diff - 1)/2.5\n",
    "    \n",
    "    def argmin_song(self,songs):\n",
    "        '''get the next song song which minimizes objective function,\n",
    "        which itself is a function of uses key_similarity, tempo_similarity,\n",
    "        and euclidian distance to the vector given by rnn_predict.\n",
    "        alpha, beta, and gamma are tuning parameters.\n",
    "        '''\n",
    "        song = self.playlist.iloc[-1]\n",
    "        \n",
    "        distance = cdist([self.rnn_predict()],songs[features[1:]])[0]\n",
    "        key_similarity = Playlist.key_similarity(song,songs)\n",
    "        tempo_similarity = Playlist.tempo_similarity(song['tempo'],songs['tempo']).values\n",
    "        \n",
    "        alpha = 1\n",
    "        beta = 1\n",
    "        gamma = 1\n",
    "        \n",
    "        return songs.reset_index().iloc[np.argmin(\n",
    "            alpha*distance - beta*key_similarity - gamma*tempo_similarity\n",
    "        )]\n",
    "    \n",
    "    def build_playlist(self):\n",
    "        '''use self.argmin_song() to build the whole playlist'''\n",
    "        print('Determining Best Song Sequence...')\n",
    "        for i in tqdm(range(10)):\n",
    "            songs = self.df[~self.df['id'].isin(self.playlist['id'].to_list())]\n",
    "            self.playlist = self.playlist.append(self.argmin_song(songs), ignore_index = True)\n",
    "    \n",
    "    def show_playlist(self):\n",
    "        'give the playlist showing (artist,song,id) in a dataframe'\n",
    "        display(self.playlist[['artists','name','id']])\n",
    "    \n",
    "    def do_pca(self):\n",
    "        'do the nice 3d graph based on global trained PCA'\n",
    "        print('Visualizing...')\n",
    "        x,y,z = pca.transform(self.playlist[features[1:]]).T\n",
    "        fig = go.Figure(data=[go.Scatter3d(\n",
    "            x=x,y=y,z=z,\n",
    "            mode='lines+markers',\n",
    "            text=self.playlist['artists'].apply(lambda x: ', '.join(x)) \\\n",
    "            + ' - ' + self.playlist['name'].astype(str),\n",
    "            marker=dict(\n",
    "                size=5,\n",
    "                color=z,                # set color to an array/list of desired values\n",
    "                colorscale='Viridis',   # choose a colorscale\n",
    "                opacity=0.8,\n",
    "            ),\n",
    "            line=dict(\n",
    "            color='#000000',\n",
    "            width=1\n",
    "        ) \n",
    "        )])\n",
    "        fig.update_layout(\n",
    "            margin=dict(l=0, r=0, b=0, t=0),\n",
    "            scene={\n",
    "                'xaxis_title':'PC0',\n",
    "                'yaxis_title':'PC1',\n",
    "                'zaxis_title':'PC2'\n",
    "            }\n",
    "        ),\n",
    "        fig.show() "
   ]
  },
  {
   "cell_type": "code",
   "execution_count": 266,
   "metadata": {
    "scrolled": false
   },
   "outputs": [
    {
     "name": "stdout",
     "output_type": "stream",
     "text": [
      "Playlist Name:study group playlist\n",
      "Song 1:metallica enter sandman\n",
      "Song 2:bishop briggs baby\n",
      "Song 3:gypsy kings cafe\n",
      "Getting Recommendations...\n"
     ]
    },
    {
     "data": {
      "application/vnd.jupyter.widget-view+json": {
       "model_id": "e6491a01f49c44d7ad47aeabaf293179",
       "version_major": 2,
       "version_minor": 0
      },
      "text/plain": [
       "HBox(children=(IntProgress(value=0, max=3), HTML(value='')))"
      ]
     },
     "metadata": {},
     "output_type": "display_data"
    },
    {
     "name": "stdout",
     "output_type": "stream",
     "text": [
      "\n",
      "Getting Initial Song Features\n"
     ]
    },
    {
     "data": {
      "application/vnd.jupyter.widget-view+json": {
       "model_id": "031808738b7441108e65113774cbf04f",
       "version_major": 2,
       "version_minor": 0
      },
      "text/plain": [
       "HBox(children=(IntProgress(value=0, max=3), HTML(value='')))"
      ]
     },
     "metadata": {},
     "output_type": "display_data"
    },
    {
     "name": "stdout",
     "output_type": "stream",
     "text": [
      "\n",
      "Getting Recommended Song Features\n"
     ]
    },
    {
     "data": {
      "application/vnd.jupyter.widget-view+json": {
       "model_id": "7235ec77df964fe386d89e33adf21cc6",
       "version_major": 2,
       "version_minor": 0
      },
      "text/plain": [
       "HBox(children=(IntProgress(value=0, max=300), HTML(value='')))"
      ]
     },
     "metadata": {},
     "output_type": "display_data"
    },
    {
     "name": "stdout",
     "output_type": "stream",
     "text": [
      "\n",
      "Applying Transformations...\n",
      "Determining Best Song Sequence...\n"
     ]
    },
    {
     "data": {
      "application/vnd.jupyter.widget-view+json": {
       "model_id": "c421704a4ac04cd5aee144e8d4ae56ea",
       "version_major": 2,
       "version_minor": 0
      },
      "text/plain": [
       "HBox(children=(IntProgress(value=0, max=10), HTML(value='')))"
      ]
     },
     "metadata": {},
     "output_type": "display_data"
    },
    {
     "name": "stdout",
     "output_type": "stream",
     "text": [
      "\n"
     ]
    },
    {
     "data": {
      "text/html": [
       "<div>\n",
       "<style scoped>\n",
       "    .dataframe tbody tr th:only-of-type {\n",
       "        vertical-align: middle;\n",
       "    }\n",
       "\n",
       "    .dataframe tbody tr th {\n",
       "        vertical-align: top;\n",
       "    }\n",
       "\n",
       "    .dataframe thead th {\n",
       "        text-align: right;\n",
       "    }\n",
       "</style>\n",
       "<table border=\"1\" class=\"dataframe\">\n",
       "  <thead>\n",
       "    <tr style=\"text-align: right;\">\n",
       "      <th></th>\n",
       "      <th>artists</th>\n",
       "      <th>name</th>\n",
       "      <th>id</th>\n",
       "    </tr>\n",
       "  </thead>\n",
       "  <tbody>\n",
       "    <tr>\n",
       "      <th>0</th>\n",
       "      <td>[Metallica]</td>\n",
       "      <td>Enter Sandman</td>\n",
       "      <td>5BIMPccDwShpXq784RJlJp</td>\n",
       "    </tr>\n",
       "    <tr>\n",
       "      <th>1</th>\n",
       "      <td>[Bishop Briggs]</td>\n",
       "      <td>Baby</td>\n",
       "      <td>21vwWfS6qvxh8TN3lgHvZr</td>\n",
       "    </tr>\n",
       "    <tr>\n",
       "      <th>2</th>\n",
       "      <td>[Gipsy Kings]</td>\n",
       "      <td>Cafe</td>\n",
       "      <td>4Q5yffbXRbtRwYEE8jge1n</td>\n",
       "    </tr>\n",
       "    <tr>\n",
       "      <th>3</th>\n",
       "      <td>[K.Flay]</td>\n",
       "      <td>High Enough</td>\n",
       "      <td>1qwno7xb5mJe71xtMS6jl2</td>\n",
       "    </tr>\n",
       "    <tr>\n",
       "      <th>4</th>\n",
       "      <td>[Young the Giant]</td>\n",
       "      <td>Superposition</td>\n",
       "      <td>67YPjbcxUypwNOwYBZquq1</td>\n",
       "    </tr>\n",
       "    <tr>\n",
       "      <th>5</th>\n",
       "      <td>[Bear Hands]</td>\n",
       "      <td>Back Seat Driver (Spirit Guide)</td>\n",
       "      <td>5ArLjtR7vrrCZNMm20DpRC</td>\n",
       "    </tr>\n",
       "    <tr>\n",
       "      <th>6</th>\n",
       "      <td>[Chambao]</td>\n",
       "      <td>Ahí Estás Tú</td>\n",
       "      <td>1dgFSrqG37FpmlZCmlKmP7</td>\n",
       "    </tr>\n",
       "    <tr>\n",
       "      <th>7</th>\n",
       "      <td>[Meg Myers]</td>\n",
       "      <td>Numb</td>\n",
       "      <td>3XMyREykeptNpvd0tE75xw</td>\n",
       "    </tr>\n",
       "    <tr>\n",
       "      <th>8</th>\n",
       "      <td>[DREAMERS]</td>\n",
       "      <td>Sweet Disaster</td>\n",
       "      <td>7bEDDsy2LFC0KSqhZp5nPE</td>\n",
       "    </tr>\n",
       "    <tr>\n",
       "      <th>9</th>\n",
       "      <td>[The Blue Stones]</td>\n",
       "      <td>Black Holes (Solid Ground)</td>\n",
       "      <td>4JuQaU1j7vFXwK5g30kxiv</td>\n",
       "    </tr>\n",
       "    <tr>\n",
       "      <th>10</th>\n",
       "      <td>[Breaking Benjamin]</td>\n",
       "      <td>Blow Me Away - Soundtrack Version</td>\n",
       "      <td>2F795k1I1co8ZGz3nzRpLu</td>\n",
       "    </tr>\n",
       "    <tr>\n",
       "      <th>11</th>\n",
       "      <td>[Iron Maiden]</td>\n",
       "      <td>2 Minutes to Midnight - 2015 Remaster</td>\n",
       "      <td>2SrVGpjv0mqCR6j9EZPSm2</td>\n",
       "    </tr>\n",
       "    <tr>\n",
       "      <th>12</th>\n",
       "      <td>[Bea Miller]</td>\n",
       "      <td>S.L.U.T.</td>\n",
       "      <td>6h3lMAmmpQDFqoHk9F99IR</td>\n",
       "    </tr>\n",
       "  </tbody>\n",
       "</table>\n",
       "</div>"
      ],
      "text/plain": [
       "                artists                                   name  \\\n",
       "0           [Metallica]                          Enter Sandman   \n",
       "1       [Bishop Briggs]                                   Baby   \n",
       "2         [Gipsy Kings]                                   Cafe   \n",
       "3              [K.Flay]                            High Enough   \n",
       "4     [Young the Giant]                          Superposition   \n",
       "5          [Bear Hands]        Back Seat Driver (Spirit Guide)   \n",
       "6             [Chambao]                           Ahí Estás Tú   \n",
       "7           [Meg Myers]                                   Numb   \n",
       "8            [DREAMERS]                         Sweet Disaster   \n",
       "9     [The Blue Stones]             Black Holes (Solid Ground)   \n",
       "10  [Breaking Benjamin]      Blow Me Away - Soundtrack Version   \n",
       "11        [Iron Maiden]  2 Minutes to Midnight - 2015 Remaster   \n",
       "12         [Bea Miller]                               S.L.U.T.   \n",
       "\n",
       "                        id  \n",
       "0   5BIMPccDwShpXq784RJlJp  \n",
       "1   21vwWfS6qvxh8TN3lgHvZr  \n",
       "2   4Q5yffbXRbtRwYEE8jge1n  \n",
       "3   1qwno7xb5mJe71xtMS6jl2  \n",
       "4   67YPjbcxUypwNOwYBZquq1  \n",
       "5   5ArLjtR7vrrCZNMm20DpRC  \n",
       "6   1dgFSrqG37FpmlZCmlKmP7  \n",
       "7   3XMyREykeptNpvd0tE75xw  \n",
       "8   7bEDDsy2LFC0KSqhZp5nPE  \n",
       "9   4JuQaU1j7vFXwK5g30kxiv  \n",
       "10  2F795k1I1co8ZGz3nzRpLu  \n",
       "11  2SrVGpjv0mqCR6j9EZPSm2  \n",
       "12  6h3lMAmmpQDFqoHk9F99IR  "
      ]
     },
     "metadata": {},
     "output_type": "display_data"
    },
    {
     "name": "stdout",
     "output_type": "stream",
     "text": [
      "Visualizing...\n"
     ]
    },
    {
     "data": {
      "application/vnd.plotly.v1+json": {
       "config": {
        "plotlyServerURL": "https://plot.ly"
       },
       "data": [
        {
         "line": {
          "color": "#000000",
          "width": 1
         },
         "marker": {
          "color": [
           1.6995824101723804,
           0.04063790209191529,
           -0.7443825056877612,
           0.8839026323949738,
           0.811735120757471,
           0.5823405441897989,
           1.1219837517364384,
           1.431271438496933,
           1.7688549021145104,
           1.2300191704852566,
           0.9573306748426252,
           0.2759870114133432,
           0.18074131057022444
          ],
          "colorscale": [
           [
            0,
            "#440154"
           ],
           [
            0.1111111111111111,
            "#482878"
           ],
           [
            0.2222222222222222,
            "#3e4989"
           ],
           [
            0.3333333333333333,
            "#31688e"
           ],
           [
            0.4444444444444444,
            "#26828e"
           ],
           [
            0.5555555555555556,
            "#1f9e89"
           ],
           [
            0.6666666666666666,
            "#35b779"
           ],
           [
            0.7777777777777778,
            "#6ece58"
           ],
           [
            0.8888888888888888,
            "#b5de2b"
           ],
           [
            1,
            "#fde725"
           ]
          ],
          "opacity": 0.8,
          "size": 5
         },
         "mode": "lines+markers",
         "text": [
          "Metallica - Enter Sandman",
          "Bishop Briggs - Baby",
          "Gipsy Kings - Cafe",
          "K.Flay - High Enough",
          "Young the Giant - Superposition",
          "Bear Hands - Back Seat Driver (Spirit Guide)",
          "Chambao - Ahí Estás Tú",
          "Meg Myers - Numb",
          "DREAMERS - Sweet Disaster",
          "The Blue Stones - Black Holes (Solid Ground)",
          "Breaking Benjamin - Blow Me Away - Soundtrack Version",
          "Iron Maiden - 2 Minutes to Midnight - 2015 Remaster",
          "Bea Miller - S.L.U.T."
         ],
         "type": "scatter3d",
         "x": [
          0.972379590704573,
          0.8431361254568626,
          1.339970761975347,
          0.9586428612216237,
          1.0974956927915371,
          1.0559999587360134,
          1.4103578886200017,
          1.0722150017996517,
          1.622511929210262,
          1.3153787585657544,
          2.1509418774656544,
          2.0183334975885647,
          2.1041316568306025
         ],
         "y": [
          -0.7775891651733767,
          0.49396525899612315,
          -1.497290152765025,
          -0.13975514382493204,
          0.06224860427819981,
          0.28715343996783604,
          0.49070913036066693,
          0.5366477552570121,
          0.18513871471885093,
          0.5276887133134729,
          0.4050802089940782,
          0.7451716306050207,
          -1.0652808478345972
         ],
         "z": [
          1.6995824101723804,
          0.04063790209191529,
          -0.7443825056877612,
          0.8839026323949738,
          0.811735120757471,
          0.5823405441897989,
          1.1219837517364384,
          1.431271438496933,
          1.7688549021145104,
          1.2300191704852566,
          0.9573306748426252,
          0.2759870114133432,
          0.18074131057022444
         ]
        }
       ],
       "layout": {
        "margin": {
         "b": 0,
         "l": 0,
         "r": 0,
         "t": 0
        },
        "scene": {
         "xaxis": {
          "title": {
           "text": "PC0"
          }
         },
         "yaxis": {
          "title": {
           "text": "PC1"
          }
         },
         "zaxis": {
          "title": {
           "text": "PC2"
          }
         }
        },
        "template": {
         "data": {
          "bar": [
           {
            "error_x": {
             "color": "#2a3f5f"
            },
            "error_y": {
             "color": "#2a3f5f"
            },
            "marker": {
             "line": {
              "color": "#E5ECF6",
              "width": 0.5
             }
            },
            "type": "bar"
           }
          ],
          "barpolar": [
           {
            "marker": {
             "line": {
              "color": "#E5ECF6",
              "width": 0.5
             }
            },
            "type": "barpolar"
           }
          ],
          "carpet": [
           {
            "aaxis": {
             "endlinecolor": "#2a3f5f",
             "gridcolor": "white",
             "linecolor": "white",
             "minorgridcolor": "white",
             "startlinecolor": "#2a3f5f"
            },
            "baxis": {
             "endlinecolor": "#2a3f5f",
             "gridcolor": "white",
             "linecolor": "white",
             "minorgridcolor": "white",
             "startlinecolor": "#2a3f5f"
            },
            "type": "carpet"
           }
          ],
          "choropleth": [
           {
            "colorbar": {
             "outlinewidth": 0,
             "ticks": ""
            },
            "type": "choropleth"
           }
          ],
          "contour": [
           {
            "colorbar": {
             "outlinewidth": 0,
             "ticks": ""
            },
            "colorscale": [
             [
              0,
              "#0d0887"
             ],
             [
              0.1111111111111111,
              "#46039f"
             ],
             [
              0.2222222222222222,
              "#7201a8"
             ],
             [
              0.3333333333333333,
              "#9c179e"
             ],
             [
              0.4444444444444444,
              "#bd3786"
             ],
             [
              0.5555555555555556,
              "#d8576b"
             ],
             [
              0.6666666666666666,
              "#ed7953"
             ],
             [
              0.7777777777777778,
              "#fb9f3a"
             ],
             [
              0.8888888888888888,
              "#fdca26"
             ],
             [
              1,
              "#f0f921"
             ]
            ],
            "type": "contour"
           }
          ],
          "contourcarpet": [
           {
            "colorbar": {
             "outlinewidth": 0,
             "ticks": ""
            },
            "type": "contourcarpet"
           }
          ],
          "heatmap": [
           {
            "colorbar": {
             "outlinewidth": 0,
             "ticks": ""
            },
            "colorscale": [
             [
              0,
              "#0d0887"
             ],
             [
              0.1111111111111111,
              "#46039f"
             ],
             [
              0.2222222222222222,
              "#7201a8"
             ],
             [
              0.3333333333333333,
              "#9c179e"
             ],
             [
              0.4444444444444444,
              "#bd3786"
             ],
             [
              0.5555555555555556,
              "#d8576b"
             ],
             [
              0.6666666666666666,
              "#ed7953"
             ],
             [
              0.7777777777777778,
              "#fb9f3a"
             ],
             [
              0.8888888888888888,
              "#fdca26"
             ],
             [
              1,
              "#f0f921"
             ]
            ],
            "type": "heatmap"
           }
          ],
          "heatmapgl": [
           {
            "colorbar": {
             "outlinewidth": 0,
             "ticks": ""
            },
            "colorscale": [
             [
              0,
              "#0d0887"
             ],
             [
              0.1111111111111111,
              "#46039f"
             ],
             [
              0.2222222222222222,
              "#7201a8"
             ],
             [
              0.3333333333333333,
              "#9c179e"
             ],
             [
              0.4444444444444444,
              "#bd3786"
             ],
             [
              0.5555555555555556,
              "#d8576b"
             ],
             [
              0.6666666666666666,
              "#ed7953"
             ],
             [
              0.7777777777777778,
              "#fb9f3a"
             ],
             [
              0.8888888888888888,
              "#fdca26"
             ],
             [
              1,
              "#f0f921"
             ]
            ],
            "type": "heatmapgl"
           }
          ],
          "histogram": [
           {
            "marker": {
             "colorbar": {
              "outlinewidth": 0,
              "ticks": ""
             }
            },
            "type": "histogram"
           }
          ],
          "histogram2d": [
           {
            "colorbar": {
             "outlinewidth": 0,
             "ticks": ""
            },
            "colorscale": [
             [
              0,
              "#0d0887"
             ],
             [
              0.1111111111111111,
              "#46039f"
             ],
             [
              0.2222222222222222,
              "#7201a8"
             ],
             [
              0.3333333333333333,
              "#9c179e"
             ],
             [
              0.4444444444444444,
              "#bd3786"
             ],
             [
              0.5555555555555556,
              "#d8576b"
             ],
             [
              0.6666666666666666,
              "#ed7953"
             ],
             [
              0.7777777777777778,
              "#fb9f3a"
             ],
             [
              0.8888888888888888,
              "#fdca26"
             ],
             [
              1,
              "#f0f921"
             ]
            ],
            "type": "histogram2d"
           }
          ],
          "histogram2dcontour": [
           {
            "colorbar": {
             "outlinewidth": 0,
             "ticks": ""
            },
            "colorscale": [
             [
              0,
              "#0d0887"
             ],
             [
              0.1111111111111111,
              "#46039f"
             ],
             [
              0.2222222222222222,
              "#7201a8"
             ],
             [
              0.3333333333333333,
              "#9c179e"
             ],
             [
              0.4444444444444444,
              "#bd3786"
             ],
             [
              0.5555555555555556,
              "#d8576b"
             ],
             [
              0.6666666666666666,
              "#ed7953"
             ],
             [
              0.7777777777777778,
              "#fb9f3a"
             ],
             [
              0.8888888888888888,
              "#fdca26"
             ],
             [
              1,
              "#f0f921"
             ]
            ],
            "type": "histogram2dcontour"
           }
          ],
          "mesh3d": [
           {
            "colorbar": {
             "outlinewidth": 0,
             "ticks": ""
            },
            "type": "mesh3d"
           }
          ],
          "parcoords": [
           {
            "line": {
             "colorbar": {
              "outlinewidth": 0,
              "ticks": ""
             }
            },
            "type": "parcoords"
           }
          ],
          "scatter": [
           {
            "marker": {
             "colorbar": {
              "outlinewidth": 0,
              "ticks": ""
             }
            },
            "type": "scatter"
           }
          ],
          "scatter3d": [
           {
            "line": {
             "colorbar": {
              "outlinewidth": 0,
              "ticks": ""
             }
            },
            "marker": {
             "colorbar": {
              "outlinewidth": 0,
              "ticks": ""
             }
            },
            "type": "scatter3d"
           }
          ],
          "scattercarpet": [
           {
            "marker": {
             "colorbar": {
              "outlinewidth": 0,
              "ticks": ""
             }
            },
            "type": "scattercarpet"
           }
          ],
          "scattergeo": [
           {
            "marker": {
             "colorbar": {
              "outlinewidth": 0,
              "ticks": ""
             }
            },
            "type": "scattergeo"
           }
          ],
          "scattergl": [
           {
            "marker": {
             "colorbar": {
              "outlinewidth": 0,
              "ticks": ""
             }
            },
            "type": "scattergl"
           }
          ],
          "scattermapbox": [
           {
            "marker": {
             "colorbar": {
              "outlinewidth": 0,
              "ticks": ""
             }
            },
            "type": "scattermapbox"
           }
          ],
          "scatterpolar": [
           {
            "marker": {
             "colorbar": {
              "outlinewidth": 0,
              "ticks": ""
             }
            },
            "type": "scatterpolar"
           }
          ],
          "scatterpolargl": [
           {
            "marker": {
             "colorbar": {
              "outlinewidth": 0,
              "ticks": ""
             }
            },
            "type": "scatterpolargl"
           }
          ],
          "scatterternary": [
           {
            "marker": {
             "colorbar": {
              "outlinewidth": 0,
              "ticks": ""
             }
            },
            "type": "scatterternary"
           }
          ],
          "surface": [
           {
            "colorbar": {
             "outlinewidth": 0,
             "ticks": ""
            },
            "colorscale": [
             [
              0,
              "#0d0887"
             ],
             [
              0.1111111111111111,
              "#46039f"
             ],
             [
              0.2222222222222222,
              "#7201a8"
             ],
             [
              0.3333333333333333,
              "#9c179e"
             ],
             [
              0.4444444444444444,
              "#bd3786"
             ],
             [
              0.5555555555555556,
              "#d8576b"
             ],
             [
              0.6666666666666666,
              "#ed7953"
             ],
             [
              0.7777777777777778,
              "#fb9f3a"
             ],
             [
              0.8888888888888888,
              "#fdca26"
             ],
             [
              1,
              "#f0f921"
             ]
            ],
            "type": "surface"
           }
          ],
          "table": [
           {
            "cells": {
             "fill": {
              "color": "#EBF0F8"
             },
             "line": {
              "color": "white"
             }
            },
            "header": {
             "fill": {
              "color": "#C8D4E3"
             },
             "line": {
              "color": "white"
             }
            },
            "type": "table"
           }
          ]
         },
         "layout": {
          "annotationdefaults": {
           "arrowcolor": "#2a3f5f",
           "arrowhead": 0,
           "arrowwidth": 1
          },
          "colorscale": {
           "diverging": [
            [
             0,
             "#8e0152"
            ],
            [
             0.1,
             "#c51b7d"
            ],
            [
             0.2,
             "#de77ae"
            ],
            [
             0.3,
             "#f1b6da"
            ],
            [
             0.4,
             "#fde0ef"
            ],
            [
             0.5,
             "#f7f7f7"
            ],
            [
             0.6,
             "#e6f5d0"
            ],
            [
             0.7,
             "#b8e186"
            ],
            [
             0.8,
             "#7fbc41"
            ],
            [
             0.9,
             "#4d9221"
            ],
            [
             1,
             "#276419"
            ]
           ],
           "sequential": [
            [
             0,
             "#0d0887"
            ],
            [
             0.1111111111111111,
             "#46039f"
            ],
            [
             0.2222222222222222,
             "#7201a8"
            ],
            [
             0.3333333333333333,
             "#9c179e"
            ],
            [
             0.4444444444444444,
             "#bd3786"
            ],
            [
             0.5555555555555556,
             "#d8576b"
            ],
            [
             0.6666666666666666,
             "#ed7953"
            ],
            [
             0.7777777777777778,
             "#fb9f3a"
            ],
            [
             0.8888888888888888,
             "#fdca26"
            ],
            [
             1,
             "#f0f921"
            ]
           ],
           "sequentialminus": [
            [
             0,
             "#0d0887"
            ],
            [
             0.1111111111111111,
             "#46039f"
            ],
            [
             0.2222222222222222,
             "#7201a8"
            ],
            [
             0.3333333333333333,
             "#9c179e"
            ],
            [
             0.4444444444444444,
             "#bd3786"
            ],
            [
             0.5555555555555556,
             "#d8576b"
            ],
            [
             0.6666666666666666,
             "#ed7953"
            ],
            [
             0.7777777777777778,
             "#fb9f3a"
            ],
            [
             0.8888888888888888,
             "#fdca26"
            ],
            [
             1,
             "#f0f921"
            ]
           ]
          },
          "colorway": [
           "#636efa",
           "#EF553B",
           "#00cc96",
           "#ab63fa",
           "#FFA15A",
           "#19d3f3",
           "#FF6692",
           "#B6E880",
           "#FF97FF",
           "#FECB52"
          ],
          "font": {
           "color": "#2a3f5f"
          },
          "geo": {
           "bgcolor": "white",
           "lakecolor": "white",
           "landcolor": "#E5ECF6",
           "showlakes": true,
           "showland": true,
           "subunitcolor": "white"
          },
          "hoverlabel": {
           "align": "left"
          },
          "hovermode": "closest",
          "mapbox": {
           "style": "light"
          },
          "paper_bgcolor": "white",
          "plot_bgcolor": "#E5ECF6",
          "polar": {
           "angularaxis": {
            "gridcolor": "white",
            "linecolor": "white",
            "ticks": ""
           },
           "bgcolor": "#E5ECF6",
           "radialaxis": {
            "gridcolor": "white",
            "linecolor": "white",
            "ticks": ""
           }
          },
          "scene": {
           "xaxis": {
            "backgroundcolor": "#E5ECF6",
            "gridcolor": "white",
            "gridwidth": 2,
            "linecolor": "white",
            "showbackground": true,
            "ticks": "",
            "zerolinecolor": "white"
           },
           "yaxis": {
            "backgroundcolor": "#E5ECF6",
            "gridcolor": "white",
            "gridwidth": 2,
            "linecolor": "white",
            "showbackground": true,
            "ticks": "",
            "zerolinecolor": "white"
           },
           "zaxis": {
            "backgroundcolor": "#E5ECF6",
            "gridcolor": "white",
            "gridwidth": 2,
            "linecolor": "white",
            "showbackground": true,
            "ticks": "",
            "zerolinecolor": "white"
           }
          },
          "shapedefaults": {
           "line": {
            "color": "#2a3f5f"
           }
          },
          "ternary": {
           "aaxis": {
            "gridcolor": "white",
            "linecolor": "white",
            "ticks": ""
           },
           "baxis": {
            "gridcolor": "white",
            "linecolor": "white",
            "ticks": ""
           },
           "bgcolor": "#E5ECF6",
           "caxis": {
            "gridcolor": "white",
            "linecolor": "white",
            "ticks": ""
           }
          },
          "title": {
           "x": 0.05
          },
          "xaxis": {
           "automargin": true,
           "gridcolor": "white",
           "linecolor": "white",
           "ticks": "",
           "zerolinecolor": "white",
           "zerolinewidth": 2
          },
          "yaxis": {
           "automargin": true,
           "gridcolor": "white",
           "linecolor": "white",
           "ticks": "",
           "zerolinecolor": "white",
           "zerolinewidth": 2
          }
         }
        }
       }
      },
      "text/html": [
       "<div>\n",
       "        \n",
       "        \n",
       "            <div id=\"eb13a64b-93df-4cc8-96a7-ebc7e382caa1\" class=\"plotly-graph-div\" style=\"height:525px; width:100%;\"></div>\n",
       "            <script type=\"text/javascript\">\n",
       "                require([\"plotly\"], function(Plotly) {\n",
       "                    window.PLOTLYENV=window.PLOTLYENV || {};\n",
       "                    \n",
       "                if (document.getElementById(\"eb13a64b-93df-4cc8-96a7-ebc7e382caa1\")) {\n",
       "                    Plotly.newPlot(\n",
       "                        'eb13a64b-93df-4cc8-96a7-ebc7e382caa1',\n",
       "                        [{\"line\": {\"color\": \"#000000\", \"width\": 1}, \"marker\": {\"color\": [1.6995824101723804, 0.04063790209191529, -0.7443825056877612, 0.8839026323949738, 0.811735120757471, 0.5823405441897989, 1.1219837517364384, 1.431271438496933, 1.7688549021145104, 1.2300191704852566, 0.9573306748426252, 0.2759870114133432, 0.18074131057022444], \"colorscale\": [[0.0, \"#440154\"], [0.1111111111111111, \"#482878\"], [0.2222222222222222, \"#3e4989\"], [0.3333333333333333, \"#31688e\"], [0.4444444444444444, \"#26828e\"], [0.5555555555555556, \"#1f9e89\"], [0.6666666666666666, \"#35b779\"], [0.7777777777777778, \"#6ece58\"], [0.8888888888888888, \"#b5de2b\"], [1.0, \"#fde725\"]], \"opacity\": 0.8, \"size\": 5}, \"mode\": \"lines+markers\", \"text\": [\"Metallica - Enter Sandman\", \"Bishop Briggs - Baby\", \"Gipsy Kings - Cafe\", \"K.Flay - High Enough\", \"Young the Giant - Superposition\", \"Bear Hands - Back Seat Driver (Spirit Guide)\", \"Chambao - Ah\\u00ed Est\\u00e1s T\\u00fa\", \"Meg Myers - Numb\", \"DREAMERS - Sweet Disaster\", \"The Blue Stones - Black Holes (Solid Ground)\", \"Breaking Benjamin - Blow Me Away - Soundtrack Version\", \"Iron Maiden - 2 Minutes to Midnight - 2015 Remaster\", \"Bea Miller - S.L.U.T.\"], \"type\": \"scatter3d\", \"x\": [0.972379590704573, 0.8431361254568626, 1.339970761975347, 0.9586428612216237, 1.0974956927915371, 1.0559999587360134, 1.4103578886200017, 1.0722150017996517, 1.622511929210262, 1.3153787585657544, 2.1509418774656544, 2.0183334975885647, 2.1041316568306025], \"y\": [-0.7775891651733767, 0.49396525899612315, -1.497290152765025, -0.13975514382493204, 0.06224860427819981, 0.28715343996783604, 0.49070913036066693, 0.5366477552570121, 0.18513871471885093, 0.5276887133134729, 0.4050802089940782, 0.7451716306050207, -1.0652808478345972], \"z\": [1.6995824101723804, 0.04063790209191529, -0.7443825056877612, 0.8839026323949738, 0.811735120757471, 0.5823405441897989, 1.1219837517364384, 1.431271438496933, 1.7688549021145104, 1.2300191704852566, 0.9573306748426252, 0.2759870114133432, 0.18074131057022444]}],\n",
       "                        {\"margin\": {\"b\": 0, \"l\": 0, \"r\": 0, \"t\": 0}, \"scene\": {\"xaxis\": {\"title\": {\"text\": \"PC0\"}}, \"yaxis\": {\"title\": {\"text\": \"PC1\"}}, \"zaxis\": {\"title\": {\"text\": \"PC2\"}}}, \"template\": {\"data\": {\"bar\": [{\"error_x\": {\"color\": \"#2a3f5f\"}, \"error_y\": {\"color\": \"#2a3f5f\"}, \"marker\": {\"line\": {\"color\": \"#E5ECF6\", \"width\": 0.5}}, \"type\": \"bar\"}], \"barpolar\": [{\"marker\": {\"line\": {\"color\": \"#E5ECF6\", \"width\": 0.5}}, \"type\": \"barpolar\"}], \"carpet\": [{\"aaxis\": {\"endlinecolor\": \"#2a3f5f\", \"gridcolor\": \"white\", \"linecolor\": \"white\", \"minorgridcolor\": \"white\", \"startlinecolor\": \"#2a3f5f\"}, \"baxis\": {\"endlinecolor\": \"#2a3f5f\", \"gridcolor\": \"white\", \"linecolor\": \"white\", \"minorgridcolor\": \"white\", \"startlinecolor\": \"#2a3f5f\"}, \"type\": \"carpet\"}], \"choropleth\": [{\"colorbar\": {\"outlinewidth\": 0, \"ticks\": \"\"}, \"type\": \"choropleth\"}], \"contour\": [{\"colorbar\": {\"outlinewidth\": 0, \"ticks\": \"\"}, \"colorscale\": [[0.0, \"#0d0887\"], [0.1111111111111111, \"#46039f\"], [0.2222222222222222, \"#7201a8\"], [0.3333333333333333, \"#9c179e\"], [0.4444444444444444, \"#bd3786\"], [0.5555555555555556, \"#d8576b\"], [0.6666666666666666, \"#ed7953\"], [0.7777777777777778, \"#fb9f3a\"], [0.8888888888888888, \"#fdca26\"], [1.0, \"#f0f921\"]], \"type\": \"contour\"}], \"contourcarpet\": [{\"colorbar\": {\"outlinewidth\": 0, \"ticks\": \"\"}, \"type\": \"contourcarpet\"}], \"heatmap\": [{\"colorbar\": {\"outlinewidth\": 0, \"ticks\": \"\"}, \"colorscale\": [[0.0, \"#0d0887\"], [0.1111111111111111, \"#46039f\"], [0.2222222222222222, \"#7201a8\"], [0.3333333333333333, \"#9c179e\"], [0.4444444444444444, \"#bd3786\"], [0.5555555555555556, \"#d8576b\"], [0.6666666666666666, \"#ed7953\"], [0.7777777777777778, \"#fb9f3a\"], [0.8888888888888888, \"#fdca26\"], [1.0, \"#f0f921\"]], \"type\": \"heatmap\"}], \"heatmapgl\": [{\"colorbar\": {\"outlinewidth\": 0, \"ticks\": \"\"}, \"colorscale\": [[0.0, \"#0d0887\"], [0.1111111111111111, \"#46039f\"], [0.2222222222222222, \"#7201a8\"], [0.3333333333333333, \"#9c179e\"], [0.4444444444444444, \"#bd3786\"], [0.5555555555555556, \"#d8576b\"], [0.6666666666666666, \"#ed7953\"], [0.7777777777777778, \"#fb9f3a\"], [0.8888888888888888, \"#fdca26\"], [1.0, \"#f0f921\"]], \"type\": \"heatmapgl\"}], \"histogram\": [{\"marker\": {\"colorbar\": {\"outlinewidth\": 0, \"ticks\": \"\"}}, \"type\": \"histogram\"}], \"histogram2d\": [{\"colorbar\": {\"outlinewidth\": 0, \"ticks\": \"\"}, \"colorscale\": [[0.0, \"#0d0887\"], [0.1111111111111111, \"#46039f\"], [0.2222222222222222, \"#7201a8\"], [0.3333333333333333, \"#9c179e\"], [0.4444444444444444, \"#bd3786\"], [0.5555555555555556, \"#d8576b\"], [0.6666666666666666, \"#ed7953\"], [0.7777777777777778, \"#fb9f3a\"], [0.8888888888888888, \"#fdca26\"], [1.0, \"#f0f921\"]], \"type\": \"histogram2d\"}], \"histogram2dcontour\": [{\"colorbar\": {\"outlinewidth\": 0, \"ticks\": \"\"}, \"colorscale\": [[0.0, \"#0d0887\"], [0.1111111111111111, \"#46039f\"], [0.2222222222222222, \"#7201a8\"], [0.3333333333333333, \"#9c179e\"], [0.4444444444444444, \"#bd3786\"], [0.5555555555555556, \"#d8576b\"], [0.6666666666666666, \"#ed7953\"], [0.7777777777777778, \"#fb9f3a\"], [0.8888888888888888, \"#fdca26\"], [1.0, \"#f0f921\"]], \"type\": \"histogram2dcontour\"}], \"mesh3d\": [{\"colorbar\": {\"outlinewidth\": 0, \"ticks\": \"\"}, \"type\": \"mesh3d\"}], \"parcoords\": [{\"line\": {\"colorbar\": {\"outlinewidth\": 0, \"ticks\": \"\"}}, \"type\": \"parcoords\"}], \"scatter\": [{\"marker\": {\"colorbar\": {\"outlinewidth\": 0, \"ticks\": \"\"}}, \"type\": \"scatter\"}], \"scatter3d\": [{\"line\": {\"colorbar\": {\"outlinewidth\": 0, \"ticks\": \"\"}}, \"marker\": {\"colorbar\": {\"outlinewidth\": 0, \"ticks\": \"\"}}, \"type\": \"scatter3d\"}], \"scattercarpet\": [{\"marker\": {\"colorbar\": {\"outlinewidth\": 0, \"ticks\": \"\"}}, \"type\": \"scattercarpet\"}], \"scattergeo\": [{\"marker\": {\"colorbar\": {\"outlinewidth\": 0, \"ticks\": \"\"}}, \"type\": \"scattergeo\"}], \"scattergl\": [{\"marker\": {\"colorbar\": {\"outlinewidth\": 0, \"ticks\": \"\"}}, \"type\": \"scattergl\"}], \"scattermapbox\": [{\"marker\": {\"colorbar\": {\"outlinewidth\": 0, \"ticks\": \"\"}}, \"type\": \"scattermapbox\"}], \"scatterpolar\": [{\"marker\": {\"colorbar\": {\"outlinewidth\": 0, \"ticks\": \"\"}}, \"type\": \"scatterpolar\"}], \"scatterpolargl\": [{\"marker\": {\"colorbar\": {\"outlinewidth\": 0, \"ticks\": \"\"}}, \"type\": \"scatterpolargl\"}], \"scatterternary\": [{\"marker\": {\"colorbar\": {\"outlinewidth\": 0, \"ticks\": \"\"}}, \"type\": \"scatterternary\"}], \"surface\": [{\"colorbar\": {\"outlinewidth\": 0, \"ticks\": \"\"}, \"colorscale\": [[0.0, \"#0d0887\"], [0.1111111111111111, \"#46039f\"], [0.2222222222222222, \"#7201a8\"], [0.3333333333333333, \"#9c179e\"], [0.4444444444444444, \"#bd3786\"], [0.5555555555555556, \"#d8576b\"], [0.6666666666666666, \"#ed7953\"], [0.7777777777777778, \"#fb9f3a\"], [0.8888888888888888, \"#fdca26\"], [1.0, \"#f0f921\"]], \"type\": \"surface\"}], \"table\": [{\"cells\": {\"fill\": {\"color\": \"#EBF0F8\"}, \"line\": {\"color\": \"white\"}}, \"header\": {\"fill\": {\"color\": \"#C8D4E3\"}, \"line\": {\"color\": \"white\"}}, \"type\": \"table\"}]}, \"layout\": {\"annotationdefaults\": {\"arrowcolor\": \"#2a3f5f\", \"arrowhead\": 0, \"arrowwidth\": 1}, \"colorscale\": {\"diverging\": [[0, \"#8e0152\"], [0.1, \"#c51b7d\"], [0.2, \"#de77ae\"], [0.3, \"#f1b6da\"], [0.4, \"#fde0ef\"], [0.5, \"#f7f7f7\"], [0.6, \"#e6f5d0\"], [0.7, \"#b8e186\"], [0.8, \"#7fbc41\"], [0.9, \"#4d9221\"], [1, \"#276419\"]], \"sequential\": [[0.0, \"#0d0887\"], [0.1111111111111111, \"#46039f\"], [0.2222222222222222, \"#7201a8\"], [0.3333333333333333, \"#9c179e\"], [0.4444444444444444, \"#bd3786\"], [0.5555555555555556, \"#d8576b\"], [0.6666666666666666, \"#ed7953\"], [0.7777777777777778, \"#fb9f3a\"], [0.8888888888888888, \"#fdca26\"], [1.0, \"#f0f921\"]], \"sequentialminus\": [[0.0, \"#0d0887\"], [0.1111111111111111, \"#46039f\"], [0.2222222222222222, \"#7201a8\"], [0.3333333333333333, \"#9c179e\"], [0.4444444444444444, \"#bd3786\"], [0.5555555555555556, \"#d8576b\"], [0.6666666666666666, \"#ed7953\"], [0.7777777777777778, \"#fb9f3a\"], [0.8888888888888888, \"#fdca26\"], [1.0, \"#f0f921\"]]}, \"colorway\": [\"#636efa\", \"#EF553B\", \"#00cc96\", \"#ab63fa\", \"#FFA15A\", \"#19d3f3\", \"#FF6692\", \"#B6E880\", \"#FF97FF\", \"#FECB52\"], \"font\": {\"color\": \"#2a3f5f\"}, \"geo\": {\"bgcolor\": \"white\", \"lakecolor\": \"white\", \"landcolor\": \"#E5ECF6\", \"showlakes\": true, \"showland\": true, \"subunitcolor\": \"white\"}, \"hoverlabel\": {\"align\": \"left\"}, \"hovermode\": \"closest\", \"mapbox\": {\"style\": \"light\"}, \"paper_bgcolor\": \"white\", \"plot_bgcolor\": \"#E5ECF6\", \"polar\": {\"angularaxis\": {\"gridcolor\": \"white\", \"linecolor\": \"white\", \"ticks\": \"\"}, \"bgcolor\": \"#E5ECF6\", \"radialaxis\": {\"gridcolor\": \"white\", \"linecolor\": \"white\", \"ticks\": \"\"}}, \"scene\": {\"xaxis\": {\"backgroundcolor\": \"#E5ECF6\", \"gridcolor\": \"white\", \"gridwidth\": 2, \"linecolor\": \"white\", \"showbackground\": true, \"ticks\": \"\", \"zerolinecolor\": \"white\"}, \"yaxis\": {\"backgroundcolor\": \"#E5ECF6\", \"gridcolor\": \"white\", \"gridwidth\": 2, \"linecolor\": \"white\", \"showbackground\": true, \"ticks\": \"\", \"zerolinecolor\": \"white\"}, \"zaxis\": {\"backgroundcolor\": \"#E5ECF6\", \"gridcolor\": \"white\", \"gridwidth\": 2, \"linecolor\": \"white\", \"showbackground\": true, \"ticks\": \"\", \"zerolinecolor\": \"white\"}}, \"shapedefaults\": {\"line\": {\"color\": \"#2a3f5f\"}}, \"ternary\": {\"aaxis\": {\"gridcolor\": \"white\", \"linecolor\": \"white\", \"ticks\": \"\"}, \"baxis\": {\"gridcolor\": \"white\", \"linecolor\": \"white\", \"ticks\": \"\"}, \"bgcolor\": \"#E5ECF6\", \"caxis\": {\"gridcolor\": \"white\", \"linecolor\": \"white\", \"ticks\": \"\"}}, \"title\": {\"x\": 0.05}, \"xaxis\": {\"automargin\": true, \"gridcolor\": \"white\", \"linecolor\": \"white\", \"ticks\": \"\", \"zerolinecolor\": \"white\", \"zerolinewidth\": 2}, \"yaxis\": {\"automargin\": true, \"gridcolor\": \"white\", \"linecolor\": \"white\", \"ticks\": \"\", \"zerolinecolor\": \"white\", \"zerolinewidth\": 2}}}},\n",
       "                        {\"responsive\": true}\n",
       "                    ).then(function(){\n",
       "                            \n",
       "var gd = document.getElementById('eb13a64b-93df-4cc8-96a7-ebc7e382caa1');\n",
       "var x = new MutationObserver(function (mutations, observer) {{\n",
       "        var display = window.getComputedStyle(gd).display;\n",
       "        if (!display || display === 'none') {{\n",
       "            console.log([gd, 'removed!']);\n",
       "            Plotly.purge(gd);\n",
       "            observer.disconnect();\n",
       "        }}\n",
       "}});\n",
       "\n",
       "// Listen for the removal of the full notebook cells\n",
       "var notebookContainer = gd.closest('#notebook-container');\n",
       "if (notebookContainer) {{\n",
       "    x.observe(notebookContainer, {childList: true});\n",
       "}}\n",
       "\n",
       "// Listen for the clearing of the current output cell\n",
       "var outputEl = gd.closest('.output');\n",
       "if (outputEl) {{\n",
       "    x.observe(outputEl, {childList: true});\n",
       "}}\n",
       "\n",
       "                        })\n",
       "                };\n",
       "                });\n",
       "            </script>\n",
       "        </div>"
      ]
     },
     "metadata": {},
     "output_type": "display_data"
    },
    {
     "data": {
      "text/plain": [
       "<__main__.Playlist at 0x14a7645f8>"
      ]
     },
     "execution_count": 266,
     "metadata": {},
     "output_type": "execute_result"
    }
   ],
   "source": [
    "Playlist() "
   ]
  }
 ],
 "metadata": {
  "kernelspec": {
   "display_name": "Python 3",
   "language": "python",
   "name": "python3"
  },
  "language_info": {
   "codemirror_mode": {
    "name": "ipython",
    "version": 3
   },
   "file_extension": ".py",
   "mimetype": "text/x-python",
   "name": "python",
   "nbconvert_exporter": "python",
   "pygments_lexer": "ipython3",
   "version": "3.6.8"
  }
 },
 "nbformat": 4,
 "nbformat_minor": 2
}
