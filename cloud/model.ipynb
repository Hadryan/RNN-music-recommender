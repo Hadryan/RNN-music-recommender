{
 "cells": [
  {
   "cell_type": "code",
   "execution_count": 2,
   "metadata": {},
   "outputs": [
    {
     "name": "stderr",
     "output_type": "stream",
     "text": [
      "Using TensorFlow backend.\n"
     ]
    }
   ],
   "source": [
    "import numpy as np\n",
    "data = np.load('../data/tensor.npy')\n",
    "\n",
    "from skimage.util.shape import view_as_windows as viewW\n",
    "from sklearn.model_selection import train_test_split\n",
    "\n",
    "import keras.backend as K\n",
    "from keras.models import Sequential\n",
    "from keras.optimizers import RMSprop\n",
    "from keras.layers import Dense, Masking\n",
    "from keras.layers.recurrent import SimpleRNN, LSTM, GRU\n",
    "from keras.losses import *"
   ]
  },
  {
   "cell_type": "code",
   "execution_count": 177,
   "metadata": {},
   "outputs": [],
   "source": [
    "# #if on AWS:\n",
    "# import numpy as np\n",
    "# from s3fs.core import S3FileSystem\n",
    "# s3 = S3FileSystem()\n",
    "\n",
    "# key = 'tensor.npy'\n",
    "# bucket = 'sagemaker-wavey-playlists'\n",
    "\n",
    "# data = np.load(s3.open('{}/data/{}'.format(bucket, key)))"
   ]
  },
  {
   "cell_type": "code",
   "execution_count": 3,
   "metadata": {},
   "outputs": [],
   "source": [
    "def independent_shift(A,r):\n",
    "    '''\n",
    "    A - TENSOR\n",
    "    r - array of shifts\n",
    "    '''\n",
    "    rows, column_indices = np.ogrid[:A.shape[0], :A.shape[1]]\n",
    "\n",
    "    r[r < 0] += A.shape[1]\n",
    "    column_indices = column_indices - r[:, np.newaxis]\n",
    "\n",
    "    return A[rows, column_indices]"
   ]
  },
  {
   "cell_type": "code",
   "execution_count": 4,
   "metadata": {},
   "outputs": [],
   "source": [
    "data = independent_shift(data,np.isnan(data)[:,:,0].sum(axis=1)-50)"
   ]
  },
  {
   "cell_type": "code",
   "execution_count": 5,
   "metadata": {},
   "outputs": [
    {
     "data": {
      "text/plain": [
       "(72051, 50, 9)"
      ]
     },
     "execution_count": 5,
     "metadata": {},
     "output_type": "execute_result"
    }
   ],
   "source": [
    "data.shape"
   ]
  },
  {
   "cell_type": "markdown",
   "metadata": {},
   "source": [
    "## Train Test Lit 🔥"
   ]
  },
  {
   "cell_type": "code",
   "execution_count": 7,
   "metadata": {},
   "outputs": [],
   "source": [
    "mask = 0\n",
    "\n",
    "X = np.where(np.isnan(data), mask, data)[:,:-1,:]\n",
    "Y = np.where(np.isnan(data), mask, data)[:,1:,1:] \n",
    "\n",
    "x_train,x_test,y_train,y_test = train_test_split(X,Y,train_size=0.9,random_state=3000) "
   ]
  },
  {
   "cell_type": "markdown",
   "metadata": {},
   "source": [
    "## Custom Loss Functions"
   ]
  },
  {
   "cell_type": "code",
   "execution_count": 182,
   "metadata": {},
   "outputs": [],
   "source": [
    "def masked_mse(mask):\n",
    "    def loss(y_true,y_pred):\n",
    "        if y_true == np.array([mask for mask in range(9)]):\n",
    "            return 0\n",
    "        else:\n",
    "            return mean_squared_error(y_true,y_pred)\n",
    "    return loss\n",
    "\n",
    "def masked_mae(mask):\n",
    "    def loss(y_true,y_pred):\n",
    "        if y_true == np.array([mask for mask in range(9)]):\n",
    "            return 0\n",
    "        else:\n",
    "            return mean_absolute_error(y_true,y_pred)\n",
    "    return loss\n",
    "\n",
    "def masked_logcosh(mask):\n",
    "    def loss(y_true,y_pred):\n",
    "        return logcosh(y_true,y_pred)*(y_true != np.array([mask for mask in range(9)]))\n",
    "    return loss\n",
    "\n",
    "def gaussian(x):\n",
    "    return K.exp(-K.pow(x,2))"
   ]
  },
  {
   "cell_type": "markdown",
   "metadata": {},
   "source": [
    "## Define and Compile Keras Model"
   ]
  },
  {
   "cell_type": "code",
   "execution_count": 16,
   "metadata": {},
   "outputs": [],
   "source": [
    "model = Sequential()\n",
    "model.add(Masking(mask_value= mask, input_shape = (None,9)))\n",
    "model.add(SimpleRNN(\n",
    "    16, \n",
    "    activation='linear', \n",
    "    return_sequences=True, \n",
    "    kernel_initializer='random_uniform',\n",
    "))\n",
    "model.add(SimpleRNN(\n",
    "    16, \n",
    "    activation='linear',\n",
    "    return_sequences=True,\n",
    "    kernel_initializer='random_uniform',\n",
    "))\n",
    "model.add(Dense(8, activation='linear', kernel_initializer='random_uniform',))"
   ]
  },
  {
   "cell_type": "code",
   "execution_count": 17,
   "metadata": {},
   "outputs": [],
   "source": [
    "model.compile(loss='mae', optimizer='adam') #optimizer=RMSprop(lr=0.005),)#metrics=['mae'])"
   ]
  },
  {
   "cell_type": "code",
   "execution_count": 18,
   "metadata": {},
   "outputs": [
    {
     "name": "stdout",
     "output_type": "stream",
     "text": [
      "Train on 64845 samples, validate on 7206 samples\n",
      "Epoch 1/10\n",
      "64845/64845 [==============================] - 51s 794us/step - loss: 0.6261 - val_loss: 0.5988\n",
      "Epoch 2/10\n",
      "64845/64845 [==============================] - 44s 674us/step - loss: 0.5975 - val_loss: 0.5965\n",
      "Epoch 3/10\n",
      "64845/64845 [==============================] - 41s 632us/step - loss: 0.5923 - val_loss: 0.5899\n",
      "Epoch 4/10\n",
      "64845/64845 [==============================] - 40s 618us/step - loss: 0.5901 - val_loss: 0.5899\n",
      "Epoch 5/10\n",
      "64845/64845 [==============================] - 39s 608us/step - loss: 0.5900 - val_loss: 0.5897\n",
      "Epoch 6/10\n",
      "64845/64845 [==============================] - 38s 581us/step - loss: 0.5899 - val_loss: 0.5897\n",
      "Epoch 7/10\n",
      "64845/64845 [==============================] - 37s 578us/step - loss: 0.5892 - val_loss: 0.5882\n",
      "Epoch 8/10\n",
      "64845/64845 [==============================] - 39s 603us/step - loss: 0.5872 - val_loss: 0.5864\n",
      "Epoch 9/10\n",
      "64845/64845 [==============================] - 44s 675us/step - loss: 0.5868 - val_loss: 0.5866\n",
      "Epoch 10/10\n",
      "64845/64845 [==============================] - 38s 587us/step - loss: 0.5868 - val_loss: 0.5864\n"
     ]
    },
    {
     "data": {
      "text/plain": [
       "<keras.callbacks.History at 0x175699d30>"
      ]
     },
     "execution_count": 18,
     "metadata": {},
     "output_type": "execute_result"
    }
   ],
   "source": [
    "model.fit(x_train, y_train, epochs=10, batch_size=32, validation_data=(x_test, y_test))"
   ]
  },
  {
   "cell_type": "code",
   "execution_count": 19,
   "metadata": {},
   "outputs": [],
   "source": [
    "#mae_optimized_model_rmsprop = model\n",
    "mae_optimized_model_adam = model"
   ]
  },
  {
   "cell_type": "code",
   "execution_count": 20,
   "metadata": {},
   "outputs": [],
   "source": [
    "mae_optimized_model_adam.save(\"model.h5\")"
   ]
  },
  {
   "cell_type": "markdown",
   "metadata": {},
   "source": [
    "#### Best Models\n",
    "- logcosh 0.2376 / mae 0.5930 - linear/linear - logcosh loss - RMSProp Optimizer\n",
    "- mae 0.5898 - linear/linear - mae loss - RMSProp Optimizer\n",
    "- mae 0.5845 - linear/linear - mae loss - Adam Optimizer\n"
   ]
  },
  {
   "cell_type": "code",
   "execution_count": 203,
   "metadata": {},
   "outputs": [],
   "source": [
    "def predict_sample(sample,model):\n",
    "    print('input')\n",
    "    print(sample) \n",
    "    print('\\n','output')\n",
    "    print(model.predict(np.array([sample]))[0,-1]) "
   ]
  },
  {
   "cell_type": "code",
   "execution_count": 206,
   "metadata": {},
   "outputs": [
    {
     "name": "stdout",
     "output_type": "stream",
     "text": [
      "input\n",
      "[[ 1.          0.88604374 -0.05037592 -1.08699789 -0.73480564 -0.49739257\n",
      "   0.14999728 -1.05524551 -0.94557616]\n",
      " [ 1.         -0.88546059 -0.50476689  0.32647887 -0.73490683 -0.49739257\n",
      "   1.39194778 -0.81868234 -0.15756452]\n",
      " [ 1.         -0.60661889  0.1367403   0.63672234 -0.73490683 -1.16714521\n",
      "   1.56333783 -0.96747411 -0.50418656]\n",
      " [ 1.         -0.9506063   0.3089365   1.35603468 -0.73490683 -0.40439023\n",
      "   0.73495451 -0.19753763  0.15131257]]\n",
      "\n",
      " output\n",
      "[-0.72644746  0.06494095  0.60666335 -0.7427842  -0.40725166  0.90282977\n",
      " -0.61902374 -0.09285215]\n"
     ]
    }
   ],
   "source": [
    "predict_sample(X[2,45:],mae_optimized_model_adam) "
   ]
  },
  {
   "cell_type": "code",
   "execution_count": null,
   "metadata": {},
   "outputs": [],
   "source": []
  }
 ],
 "metadata": {
  "kernelspec": {
   "display_name": "Python 3",
   "language": "python",
   "name": "python3"
  },
  "language_info": {
   "codemirror_mode": {
    "name": "ipython",
    "version": 3
   },
   "file_extension": ".py",
   "mimetype": "text/x-python",
   "name": "python",
   "nbconvert_exporter": "python",
   "pygments_lexer": "ipython3",
   "version": "3.6.8"
  }
 },
 "nbformat": 4,
 "nbformat_minor": 2
}
