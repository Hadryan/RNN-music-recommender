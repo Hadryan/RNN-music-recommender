{
 "cells": [
  {
   "cell_type": "code",
   "execution_count": 72,
   "metadata": {},
   "outputs": [],
   "source": [
    "def song_pick_reward(p0,p1,L,d=2):\n",
    "    '''\n",
    "    Inputs\n",
    "    -----------------------\n",
    "    p0 - position of previous song in playlist\n",
    "    p1 - position of picked song in playlist\n",
    "    L - length of playlist\n",
    "    d - bias term, defaults to 2\n",
    "    \n",
    "    Local variables\n",
    "    -------------------------\n",
    "    z - minimum reward for song in playlist after \n",
    "    b4 - reward for song in playlist before\n",
    "    d - bias term, changes the power term in the curve\n",
    "    '''\n",
    "    \n",
    "    z = .75\n",
    "    b4 = .5\n",
    "    \n",
    "    if p1 == None:\n",
    "        #song not in playlist\n",
    "        return 0\n",
    "    elif p0 == p1:\n",
    "        #they are the same song\n",
    "        #raise Exception('Songs are the same.')\n",
    "        return None\n",
    "    if p1 < p0:\n",
    "        #song occurs previously\n",
    "        return b4\n",
    "    elif p1 > p0:\n",
    "        #the typical case\n",
    "        #minimum of (z,L)\n",
    "        return ((1-z) * (L - p1)**d)/((L-(p0+1))**d) + z"
   ]
  },
  {
   "cell_type": "code",
   "execution_count": 68,
   "metadata": {},
   "outputs": [],
   "source": [
    "import matplotlib.pyplot as plt\n",
    "import numpy as np"
   ]
  },
  {
   "cell_type": "code",
   "execution_count": 90,
   "metadata": {},
   "outputs": [
    {
     "data": {
      "text/plain": [
       "Text(0,0.5,'Reward')"
      ]
     },
     "execution_count": 90,
     "metadata": {},
     "output_type": "execute_result"
    },
    {
     "data": {
      "image/png": "[encoded data removed]",
      "text/plain": [
       "<Figure size 432x288 with 1 Axes>"
      ]
     },
     "metadata": {
      "needs_background": "light"
     },
     "output_type": "display_data"
    }
   ],
   "source": [
    "L = 100\n",
    "x = np.arange(1,L+1)\n",
    "y = np.array([song_pick_reward(30,i,L,d=3.5) for i in x])\n",
    "plt.scatter(x,y)\n",
    "plt.xlim(0, 100)\n",
    "plt.ylim(0, 1.1)\n",
    "plt.xlabel('Playlist Position (P0 = 30,L=100,d=3.5)')\n",
    "plt.ylabel('Reward')"
   ]
  },
  {
   "cell_type": "markdown",
   "metadata": {},
   "source": [
    "$$ R(P_0) = \\frac{(1-z)(L-P_1)^\\delta}{(L-(P_0+1))^\\delta} + z $$"
   ]
  },
  {
   "cell_type": "markdown",
   "metadata": {},
   "source": [
    "<center>\n",
    "$\n",
    "R(P_0) = \\begin{cases} \n",
    "      b_4 & P_1 < P_0 \\\\\n",
    "      (1-z)\\bigg(\\frac{L-P_1}{L-(P_0+1)}\\bigg)^\\delta + z & P_1 > P_0\n",
    "   \\end{cases}\n",
    "$\n",
    "</center>"
   ]
  }
 ],
 "metadata": {
  "kernelspec": {
   "display_name": "Python 3",
   "language": "python",
   "name": "python3"
  },
  "language_info": {
   "codemirror_mode": {
    "name": "ipython",
    "version": 3
   },
   "file_extension": ".py",
   "mimetype": "text/x-python",
   "name": "python",
   "nbconvert_exporter": "python",
   "pygments_lexer": "ipython3",
   "version": "3.7.0"
  }
 },
 "nbformat": 4,
 "nbformat_minor": 2
}
