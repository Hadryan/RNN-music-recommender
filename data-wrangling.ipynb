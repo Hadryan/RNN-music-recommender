{
 "cells": [
  {
   "cell_type": "code",
   "execution_count": 144,
   "metadata": {},
   "outputs": [],
   "source": [
    "import api_keys\n",
    "import spotipy\n",
    "from spotipy.oauth2 import SpotifyClientCredentials\n",
    "import pandas as pd\n",
    "import seaborn as sns\n",
    "\n",
    "\n",
    "\n",
    "#math stuff - may or may not use\n",
    "from statsmodels.tsa.stattools import adfuller\n",
    "from statsmodels.stats.diagnostic import het_breuschpagan\n",
    "from statsmodels.stats.diagnostic import linear_harvey_collier\n",
    "from statsmodels.stats.diagnostic import spec_white"
   ]
  },
  {
   "cell_type": "code",
   "execution_count": 151,
   "metadata": {},
   "outputs": [],
   "source": [
    "sp = spotipy.Spotify(\n",
    "    client_credentials_manager = SpotifyClientCredentials(\n",
    "        client_id=api_keys.CLIENT_ID,\n",
    "        client_secret=api_keys.CLIENT_SECRET\n",
    "    )    \n",
    ")\n",
    "\n",
    "def get_the_playlists(date,offset):\n",
    "    '''\n",
    "    Get playlist ids for a particular day\n",
    "    Inputs: date in ISO-8601 format\n",
    "            offfset - page number\n",
    "    Output: paired playlist ids with number of tracks\n",
    "    '''\n",
    "    return {i['id']:i['tracks']['total'] for i in sp.featured_playlists(\n",
    "        locale=None,\n",
    "        country='US',\n",
    "        timestamp=date,\n",
    "        limit=50,\n",
    "        offset=offset*50\n",
    "    )['playlists']['items']}\n",
    "    \n",
    "def get_playlist_tracks(id_):\n",
    "    '''\n",
    "    Get the tracks for a spotify playlist.\n",
    "    Input: playlist ID\n",
    "    Output: list of song IDs\n",
    "    '''\n",
    "    return [i['track']['id'] for i in sp.user_playlist('spotify',id_)['tracks']['items']]\n",
    "\n",
    "def get_song_features(ids):\n",
    "    '''\n",
    "    Get song features for each song in a list\n",
    "    '''\n",
    "    return pd.DataFrame(sp.audio_features(_)[0] for _ in ids)"
   ]
  },
  {
   "cell_type": "code",
   "execution_count": 159,
   "metadata": {},
   "outputs": [
    {
     "data": {
      "text/plain": [
       "{'37i9dQZF1DXbcP8BbYEQaO': 71,\n",
       " '37i9dQZF1DX4sWSpwq3LiO': 221,\n",
       " '37i9dQZF1DX5DMh4a0MOAn': 55,\n",
       " '37i9dQZF1DX2yvmlOdMYzV': 126,\n",
       " '37i9dQZF1DX3Ogo9pFvBkY': 218,\n",
       " '37i9dQZF1DX0r3x8OtiwEM': 80,\n",
       " '37i9dQZF1DWT5MrZnPU1zD': 202,\n",
       " '37i9dQZF1DX5IDTimEWoTd': 77,\n",
       " '37i9dQZF1DWVEvzGeX3eRs': 47,\n",
       " '37i9dQZF1DX8WMG8VPSOJC': 55}"
      ]
     },
     "execution_count": 159,
     "metadata": {},
     "output_type": "execute_result"
    }
   ],
   "source": [
    "get_the_playlists('2015-01-01T00:00:00',0)"
   ]
  },
  {
   "cell_type": "code",
   "execution_count": 82,
   "metadata": {
    "scrolled": true
   },
   "outputs": [
    {
     "data": {
      "text/plain": [
       "['4PvbbMYL4fkToni5BLaYRb',\n",
       " '5fiR9Dy9hNXEPZOLo1kyNb',\n",
       " '1GZH9Sv6zCIse2GKihRHKy',\n",
       " '3vEOALYBUNQUMXpqhWx3hG',\n",
       " '6wE9qLKJu7DovH54rvrSVs',\n",
       " '3hMvsYZjU1pFH0xoywKXA9',\n",
       " '2LmQRj2QIzoyv9GcwGZslt',\n",
       " '3FsL491yGtc7Lwq1onHAsn',\n",
       " '5XR4V6uo2NCLkke1DyOcPY',\n",
       " '2urQEPkvz0ISpmqrKoSvwA']"
      ]
     },
     "execution_count": 82,
     "metadata": {},
     "output_type": "execute_result"
    }
   ],
   "source": [
    "get_playlist_tracks('37i9dQZF1DWWBHeXOYZf74')[0:10]"
   ]
  },
  {
   "cell_type": "code",
   "execution_count": 87,
   "metadata": {},
   "outputs": [
    {
     "data": {
      "text/plain": [
       "[{'danceability': 0.73,\n",
       "  'energy': 0.634,\n",
       "  'key': 2,\n",
       "  'loudness': -5.116,\n",
       "  'mode': 1,\n",
       "  'speechiness': 0.297,\n",
       "  'acousticness': 0.324,\n",
       "  'instrumentalness': 6.16e-05,\n",
       "  'liveness': 0.0712,\n",
       "  'valence': 0.47,\n",
       "  'tempo': 79.554,\n",
       "  'type': 'audio_features',\n",
       "  'id': '5fiR9Dy9hNXEPZOLo1kyNb',\n",
       "  'uri': 'spotify:track:5fiR9Dy9hNXEPZOLo1kyNb',\n",
       "  'track_href': 'https://api.spotify.com/v1/tracks/5fiR9Dy9hNXEPZOLo1kyNb',\n",
       "  'analysis_url': 'https://api.spotify.com/v1/audio-analysis/5fiR9Dy9hNXEPZOLo1kyNb',\n",
       "  'duration_ms': 219720,\n",
       "  'time_signature': 4}]"
      ]
     },
     "execution_count": 87,
     "metadata": {},
     "output_type": "execute_result"
    }
   ],
   "source": [
    "sp.audio_features('5fiR9Dy9hNXEPZOLo1kyNb')"
   ]
  },
  {
   "cell_type": "code",
   "execution_count": 167,
   "metadata": {},
   "outputs": [],
   "source": [
    "trax = get_playlist_tracks('37i9dQZF1DX5DMh4a0MOAn')\n",
    "\n",
    "df = pd.DataFrame(\n",
    "    get_song_features(\n",
    "        trax\n",
    "    )\n",
    ")"
   ]
  },
  {
   "cell_type": "code",
   "execution_count": 169,
   "metadata": {},
   "outputs": [
    {
     "data": {
      "text/html": [
       "<div>\n",
       "<style scoped>\n",
       "    .dataframe tbody tr th:only-of-type {\n",
       "        vertical-align: middle;\n",
       "    }\n",
       "\n",
       "    .dataframe tbody tr th {\n",
       "        vertical-align: top;\n",
       "    }\n",
       "\n",
       "    .dataframe thead th {\n",
       "        text-align: right;\n",
       "    }\n",
       "</style>\n",
       "<table border=\"1\" class=\"dataframe\">\n",
       "  <thead>\n",
       "    <tr style=\"text-align: right;\">\n",
       "      <th></th>\n",
       "      <th>acousticness</th>\n",
       "      <th>analysis_url</th>\n",
       "      <th>danceability</th>\n",
       "      <th>duration_ms</th>\n",
       "      <th>energy</th>\n",
       "      <th>id</th>\n",
       "      <th>instrumentalness</th>\n",
       "      <th>key</th>\n",
       "      <th>liveness</th>\n",
       "      <th>loudness</th>\n",
       "      <th>mode</th>\n",
       "      <th>speechiness</th>\n",
       "      <th>tempo</th>\n",
       "      <th>time_signature</th>\n",
       "      <th>track_href</th>\n",
       "      <th>type</th>\n",
       "      <th>uri</th>\n",
       "      <th>valence</th>\n",
       "    </tr>\n",
       "  </thead>\n",
       "  <tbody>\n",
       "    <tr>\n",
       "      <th>0</th>\n",
       "      <td>0.0967</td>\n",
       "      <td>https://api.spotify.com/v1/audio-analysis/5wQr...</td>\n",
       "      <td>0.288</td>\n",
       "      <td>231453</td>\n",
       "      <td>0.21400</td>\n",
       "      <td>5wQrYiOblINes4hnDuRily</td>\n",
       "      <td>0.541</td>\n",
       "      <td>4</td>\n",
       "      <td>0.106</td>\n",
       "      <td>-11.846</td>\n",
       "      <td>0</td>\n",
       "      <td>0.0332</td>\n",
       "      <td>95.025</td>\n",
       "      <td>3</td>\n",
       "      <td>https://api.spotify.com/v1/tracks/5wQrYiOblINe...</td>\n",
       "      <td>audio_features</td>\n",
       "      <td>spotify:track:5wQrYiOblINes4hnDuRily</td>\n",
       "      <td>0.0563</td>\n",
       "    </tr>\n",
       "    <tr>\n",
       "      <th>1</th>\n",
       "      <td>0.9950</td>\n",
       "      <td>https://api.spotify.com/v1/audio-analysis/2aqt...</td>\n",
       "      <td>0.543</td>\n",
       "      <td>178882</td>\n",
       "      <td>0.03890</td>\n",
       "      <td>2aqtO1TsSu7sI9J3fGgRmj</td>\n",
       "      <td>0.906</td>\n",
       "      <td>9</td>\n",
       "      <td>0.143</td>\n",
       "      <td>-19.496</td>\n",
       "      <td>0</td>\n",
       "      <td>0.0654</td>\n",
       "      <td>76.869</td>\n",
       "      <td>4</td>\n",
       "      <td>https://api.spotify.com/v1/tracks/2aqtO1TsSu7s...</td>\n",
       "      <td>audio_features</td>\n",
       "      <td>spotify:track:2aqtO1TsSu7sI9J3fGgRmj</td>\n",
       "      <td>0.3460</td>\n",
       "    </tr>\n",
       "    <tr>\n",
       "      <th>2</th>\n",
       "      <td>0.9900</td>\n",
       "      <td>https://api.spotify.com/v1/audio-analysis/1gfz...</td>\n",
       "      <td>0.230</td>\n",
       "      <td>200000</td>\n",
       "      <td>0.05110</td>\n",
       "      <td>1gfzgfcrmkn2yTWuVGhCgh</td>\n",
       "      <td>0.852</td>\n",
       "      <td>6</td>\n",
       "      <td>0.377</td>\n",
       "      <td>-25.311</td>\n",
       "      <td>1</td>\n",
       "      <td>0.0469</td>\n",
       "      <td>176.782</td>\n",
       "      <td>3</td>\n",
       "      <td>https://api.spotify.com/v1/tracks/1gfzgfcrmkn2...</td>\n",
       "      <td>audio_features</td>\n",
       "      <td>spotify:track:1gfzgfcrmkn2yTWuVGhCgh</td>\n",
       "      <td>0.0483</td>\n",
       "    </tr>\n",
       "    <tr>\n",
       "      <th>3</th>\n",
       "      <td>0.9910</td>\n",
       "      <td>https://api.spotify.com/v1/audio-analysis/0Nkx...</td>\n",
       "      <td>0.320</td>\n",
       "      <td>273165</td>\n",
       "      <td>0.07730</td>\n",
       "      <td>0NkxSU0b1Jsw6yK2mJZru3</td>\n",
       "      <td>0.909</td>\n",
       "      <td>4</td>\n",
       "      <td>0.075</td>\n",
       "      <td>-27.053</td>\n",
       "      <td>0</td>\n",
       "      <td>0.0644</td>\n",
       "      <td>73.589</td>\n",
       "      <td>4</td>\n",
       "      <td>https://api.spotify.com/v1/tracks/0NkxSU0b1Jsw...</td>\n",
       "      <td>audio_features</td>\n",
       "      <td>spotify:track:0NkxSU0b1Jsw6yK2mJZru3</td>\n",
       "      <td>0.0368</td>\n",
       "    </tr>\n",
       "    <tr>\n",
       "      <th>4</th>\n",
       "      <td>0.9890</td>\n",
       "      <td>https://api.spotify.com/v1/audio-analysis/7hyA...</td>\n",
       "      <td>0.217</td>\n",
       "      <td>281120</td>\n",
       "      <td>0.00572</td>\n",
       "      <td>7hyAAjHZaDWSPDzlUYNUIa</td>\n",
       "      <td>0.925</td>\n",
       "      <td>2</td>\n",
       "      <td>0.109</td>\n",
       "      <td>-30.767</td>\n",
       "      <td>1</td>\n",
       "      <td>0.0394</td>\n",
       "      <td>85.279</td>\n",
       "      <td>4</td>\n",
       "      <td>https://api.spotify.com/v1/tracks/7hyAAjHZaDWS...</td>\n",
       "      <td>audio_features</td>\n",
       "      <td>spotify:track:7hyAAjHZaDWSPDzlUYNUIa</td>\n",
       "      <td>0.1740</td>\n",
       "    </tr>\n",
       "  </tbody>\n",
       "</table>\n",
       "</div>"
      ],
      "text/plain": [
       "   acousticness                                       analysis_url  \\\n",
       "0        0.0967  https://api.spotify.com/v1/audio-analysis/5wQr...   \n",
       "1        0.9950  https://api.spotify.com/v1/audio-analysis/2aqt...   \n",
       "2        0.9900  https://api.spotify.com/v1/audio-analysis/1gfz...   \n",
       "3        0.9910  https://api.spotify.com/v1/audio-analysis/0Nkx...   \n",
       "4        0.9890  https://api.spotify.com/v1/audio-analysis/7hyA...   \n",
       "\n",
       "   danceability  duration_ms   energy                      id  \\\n",
       "0         0.288       231453  0.21400  5wQrYiOblINes4hnDuRily   \n",
       "1         0.543       178882  0.03890  2aqtO1TsSu7sI9J3fGgRmj   \n",
       "2         0.230       200000  0.05110  1gfzgfcrmkn2yTWuVGhCgh   \n",
       "3         0.320       273165  0.07730  0NkxSU0b1Jsw6yK2mJZru3   \n",
       "4         0.217       281120  0.00572  7hyAAjHZaDWSPDzlUYNUIa   \n",
       "\n",
       "   instrumentalness  key  liveness  loudness  mode  speechiness    tempo  \\\n",
       "0             0.541    4     0.106   -11.846     0       0.0332   95.025   \n",
       "1             0.906    9     0.143   -19.496     0       0.0654   76.869   \n",
       "2             0.852    6     0.377   -25.311     1       0.0469  176.782   \n",
       "3             0.909    4     0.075   -27.053     0       0.0644   73.589   \n",
       "4             0.925    2     0.109   -30.767     1       0.0394   85.279   \n",
       "\n",
       "   time_signature                                         track_href  \\\n",
       "0               3  https://api.spotify.com/v1/tracks/5wQrYiOblINe...   \n",
       "1               4  https://api.spotify.com/v1/tracks/2aqtO1TsSu7s...   \n",
       "2               3  https://api.spotify.com/v1/tracks/1gfzgfcrmkn2...   \n",
       "3               4  https://api.spotify.com/v1/tracks/0NkxSU0b1Jsw...   \n",
       "4               4  https://api.spotify.com/v1/tracks/7hyAAjHZaDWS...   \n",
       "\n",
       "             type                                   uri  valence  \n",
       "0  audio_features  spotify:track:5wQrYiOblINes4hnDuRily   0.0563  \n",
       "1  audio_features  spotify:track:2aqtO1TsSu7sI9J3fGgRmj   0.3460  \n",
       "2  audio_features  spotify:track:1gfzgfcrmkn2yTWuVGhCgh   0.0483  \n",
       "3  audio_features  spotify:track:0NkxSU0b1Jsw6yK2mJZru3   0.0368  \n",
       "4  audio_features  spotify:track:7hyAAjHZaDWSPDzlUYNUIa   0.1740  "
      ]
     },
     "execution_count": 169,
     "metadata": {},
     "output_type": "execute_result"
    }
   ],
   "source": [
    "df.head()"
   ]
  },
  {
   "cell_type": "code",
   "execution_count": 171,
   "metadata": {},
   "outputs": [
    {
     "data": {
      "text/plain": [
       "Index(['acousticness', 'analysis_url', 'danceability', 'duration_ms', 'energy',\n",
       "       'id', 'instrumentalness', 'key', 'liveness', 'loudness', 'mode',\n",
       "       'speechiness', 'tempo', 'time_signature', 'track_href', 'type', 'uri',\n",
       "       'valence'],\n",
       "      dtype='object')"
      ]
     },
     "execution_count": 171,
     "metadata": {},
     "output_type": "execute_result"
    }
   ],
   "source": [
    "df.columns"
   ]
  },
  {
   "cell_type": "code",
   "execution_count": null,
   "metadata": {},
   "outputs": [],
   "source": [
    "features = [\n",
    "    'acousticness',\n",
    "    'danceability',\n",
    "    'energy',\n",
    "    'instrumentalness'\n",
    "    'liveness'\n",
    "    'loudness'\n",
    "    #mode\n",
    "    'speechiness'\n",
    "    #tempo\n",
    "    #time_signature\n",
    "    'valence'\n",
    "]\n",
    "\n",
    "other_features = [\n",
    "    'key',\n",
    "    'mode'\n",
    "]"
   ]
  },
  {
   "cell_type": "code",
   "execution_count": 170,
   "metadata": {},
   "outputs": [
    {
     "data": {
      "text/plain": [
       "<matplotlib.axes._subplots.AxesSubplot at 0x12fd9c588>"
      ]
     },
     "execution_count": 170,
     "metadata": {},
     "output_type": "execute_result"
    },
    {
     "data": {
      "image/png": "[encoded data removed]",
      "text/plain": [
       "<Figure size 432x288 with 1 Axes>"
      ]
     },
     "metadata": {
      "needs_background": "light"
     },
     "output_type": "display_data"
    }
   ],
   "source": [
    "sns.lineplot(data = df['energy'])"
   ]
  }
 ],
 "metadata": {
  "kernelspec": {
   "display_name": "Python 3",
   "language": "python",
   "name": "python3"
  },
  "language_info": {
   "codemirror_mode": {
    "name": "ipython",
    "version": 3
   },
   "file_extension": ".py",
   "mimetype": "text/x-python",
   "name": "python",
   "nbconvert_exporter": "python",
   "pygments_lexer": "ipython3",
   "version": "3.6.8"
  }
 },
 "nbformat": 4,
 "nbformat_minor": 2
}
