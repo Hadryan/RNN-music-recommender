{
 "cells": [
  {
   "cell_type": "code",
   "execution_count": 737,
   "metadata": {},
   "outputs": [],
   "source": [
    "import api_keys\n",
    "import spotipy\n",
    "from spotipy.oauth2 import SpotifyClientCredentials\n",
    "import pandas as pd\n",
    "import seaborn as sns\n",
    "from datetime import datetime, timedelta\n",
    "from tqdm import tqdm, tqdm_notebook\n",
    "import json\n",
    "\n",
    "import time\n",
    "import numpy as np\n",
    "import matplotlib.pyplot as plt\n",
    "\n",
    "\n",
    "#math stuff - may or may not use\n",
    "from statsmodels.tsa.stattools import adfuller\n",
    "from statsmodels.stats.diagnostic import het_breuschpagan\n",
    "from statsmodels.stats.diagnostic import linear_harvey_collier\n",
    "from statsmodels.stats.diagnostic import spec_white"
   ]
  },
  {
   "cell_type": "code",
   "execution_count": null,
   "metadata": {},
   "outputs": [],
   "source": [
    "# may need this: https://developer.spotify.com/documentation/web-api/reference/search/search/"
   ]
  },
  {
   "cell_type": "code",
   "execution_count": 466,
   "metadata": {},
   "outputs": [],
   "source": [
    "sp = spotipy.Spotify(\n",
    "    client_credentials_manager = SpotifyClientCredentials(\n",
    "        client_id=api_keys.CLIENT_ID,\n",
    "        client_secret=api_keys.CLIENT_SECRET\n",
    "    )    \n",
    ")\n",
    "\n",
    "def get_the_playlists(date,offset):\n",
    "    '''\n",
    "    Get playlist ids for a particular day\n",
    "    Inputs: date in ISO-8601 format\n",
    "            offfset - page number\n",
    "    Output: paired playlist ids with number of tracks\n",
    "    '''\n",
    "    return ([i['id'],i['snapshot_id'],i['tracks']['total']] for i in sp.featured_playlists(\n",
    "        locale=None,\n",
    "        country='US',\n",
    "        timestamp=date,\n",
    "        limit=50,\n",
    "        offset=offset*50\n",
    "    )['playlists']['items'])\n",
    "    \n",
    "def get_playlist_tracks(id_):\n",
    "    '''\n",
    "    Get the tracks for a spotify playlist.\n",
    "    Input: playlist ID\n",
    "    Output: list of song IDs\n",
    "    '''\n",
    "    return [i['track']['id'] for i in sp.user_playlist('spotify',id_)['tracks']['items']]\n",
    "\n",
    "def get_song_features(ids):\n",
    "    '''\n",
    "    Get song features for each song in a list\n",
    "    '''\n",
    "    return pd.DataFrame(sp.audio_features(_)[0] for _ in ids)\n",
    "\n",
    "def get_all_playlists():\n",
    "    num_days = 1461 # that's 4 years\n",
    "    start_date = datetime(2015,1,1,0,0)\n",
    "\n",
    "    dates = ['T'.join(str(start_date + timedelta(hours=i*8)).split()) for i in range(int(num_days*3))]\n",
    "    playlist_df = pd.DataFrame({0:[],1:[],2:[]})\n",
    "\n",
    "    for date in tqdm_notebook(dates):\n",
    "        while True:\n",
    "            try:\n",
    "                playlist_df = pd.concat([playlist_df,pd.DataFrame(list(get_the_playlists(date,0)))])\n",
    "            except:\n",
    "                time.sleep(30)\n",
    "                continue\n",
    "            break\n",
    "    return playlist_df\n",
    "\n",
    "def get_tune(search_string):\n",
    "    attempts = 0\n",
    "    while attempts < 3:\n",
    "        try:\n",
    "            return sp.search(user_df.iloc[0].search_string,type='track',limit=1)['tracks']['items'][0]['id']\n",
    "        except:\n",
    "            time.sleep(30)\n",
    "            attempts += 1\n",
    "            continue\n",
    "        break\n",
    "    return ''"
   ]
  },
  {
   "cell_type": "markdown",
   "metadata": {},
   "source": [
    "# Get Featured Playlists\n",
    "\n",
    "This data comes straight from the API\n",
    "\n",
    "1. Get playlist metadata\n",
    "2. Get each relevant playlist"
   ]
  },
  {
   "cell_type": "markdown",
   "metadata": {},
   "source": [
    "### 1. Get playlist metadata"
   ]
  },
  {
   "cell_type": "code",
   "execution_count": 279,
   "metadata": {},
   "outputs": [
    {
     "data": {
      "application/vnd.jupyter.widget-view+json": {
       "model_id": "57550032490c47e89d1575e69077bdf5",
       "version_major": 2,
       "version_minor": 0
      },
      "text/plain": [
       "HBox(children=(IntProgress(value=0, max=4383), HTML(value='')))"
      ]
     },
     "metadata": {},
     "output_type": "display_data"
    },
    {
     "name": "stdout",
     "output_type": "stream",
     "text": [
      "retrying ...1secs\n",
      "retrying ...1secs\n",
      "retrying ...1secs\n"
     ]
    }
   ],
   "source": [
    "playlist_df = get_all_playlists()"
   ]
  },
  {
   "cell_type": "code",
   "execution_count": 288,
   "metadata": {},
   "outputs": [
    {
     "data": {
      "text/html": [
       "<div>\n",
       "<style scoped>\n",
       "    .dataframe tbody tr th:only-of-type {\n",
       "        vertical-align: middle;\n",
       "    }\n",
       "\n",
       "    .dataframe tbody tr th {\n",
       "        vertical-align: top;\n",
       "    }\n",
       "\n",
       "    .dataframe thead th {\n",
       "        text-align: right;\n",
       "    }\n",
       "</style>\n",
       "<table border=\"1\" class=\"dataframe\">\n",
       "  <thead>\n",
       "    <tr style=\"text-align: right;\">\n",
       "      <th></th>\n",
       "      <th>0</th>\n",
       "      <th>1</th>\n",
       "      <th>2</th>\n",
       "    </tr>\n",
       "  </thead>\n",
       "  <tbody>\n",
       "    <tr>\n",
       "      <th>0</th>\n",
       "      <td>37i9dQZF1DXbcP8BbYEQaO</td>\n",
       "      <td>MTU2NDcxODQ2MCwwMDAwMDAwNDAwMDAwMTZjNTA3Y2VkNW...</td>\n",
       "      <td>71.0</td>\n",
       "    </tr>\n",
       "    <tr>\n",
       "      <th>1</th>\n",
       "      <td>37i9dQZF1DX4sWSpwq3LiO</td>\n",
       "      <td>MTU2NTEwNDU4NCwwMDAwMDA5NTAwMDAwMTZjNjc4MGI2Nz...</td>\n",
       "      <td>224.0</td>\n",
       "    </tr>\n",
       "    <tr>\n",
       "      <th>2</th>\n",
       "      <td>37i9dQZF1DX5DMh4a0MOAn</td>\n",
       "      <td>MTU1Nzk3MTMwOCwwMDAwMDAyZjAwMDAwMTZhYmU1MzhmNz...</td>\n",
       "      <td>55.0</td>\n",
       "    </tr>\n",
       "    <tr>\n",
       "      <th>3</th>\n",
       "      <td>37i9dQZF1DX2yvmlOdMYzV</td>\n",
       "      <td>MTU1ODY4NDg2MCwwMDAwMDAzNzAwMDAwMTZhZThkYjdlYm...</td>\n",
       "      <td>126.0</td>\n",
       "    </tr>\n",
       "    <tr>\n",
       "      <th>4</th>\n",
       "      <td>37i9dQZF1DX3Ogo9pFvBkY</td>\n",
       "      <td>MTU2NDE3ODYyNSwwMDAwMDAzOTAwMDAwMTZjMzA0ZmIyMT...</td>\n",
       "      <td>218.0</td>\n",
       "    </tr>\n",
       "  </tbody>\n",
       "</table>\n",
       "</div>"
      ],
      "text/plain": [
       "                        0                                                  1  \\\n",
       "0  37i9dQZF1DXbcP8BbYEQaO  MTU2NDcxODQ2MCwwMDAwMDAwNDAwMDAwMTZjNTA3Y2VkNW...   \n",
       "1  37i9dQZF1DX4sWSpwq3LiO  MTU2NTEwNDU4NCwwMDAwMDA5NTAwMDAwMTZjNjc4MGI2Nz...   \n",
       "2  37i9dQZF1DX5DMh4a0MOAn  MTU1Nzk3MTMwOCwwMDAwMDAyZjAwMDAwMTZhYmU1MzhmNz...   \n",
       "3  37i9dQZF1DX2yvmlOdMYzV  MTU1ODY4NDg2MCwwMDAwMDAzNzAwMDAwMTZhZThkYjdlYm...   \n",
       "4  37i9dQZF1DX3Ogo9pFvBkY  MTU2NDE3ODYyNSwwMDAwMDAzOTAwMDAwMTZjMzA0ZmIyMT...   \n",
       "\n",
       "       2  \n",
       "0   71.0  \n",
       "1  224.0  \n",
       "2   55.0  \n",
       "3  126.0  \n",
       "4  218.0  "
      ]
     },
     "execution_count": 288,
     "metadata": {},
     "output_type": "execute_result"
    }
   ],
   "source": [
    "playlist_df.head()"
   ]
  },
  {
   "cell_type": "code",
   "execution_count": 286,
   "metadata": {},
   "outputs": [],
   "source": [
    "playlist_df.drop_duplicates().to_csv('data/featured_playlists.csv')"
   ]
  },
  {
   "cell_type": "markdown",
   "metadata": {},
   "source": [
    "### 2. Get playlist songs"
   ]
  },
  {
   "cell_type": "code",
   "execution_count": 302,
   "metadata": {},
   "outputs": [],
   "source": [
    "playlist_df = pd.read_csv('data/featured_playlists.csv', index_col=0)"
   ]
  },
  {
   "cell_type": "code",
   "execution_count": 303,
   "metadata": {},
   "outputs": [
    {
     "data": {
      "text/html": [
       "<div>\n",
       "<style scoped>\n",
       "    .dataframe tbody tr th:only-of-type {\n",
       "        vertical-align: middle;\n",
       "    }\n",
       "\n",
       "    .dataframe tbody tr th {\n",
       "        vertical-align: top;\n",
       "    }\n",
       "\n",
       "    .dataframe thead th {\n",
       "        text-align: right;\n",
       "    }\n",
       "</style>\n",
       "<table border=\"1\" class=\"dataframe\">\n",
       "  <thead>\n",
       "    <tr style=\"text-align: right;\">\n",
       "      <th></th>\n",
       "      <th>0</th>\n",
       "      <th>1</th>\n",
       "      <th>2</th>\n",
       "    </tr>\n",
       "  </thead>\n",
       "  <tbody>\n",
       "    <tr>\n",
       "      <th>0</th>\n",
       "      <td>37i9dQZF1DXbcP8BbYEQaO</td>\n",
       "      <td>MTU2NDcxODQ2MCwwMDAwMDAwNDAwMDAwMTZjNTA3Y2VkNW...</td>\n",
       "      <td>71.0</td>\n",
       "    </tr>\n",
       "    <tr>\n",
       "      <th>1</th>\n",
       "      <td>37i9dQZF1DX4sWSpwq3LiO</td>\n",
       "      <td>MTU2NTEwNDU4NCwwMDAwMDA5NTAwMDAwMTZjNjc4MGI2Nz...</td>\n",
       "      <td>224.0</td>\n",
       "    </tr>\n",
       "    <tr>\n",
       "      <th>2</th>\n",
       "      <td>37i9dQZF1DX5DMh4a0MOAn</td>\n",
       "      <td>MTU1Nzk3MTMwOCwwMDAwMDAyZjAwMDAwMTZhYmU1MzhmNz...</td>\n",
       "      <td>55.0</td>\n",
       "    </tr>\n",
       "    <tr>\n",
       "      <th>3</th>\n",
       "      <td>37i9dQZF1DX2yvmlOdMYzV</td>\n",
       "      <td>MTU1ODY4NDg2MCwwMDAwMDAzNzAwMDAwMTZhZThkYjdlYm...</td>\n",
       "      <td>126.0</td>\n",
       "    </tr>\n",
       "    <tr>\n",
       "      <th>4</th>\n",
       "      <td>37i9dQZF1DX3Ogo9pFvBkY</td>\n",
       "      <td>MTU2NDE3ODYyNSwwMDAwMDAzOTAwMDAwMTZjMzA0ZmIyMT...</td>\n",
       "      <td>218.0</td>\n",
       "    </tr>\n",
       "  </tbody>\n",
       "</table>\n",
       "</div>"
      ],
      "text/plain": [
       "                        0                                                  1  \\\n",
       "0  37i9dQZF1DXbcP8BbYEQaO  MTU2NDcxODQ2MCwwMDAwMDAwNDAwMDAwMTZjNTA3Y2VkNW...   \n",
       "1  37i9dQZF1DX4sWSpwq3LiO  MTU2NTEwNDU4NCwwMDAwMDA5NTAwMDAwMTZjNjc4MGI2Nz...   \n",
       "2  37i9dQZF1DX5DMh4a0MOAn  MTU1Nzk3MTMwOCwwMDAwMDAyZjAwMDAwMTZhYmU1MzhmNz...   \n",
       "3  37i9dQZF1DX2yvmlOdMYzV  MTU1ODY4NDg2MCwwMDAwMDAzNzAwMDAwMTZhZThkYjdlYm...   \n",
       "4  37i9dQZF1DX3Ogo9pFvBkY  MTU2NDE3ODYyNSwwMDAwMDAzOTAwMDAwMTZjMzA0ZmIyMT...   \n",
       "\n",
       "       2  \n",
       "0   71.0  \n",
       "1  224.0  \n",
       "2   55.0  \n",
       "3  126.0  \n",
       "4  218.0  "
      ]
     },
     "execution_count": 303,
     "metadata": {},
     "output_type": "execute_result"
    }
   ],
   "source": [
    "playlist_df.head()"
   ]
  },
  {
   "cell_type": "code",
   "execution_count": 321,
   "metadata": {},
   "outputs": [
    {
     "name": "stdout",
     "output_type": "stream",
     "text": [
      "playlists with less than 100 tracks: 600\n",
      "number of songs in all these playlists: 39843.0\n",
      "unique playlists from those playlists: 86\n",
      "unique playlists from all playlists: 138\n"
     ]
    }
   ],
   "source": [
    "print('playlists with less than 100 tracks:', playlist_df[playlist_df['2'] < 100].shape[0])\n",
    "print('number of songs in all these playlists:', playlist_df[playlist_df['2'] < 100]['2'].sum())\n",
    "print('unique playlists from those playlists:', playlist_df[playlist_df['2'] < 100]['0'].nunique())\n",
    "print('unique playlists from all playlists:', playlist_df['0'].nunique())"
   ]
  },
  {
   "cell_type": "markdown",
   "metadata": {},
   "source": [
    "86 is not a lot..."
   ]
  },
  {
   "cell_type": "markdown",
   "metadata": {},
   "source": [
    "# Get User Playlists"
   ]
  },
  {
   "cell_type": "code",
   "execution_count": 369,
   "metadata": {},
   "outputs": [],
   "source": [
    "user_df = pd.read_csv('data/user_dataset.csv',error_bad_lines=False,warn_bad_lines=False)"
   ]
  },
  {
   "cell_type": "markdown",
   "metadata": {},
   "source": [
    "#### Rename Columns"
   ]
  },
  {
   "cell_type": "code",
   "execution_count": 370,
   "metadata": {},
   "outputs": [],
   "source": [
    "user_df.rename(index=str, columns={\n",
    "        ' \"artistname\"': \"artist\",\n",
    "        ' \"trackname\"': \"trackname\",\n",
    "        ' \"playlistname\"': \"playlistname\"\n",
    "    },inplace=True)"
   ]
  },
  {
   "cell_type": "markdown",
   "metadata": {},
   "source": [
    "#### Create User-Playlistname Column"
   ]
  },
  {
   "cell_type": "code",
   "execution_count": 371,
   "metadata": {},
   "outputs": [],
   "source": [
    "user_df['user_playlistname'] = user_df.user_id + '--' + user_df.playlistname"
   ]
  },
  {
   "cell_type": "markdown",
   "metadata": {},
   "source": [
    "#### Get Playlist Size"
   ]
  },
  {
   "cell_type": "code",
   "execution_count": 372,
   "metadata": {},
   "outputs": [],
   "source": [
    "user_df['playlist_size'] = user_df.groupby('user_playlistname')['user_playlistname'].transform('size')"
   ]
  },
  {
   "cell_type": "markdown",
   "metadata": {},
   "source": [
    "#### Get Playlist Position"
   ]
  },
  {
   "cell_type": "code",
   "execution_count": 373,
   "metadata": {},
   "outputs": [],
   "source": [
    "user_df['playlist_position'] = user_df.groupby('user_playlistname').cumcount(ascending=True)"
   ]
  },
  {
   "cell_type": "code",
   "execution_count": 374,
   "metadata": {},
   "outputs": [
    {
     "data": {
      "text/plain": [
       "231804"
      ]
     },
     "execution_count": 374,
     "metadata": {},
     "output_type": "execute_result"
    }
   ],
   "source": [
    "user_df['user_playlistname'].nunique()"
   ]
  },
  {
   "cell_type": "markdown",
   "metadata": {},
   "source": [
    "#### Between 10 and 50 songs"
   ]
  },
  {
   "cell_type": "code",
   "execution_count": 378,
   "metadata": {},
   "outputs": [],
   "source": [
    "user_df = user_df[user_df.playlist_size >= 10]\n",
    "user_df = user_df[user_df.playlist_size <= 50]"
   ]
  },
  {
   "cell_type": "code",
   "execution_count": 379,
   "metadata": {},
   "outputs": [
    {
     "data": {
      "text/plain": [
       "143388"
      ]
     },
     "execution_count": 379,
     "metadata": {},
     "output_type": "execute_result"
    }
   ],
   "source": [
    "user_df['user_playlistname'].nunique()"
   ]
  },
  {
   "cell_type": "markdown",
   "metadata": {},
   "source": [
    "#### Take care of N/As"
   ]
  },
  {
   "cell_type": "code",
   "execution_count": 382,
   "metadata": {},
   "outputs": [],
   "source": [
    "user_df['playlist_null_count'] = \\\n",
    "    user_df.groupby('user_playlistname').artist.transform(lambda group: group.isnull().sum())"
   ]
  },
  {
   "cell_type": "code",
   "execution_count": 388,
   "metadata": {},
   "outputs": [],
   "source": [
    "user_df = user_df[user_df.playlist_null_count == 0].dropna()"
   ]
  },
  {
   "cell_type": "markdown",
   "metadata": {},
   "source": [
    "#### Search string column\n",
    "https://github.com/plamere/spotipy/blob/master/examples/search.py"
   ]
  },
  {
   "cell_type": "code",
   "execution_count": 392,
   "metadata": {},
   "outputs": [],
   "source": [
    "user_df['search_string'] = user_df['artist'] + ' ' + user_df['trackname']"
   ]
  },
  {
   "cell_type": "code",
   "execution_count": 395,
   "metadata": {},
   "outputs": [
    {
     "data": {
      "text/plain": [
       "951163"
      ]
     },
     "execution_count": 395,
     "metadata": {},
     "output_type": "execute_result"
    }
   ],
   "source": [
    "user_df['search_string'].nunique()"
   ]
  },
  {
   "cell_type": "markdown",
   "metadata": {},
   "source": [
    "#### Done... ?"
   ]
  },
  {
   "cell_type": "code",
   "execution_count": 397,
   "metadata": {},
   "outputs": [
    {
     "data": {
      "text/plain": [
       "<matplotlib.axes._subplots.AxesSubplot at 0x2d6f2b4e0>"
      ]
     },
     "execution_count": 397,
     "metadata": {},
     "output_type": "execute_result"
    },
    {
     "data": {
      "image/png": "[encoded data removed]",
      "text/plain": [
       "<Figure size 432x288 with 1 Axes>"
      ]
     },
     "metadata": {
      "needs_background": "light"
     },
     "output_type": "display_data"
    }
   ],
   "source": [
    "sns.distplot(user_df[['user_playlistname','playlist_size']].drop_duplicates().dropna()['playlist_size'],bins=range(10,51))"
   ]
  },
  {
   "cell_type": "markdown",
   "metadata": {},
   "source": [
    "#### Search stuff"
   ]
  },
  {
   "cell_type": "code",
   "execution_count": 412,
   "metadata": {},
   "outputs": [
    {
     "name": "stdout",
     "output_type": "stream",
     "text": [
      "1KlDcHrlDPUJJPmMup3tUp\n"
     ]
    }
   ],
   "source": [
    "#example\n",
    "r = sp.search(user_df.iloc[0].search_string)['tracks']['items'][0]['id']\n",
    "print(r)"
   ]
  },
  {
   "cell_type": "code",
   "execution_count": 417,
   "metadata": {},
   "outputs": [],
   "source": [
    "all_tracks = user_df[['search_string']].drop_duplicates().reset_index(drop=True)"
   ]
  },
  {
   "cell_type": "code",
   "execution_count": 428,
   "metadata": {},
   "outputs": [
    {
     "data": {
      "application/vnd.jupyter.widget-view+json": {
       "model_id": "d859ba1bff024d3792ceb309978da975",
       "version_major": 2,
       "version_minor": 0
      },
      "text/plain": [
       "HBox(children=(IntProgress(value=0, max=951163), HTML(value='')))"
      ]
     },
     "metadata": {},
     "output_type": "display_data"
    },
    {
     "name": "stdout",
     "output_type": "stream",
     "text": [
      "retrying ...1secs\n",
      "retrying ...1secs\n",
      "retrying ...1secs\n",
      "retrying ...1secs\n",
      "retrying ...1secs\n",
      "retrying ...1secs\n",
      "retrying ...1secs\n",
      "retrying ...1secs\n",
      "retrying ...1secs\n",
      "retrying ...1secs\n",
      "retrying ...1secs\n",
      "retrying ...1secs\n",
      "retrying ...1secs\n",
      "retrying ...1secs\n",
      "retrying ...1secs\n",
      "retrying ...1secs\n",
      "retrying ...1secs\n",
      "retrying ...1secs\n",
      "retrying ...1secs\n",
      "retrying ...1secs\n",
      "retrying ...1secs\n"
     ]
    }
   ],
   "source": [
    "from tqdm.auto import tqdm\n",
    "tqdm.pandas()\n",
    "all_tracks['track_id'] = all_tracks.search_string.progress_apply(lambda string: get_tune(string))"
   ]
  },
  {
   "cell_type": "code",
   "execution_count": 475,
   "metadata": {},
   "outputs": [
    {
     "data": {
      "text/html": [
       "<div>\n",
       "<style scoped>\n",
       "    .dataframe tbody tr th:only-of-type {\n",
       "        vertical-align: middle;\n",
       "    }\n",
       "\n",
       "    .dataframe tbody tr th {\n",
       "        vertical-align: top;\n",
       "    }\n",
       "\n",
       "    .dataframe thead th {\n",
       "        text-align: right;\n",
       "    }\n",
       "</style>\n",
       "<table border=\"1\" class=\"dataframe\">\n",
       "  <thead>\n",
       "    <tr style=\"text-align: right;\">\n",
       "      <th></th>\n",
       "      <th>search_string</th>\n",
       "      <th>track_id</th>\n",
       "    </tr>\n",
       "  </thead>\n",
       "  <tbody>\n",
       "    <tr>\n",
       "      <th>0</th>\n",
       "      <td>Noah And The Whale 5 Years Time</td>\n",
       "      <td>1KlDcHrlDPUJJPmMup3tUp</td>\n",
       "    </tr>\n",
       "    <tr>\n",
       "      <th>1</th>\n",
       "      <td>Noel Gallagher's High Flying Birds AKA... What...</td>\n",
       "      <td>1KlDcHrlDPUJJPmMup3tUp</td>\n",
       "    </tr>\n",
       "    <tr>\n",
       "      <th>2</th>\n",
       "      <td>Pearl Jam Alive</td>\n",
       "      <td>1KlDcHrlDPUJJPmMup3tUp</td>\n",
       "    </tr>\n",
       "    <tr>\n",
       "      <th>3</th>\n",
       "      <td>Tom Petty And The Heartbreakers American Girl</td>\n",
       "      <td>1KlDcHrlDPUJJPmMup3tUp</td>\n",
       "    </tr>\n",
       "    <tr>\n",
       "      <th>4</th>\n",
       "      <td>Bruce Springsteen Atlantic City</td>\n",
       "      <td>1KlDcHrlDPUJJPmMup3tUp</td>\n",
       "    </tr>\n",
       "  </tbody>\n",
       "</table>\n",
       "</div>"
      ],
      "text/plain": [
       "                                       search_string                track_id\n",
       "0                    Noah And The Whale 5 Years Time  1KlDcHrlDPUJJPmMup3tUp\n",
       "1  Noel Gallagher's High Flying Birds AKA... What...  1KlDcHrlDPUJJPmMup3tUp\n",
       "2                                    Pearl Jam Alive  1KlDcHrlDPUJJPmMup3tUp\n",
       "3      Tom Petty And The Heartbreakers American Girl  1KlDcHrlDPUJJPmMup3tUp\n",
       "4                    Bruce Springsteen Atlantic City  1KlDcHrlDPUJJPmMup3tUp"
      ]
     },
     "execution_count": 475,
     "metadata": {},
     "output_type": "execute_result"
    }
   ],
   "source": [
    "all_tracks.head()"
   ]
  },
  {
   "cell_type": "markdown",
   "metadata": {},
   "source": [
    "# OMG"
   ]
  },
  {
   "cell_type": "code",
   "execution_count": 521,
   "metadata": {},
   "outputs": [],
   "source": [
    "def get_tune(ss):\n",
    "    try:\n",
    "        return sp.search(ss,limit=1)['tracks']['items'][0]['id']\n",
    "    except:\n",
    "        return ''"
   ]
  },
  {
   "cell_type": "code",
   "execution_count": 548,
   "metadata": {},
   "outputs": [
    {
     "data": {
      "application/vnd.jupyter.widget-view+json": {
       "model_id": "196602e3d82b4ebe9fc2c040e4dd9c76",
       "version_major": 2,
       "version_minor": 0
      },
      "text/plain": [
       "HBox(children=(IntProgress(value=1, bar_style='info', max=1), HTML(value='')))"
      ]
     },
     "metadata": {},
     "output_type": "display_data"
    },
    {
     "name": "stdout",
     "output_type": "stream",
     "text": [
      "retrying ...1secs\n",
      "retrying ...1secs\n",
      "retrying ...1secs\n",
      "retrying ...1secs\n",
      "retrying ...1secs\n",
      "retrying ...2secs\n",
      "retrying ...1secs\n",
      "retrying ...3secs\n",
      "retrying ...1secs\n",
      "retrying ...3secs\n",
      "retrying ...1secs\n",
      "retrying ...1secs\n",
      "retrying ...1secs\n",
      "retrying ...1secs\n",
      "retrying ...1secs\n",
      "retrying ...1secs\n",
      "retrying ...1secs\n",
      "retrying ...1secs\n",
      "retrying ...1secs\n",
      "retrying ...1secs\n",
      "retrying ...1secs\n",
      "retrying ...1secs\n",
      "retrying ...1secs\n",
      "retrying ...1secs\n",
      "retrying ...1secs\n",
      "retrying ...1secs\n",
      "retrying ...1secs\n",
      "retrying ...1secs\n"
     ]
    }
   ],
   "source": [
    "#WARNING: This cell commits one of the cardinal sins of Pandas.\n",
    "\n",
    "#wait - why is he using a for loop with .loc ...\n",
    "#great question! this is usually a much less efficient way to use functions across a dataframe\n",
    "#generally, you want to use the .apply() method\n",
    "#this has not been working for iterative API calls however.\n",
    "#I think this has something to do with how the SpotiPy library works with .apply()\n",
    "#When using .apply(), it will refer back to the first element of the column at each iteration.\n",
    "#This can lead to undesired behavior.\n",
    "#More here: https://pandas.pydata.org/pandas-docs/stable/reference/api/pandas.DataFrame.apply.html\n",
    "\n",
    "start = 0\n",
    "\n",
    "# old code\n",
    "# for row,ss in tqdm(enumerate(all_tracks['search_string'][start:].to_list())):\n",
    "#     all_tracks.loc[row+start,'track_id'] = get_tune(ss)\n",
    "\n",
    "# new code - faster\n",
    "res = []\n",
    "for row,ss in tqdm(enumerate(all_tracks['search_string'][start:].to_list())):\n",
    "    res.append(get_tune(ss))\n",
    "    if row == 0:\n",
    "        pass\n",
    "    elif row == 10:\n",
    "        all_tracks.loc[0:10,'track_id'] = res #only works if start = 0\n",
    "        res.clear()\n",
    "    elif row % 10 == 0:\n",
    "        all_tracks.loc[(row+startstart-10+1):(row+start),'track_id'] = res\n",
    "        res.clear()"
   ]
  },
  {
   "cell_type": "code",
   "execution_count": 558,
   "metadata": {},
   "outputs": [],
   "source": [
    "all_tracks.to_csv('data/all_song_ids.csv')"
   ]
  },
  {
   "cell_type": "code",
   "execution_count": 557,
   "metadata": {},
   "outputs": [
    {
     "data": {
      "text/html": [
       "<div>\n",
       "<style scoped>\n",
       "    .dataframe tbody tr th:only-of-type {\n",
       "        vertical-align: middle;\n",
       "    }\n",
       "\n",
       "    .dataframe tbody tr th {\n",
       "        vertical-align: top;\n",
       "    }\n",
       "\n",
       "    .dataframe thead th {\n",
       "        text-align: right;\n",
       "    }\n",
       "</style>\n",
       "<table border=\"1\" class=\"dataframe\">\n",
       "  <thead>\n",
       "    <tr style=\"text-align: right;\">\n",
       "      <th></th>\n",
       "      <th>search_string</th>\n",
       "      <th>track_id</th>\n",
       "    </tr>\n",
       "  </thead>\n",
       "  <tbody>\n",
       "    <tr>\n",
       "      <th>0</th>\n",
       "      <td>Noah And The Whale 5 Years Time</td>\n",
       "      <td>1KlDcHrlDPUJJPmMup3tUp</td>\n",
       "    </tr>\n",
       "    <tr>\n",
       "      <th>1</th>\n",
       "      <td>Noel Gallagher's High Flying Birds AKA... What...</td>\n",
       "      <td>5mljJfOTZR3nF4ExmRLTjv</td>\n",
       "    </tr>\n",
       "    <tr>\n",
       "      <th>2</th>\n",
       "      <td>Pearl Jam Alive</td>\n",
       "      <td>1L94M3KIu7QluZe63g64rv</td>\n",
       "    </tr>\n",
       "    <tr>\n",
       "      <th>3</th>\n",
       "      <td>Tom Petty And The Heartbreakers American Girl</td>\n",
       "      <td>7MRyJPksH3G2cXHN8UKYzP</td>\n",
       "    </tr>\n",
       "    <tr>\n",
       "      <th>4</th>\n",
       "      <td>Bruce Springsteen Atlantic City</td>\n",
       "      <td>1Vp8U39YNsDfd6yVuaUq12</td>\n",
       "    </tr>\n",
       "    <tr>\n",
       "      <th>5</th>\n",
       "      <td>Madness Baggy Trousers</td>\n",
       "      <td>3Sbnhrpec0ULbeWBsA6GS6</td>\n",
       "    </tr>\n",
       "    <tr>\n",
       "      <th>6</th>\n",
       "      <td>Pearl Jam Black</td>\n",
       "      <td>5Xak5fmy089t0FYmh3VJiY</td>\n",
       "    </tr>\n",
       "    <tr>\n",
       "      <th>7</th>\n",
       "      <td>Bruce Springsteen Born to Run</td>\n",
       "      <td>6hTcuIQa0sxrrByu9wTD7s</td>\n",
       "    </tr>\n",
       "    <tr>\n",
       "      <th>8</th>\n",
       "      <td>Spector Chevy Thunder</td>\n",
       "      <td>6ikzdvfsPbdaGpXmeEeaK2</td>\n",
       "    </tr>\n",
       "    <tr>\n",
       "      <th>9</th>\n",
       "      <td>Miles Kane Come Closer</td>\n",
       "      <td>20uVZbYFKshjrdDHcVy9w9</td>\n",
       "    </tr>\n",
       "    <tr>\n",
       "      <th>10</th>\n",
       "      <td>Bruce Springsteen Death To My Hometown</td>\n",
       "      <td>5piFhn0sH6i5iGaESBuTJd</td>\n",
       "    </tr>\n",
       "    <tr>\n",
       "      <th>11</th>\n",
       "      <td>Pearl Jam Even Flow</td>\n",
       "      <td>6QewNVIDKdSl8Y3ycuHIei</td>\n",
       "    </tr>\n",
       "    <tr>\n",
       "      <th>12</th>\n",
       "      <td>Noel Gallagher's High Flying Birds Everybody's...</td>\n",
       "      <td>7IEBI3QQTQ4U2nTBwQowd7</td>\n",
       "    </tr>\n",
       "    <tr>\n",
       "      <th>13</th>\n",
       "      <td>Miles Kane First of My Kind</td>\n",
       "      <td>5uszSIpdaeca0sLHOS6VSS</td>\n",
       "    </tr>\n",
       "    <tr>\n",
       "      <th>14</th>\n",
       "      <td>Tom Petty Free Fallin'</td>\n",
       "      <td>5tVA6TkbaAH9QMITTQRrNv</td>\n",
       "    </tr>\n",
       "  </tbody>\n",
       "</table>\n",
       "</div>"
      ],
      "text/plain": [
       "                                        search_string                track_id\n",
       "0                     Noah And The Whale 5 Years Time  1KlDcHrlDPUJJPmMup3tUp\n",
       "1   Noel Gallagher's High Flying Birds AKA... What...  5mljJfOTZR3nF4ExmRLTjv\n",
       "2                                     Pearl Jam Alive  1L94M3KIu7QluZe63g64rv\n",
       "3       Tom Petty And The Heartbreakers American Girl  7MRyJPksH3G2cXHN8UKYzP\n",
       "4                     Bruce Springsteen Atlantic City  1Vp8U39YNsDfd6yVuaUq12\n",
       "5                              Madness Baggy Trousers  3Sbnhrpec0ULbeWBsA6GS6\n",
       "6                                     Pearl Jam Black  5Xak5fmy089t0FYmh3VJiY\n",
       "7                       Bruce Springsteen Born to Run  6hTcuIQa0sxrrByu9wTD7s\n",
       "8                               Spector Chevy Thunder  6ikzdvfsPbdaGpXmeEeaK2\n",
       "9                              Miles Kane Come Closer  20uVZbYFKshjrdDHcVy9w9\n",
       "10             Bruce Springsteen Death To My Hometown  5piFhn0sH6i5iGaESBuTJd\n",
       "11                                Pearl Jam Even Flow  6QewNVIDKdSl8Y3ycuHIei\n",
       "12  Noel Gallagher's High Flying Birds Everybody's...  7IEBI3QQTQ4U2nTBwQowd7\n",
       "13                        Miles Kane First of My Kind  5uszSIpdaeca0sLHOS6VSS\n",
       "14                             Tom Petty Free Fallin'  5tVA6TkbaAH9QMITTQRrNv"
      ]
     },
     "execution_count": 557,
     "metadata": {},
     "output_type": "execute_result"
    }
   ],
   "source": [
    "all_tracks.head(15)"
   ]
  },
  {
   "cell_type": "markdown",
   "metadata": {},
   "source": [
    "# Now for the Metadata\n",
    "Get all them _values_"
   ]
  },
  {
   "cell_type": "code",
   "execution_count": 559,
   "metadata": {},
   "outputs": [
    {
     "data": {
      "text/plain": [
       "[{'danceability': 0.8,\n",
       "  'energy': 0.559,\n",
       "  'key': 0,\n",
       "  'loudness': -7.11,\n",
       "  'mode': 1,\n",
       "  'speechiness': 0.116,\n",
       "  'acousticness': 0.335,\n",
       "  'instrumentalness': 0,\n",
       "  'liveness': 0.148,\n",
       "  'valence': 0.788,\n",
       "  'tempo': 121.967,\n",
       "  'type': 'audio_features',\n",
       "  'id': '1KlDcHrlDPUJJPmMup3tUp',\n",
       "  'uri': 'spotify:track:1KlDcHrlDPUJJPmMup3tUp',\n",
       "  'track_href': 'https://api.spotify.com/v1/tracks/1KlDcHrlDPUJJPmMup3tUp',\n",
       "  'analysis_url': 'https://api.spotify.com/v1/audio-analysis/1KlDcHrlDPUJJPmMup3tUp',\n",
       "  'duration_ms': 214920,\n",
       "  'time_signature': 4}]"
      ]
     },
     "execution_count": 559,
     "metadata": {},
     "output_type": "execute_result"
    }
   ],
   "source": [
    "sp.audio_features(all_tracks.loc[0,'track_id'])"
   ]
  },
  {
   "cell_type": "code",
   "execution_count": 730,
   "metadata": {},
   "outputs": [],
   "source": [
    "def get_song_features(ids,list_=None):#,dataframe=None):\n",
    "    '''\n",
    "    Get song features for each song in a list\n",
    "    '''\n",
    "    for id_ in tqdm(ids):\n",
    "        try:\n",
    "            list_.append(sp.audio_features(id_)[0])\n",
    "        except:\n",
    "            list_.append(id_)\n",
    "            \n",
    "            \n",
    "#        return [sp.audio_features(_)[0] for _ in tqdm(ids)]\n",
    "# #         return pd.DataFrame(sp.audio_features(_)[0] for _ in tqdm(ids))\n",
    "#     else:\n",
    "#         print('this code does not work yet')\n",
    "#         for id_ in tqdm(ids):\n",
    "#             if id_ != '':\n",
    "#                 dataframe.update(\n",
    "#                     pd.concat(\n",
    "#                         dataframe,\n",
    "#                         pd.DataFrame(sp.audio_features(_)[0])\n",
    "#                     ),\n",
    "#                     overwrite=False,\n",
    "#                     ignore_index=True\n",
    "#                 )\n",
    "                    "
   ]
  },
  {
   "cell_type": "code",
   "execution_count": 731,
   "metadata": {},
   "outputs": [],
   "source": [
    "features_list = []"
   ]
  },
  {
   "cell_type": "code",
   "execution_count": 734,
   "metadata": {},
   "outputs": [
    {
     "data": {
      "application/vnd.jupyter.widget-view+json": {
       "model_id": "3832309065314bf5af7bc61c52d13cff",
       "version_major": 2,
       "version_minor": 0
      },
      "text/plain": [
       "HBox(children=(IntProgress(value=0, max=884163), HTML(value='')))"
      ]
     },
     "metadata": {},
     "output_type": "display_data"
    },
    {
     "name": "stdout",
     "output_type": "stream",
     "text": [
      "retrying ...1secs\n",
      "retrying ...1secs\n",
      "retrying ...1secs\n",
      "retrying ...1secs\n"
     ]
    }
   ],
   "source": [
    "get_song_features(all_tracks.track_id.to_list()[67000:],list_=features_list)"
   ]
  },
  {
   "cell_type": "code",
   "execution_count": 739,
   "metadata": {},
   "outputs": [],
   "source": [
    "# with open(\"features_list_2.json\", \"w\") as output:\n",
    "#     output.write(str(features_list))\n",
    "    \n",
    "with open('features_list_3.json', 'w') as f:\n",
    "    json.dump(features_list, f)"
   ]
  },
  {
   "cell_type": "code",
   "execution_count": 751,
   "metadata": {},
   "outputs": [],
   "source": [
    "with open('features_list_3.json') as json_file:\n",
    "    j = json.load(json_file)"
   ]
  },
  {
   "cell_type": "code",
   "execution_count": 778,
   "metadata": {},
   "outputs": [],
   "source": [
    "j_clean = list(filter(None, j)) "
   ]
  },
  {
   "cell_type": "code",
   "execution_count": 782,
   "metadata": {},
   "outputs": [],
   "source": [
    "j_clean = list(filter(lambda i:not(type(i) is str), j_clean))"
   ]
  },
  {
   "cell_type": "code",
   "execution_count": null,
   "metadata": {},
   "outputs": [],
   "source": []
  },
  {
   "cell_type": "code",
   "execution_count": 783,
   "metadata": {},
   "outputs": [],
   "source": [
    "features_df = pd.DataFrame(j_clean)"
   ]
  },
  {
   "cell_type": "code",
   "execution_count": 785,
   "metadata": {},
   "outputs": [
    {
     "data": {
      "text/plain": [
       "(765244, 18)"
      ]
     },
     "execution_count": 785,
     "metadata": {},
     "output_type": "execute_result"
    }
   ],
   "source": [
    "features_df.shape"
   ]
  },
  {
   "cell_type": "code",
   "execution_count": 786,
   "metadata": {},
   "outputs": [
    {
     "data": {
      "text/html": [
       "<div>\n",
       "<style scoped>\n",
       "    .dataframe tbody tr th:only-of-type {\n",
       "        vertical-align: middle;\n",
       "    }\n",
       "\n",
       "    .dataframe tbody tr th {\n",
       "        vertical-align: top;\n",
       "    }\n",
       "\n",
       "    .dataframe thead th {\n",
       "        text-align: right;\n",
       "    }\n",
       "</style>\n",
       "<table border=\"1\" class=\"dataframe\">\n",
       "  <thead>\n",
       "    <tr style=\"text-align: right;\">\n",
       "      <th></th>\n",
       "      <th>acousticness</th>\n",
       "      <th>analysis_url</th>\n",
       "      <th>danceability</th>\n",
       "      <th>duration_ms</th>\n",
       "      <th>energy</th>\n",
       "      <th>id</th>\n",
       "      <th>instrumentalness</th>\n",
       "      <th>key</th>\n",
       "      <th>liveness</th>\n",
       "      <th>loudness</th>\n",
       "      <th>mode</th>\n",
       "      <th>speechiness</th>\n",
       "      <th>tempo</th>\n",
       "      <th>time_signature</th>\n",
       "      <th>track_href</th>\n",
       "      <th>type</th>\n",
       "      <th>uri</th>\n",
       "      <th>valence</th>\n",
       "    </tr>\n",
       "  </thead>\n",
       "  <tbody>\n",
       "    <tr>\n",
       "      <th>0</th>\n",
       "      <td>0.335000</td>\n",
       "      <td>https://api.spotify.com/v1/audio-analysis/1KlD...</td>\n",
       "      <td>0.800</td>\n",
       "      <td>214920</td>\n",
       "      <td>0.559</td>\n",
       "      <td>1KlDcHrlDPUJJPmMup3tUp</td>\n",
       "      <td>0.000000</td>\n",
       "      <td>0</td>\n",
       "      <td>0.1480</td>\n",
       "      <td>-7.110</td>\n",
       "      <td>1</td>\n",
       "      <td>0.1160</td>\n",
       "      <td>121.967</td>\n",
       "      <td>4.0</td>\n",
       "      <td>https://api.spotify.com/v1/tracks/1KlDcHrlDPUJ...</td>\n",
       "      <td>audio_features</td>\n",
       "      <td>spotify:track:1KlDcHrlDPUJJPmMup3tUp</td>\n",
       "      <td>0.788</td>\n",
       "    </tr>\n",
       "    <tr>\n",
       "      <th>1</th>\n",
       "      <td>0.000297</td>\n",
       "      <td>https://api.spotify.com/v1/audio-analysis/5mlj...</td>\n",
       "      <td>0.447</td>\n",
       "      <td>264480</td>\n",
       "      <td>0.927</td>\n",
       "      <td>5mljJfOTZR3nF4ExmRLTjv</td>\n",
       "      <td>0.362000</td>\n",
       "      <td>6</td>\n",
       "      <td>0.0972</td>\n",
       "      <td>-3.300</td>\n",
       "      <td>0</td>\n",
       "      <td>0.0508</td>\n",
       "      <td>119.034</td>\n",
       "      <td>4.0</td>\n",
       "      <td>https://api.spotify.com/v1/tracks/5mljJfOTZR3n...</td>\n",
       "      <td>audio_features</td>\n",
       "      <td>spotify:track:5mljJfOTZR3nF4ExmRLTjv</td>\n",
       "      <td>0.104</td>\n",
       "    </tr>\n",
       "    <tr>\n",
       "      <th>2</th>\n",
       "      <td>0.007520</td>\n",
       "      <td>https://api.spotify.com/v1/audio-analysis/1L94...</td>\n",
       "      <td>0.284</td>\n",
       "      <td>340907</td>\n",
       "      <td>0.875</td>\n",
       "      <td>1L94M3KIu7QluZe63g64rv</td>\n",
       "      <td>0.000461</td>\n",
       "      <td>11</td>\n",
       "      <td>0.4020</td>\n",
       "      <td>-6.069</td>\n",
       "      <td>0</td>\n",
       "      <td>0.0422</td>\n",
       "      <td>75.009</td>\n",
       "      <td>4.0</td>\n",
       "      <td>https://api.spotify.com/v1/tracks/1L94M3KIu7Ql...</td>\n",
       "      <td>audio_features</td>\n",
       "      <td>spotify:track:1L94M3KIu7QluZe63g64rv</td>\n",
       "      <td>0.595</td>\n",
       "    </tr>\n",
       "    <tr>\n",
       "      <th>3</th>\n",
       "      <td>0.448000</td>\n",
       "      <td>https://api.spotify.com/v1/audio-analysis/7MRy...</td>\n",
       "      <td>0.550</td>\n",
       "      <td>214733</td>\n",
       "      <td>0.824</td>\n",
       "      <td>7MRyJPksH3G2cXHN8UKYzP</td>\n",
       "      <td>0.000127</td>\n",
       "      <td>2</td>\n",
       "      <td>0.3660</td>\n",
       "      <td>-5.988</td>\n",
       "      <td>1</td>\n",
       "      <td>0.0334</td>\n",
       "      <td>114.512</td>\n",
       "      <td>4.0</td>\n",
       "      <td>https://api.spotify.com/v1/tracks/7MRyJPksH3G2...</td>\n",
       "      <td>audio_features</td>\n",
       "      <td>spotify:track:7MRyJPksH3G2cXHN8UKYzP</td>\n",
       "      <td>0.777</td>\n",
       "    </tr>\n",
       "    <tr>\n",
       "      <th>4</th>\n",
       "      <td>0.311000</td>\n",
       "      <td>https://api.spotify.com/v1/audio-analysis/1Vp8...</td>\n",
       "      <td>0.475</td>\n",
       "      <td>236653</td>\n",
       "      <td>0.429</td>\n",
       "      <td>1Vp8U39YNsDfd6yVuaUq12</td>\n",
       "      <td>0.000000</td>\n",
       "      <td>4</td>\n",
       "      <td>0.3760</td>\n",
       "      <td>-10.577</td>\n",
       "      <td>1</td>\n",
       "      <td>0.0367</td>\n",
       "      <td>108.034</td>\n",
       "      <td>4.0</td>\n",
       "      <td>https://api.spotify.com/v1/tracks/1Vp8U39YNsDf...</td>\n",
       "      <td>audio_features</td>\n",
       "      <td>spotify:track:1Vp8U39YNsDfd6yVuaUq12</td>\n",
       "      <td>0.340</td>\n",
       "    </tr>\n",
       "  </tbody>\n",
       "</table>\n",
       "</div>"
      ],
      "text/plain": [
       "   acousticness                                       analysis_url  \\\n",
       "0      0.335000  https://api.spotify.com/v1/audio-analysis/1KlD...   \n",
       "1      0.000297  https://api.spotify.com/v1/audio-analysis/5mlj...   \n",
       "2      0.007520  https://api.spotify.com/v1/audio-analysis/1L94...   \n",
       "3      0.448000  https://api.spotify.com/v1/audio-analysis/7MRy...   \n",
       "4      0.311000  https://api.spotify.com/v1/audio-analysis/1Vp8...   \n",
       "\n",
       "   danceability  duration_ms  energy                      id  \\\n",
       "0         0.800       214920   0.559  1KlDcHrlDPUJJPmMup3tUp   \n",
       "1         0.447       264480   0.927  5mljJfOTZR3nF4ExmRLTjv   \n",
       "2         0.284       340907   0.875  1L94M3KIu7QluZe63g64rv   \n",
       "3         0.550       214733   0.824  7MRyJPksH3G2cXHN8UKYzP   \n",
       "4         0.475       236653   0.429  1Vp8U39YNsDfd6yVuaUq12   \n",
       "\n",
       "   instrumentalness  key  liveness  loudness  mode  speechiness    tempo  \\\n",
       "0          0.000000    0    0.1480    -7.110     1       0.1160  121.967   \n",
       "1          0.362000    6    0.0972    -3.300     0       0.0508  119.034   \n",
       "2          0.000461   11    0.4020    -6.069     0       0.0422   75.009   \n",
       "3          0.000127    2    0.3660    -5.988     1       0.0334  114.512   \n",
       "4          0.000000    4    0.3760   -10.577     1       0.0367  108.034   \n",
       "\n",
       "   time_signature                                         track_href  \\\n",
       "0             4.0  https://api.spotify.com/v1/tracks/1KlDcHrlDPUJ...   \n",
       "1             4.0  https://api.spotify.com/v1/tracks/5mljJfOTZR3n...   \n",
       "2             4.0  https://api.spotify.com/v1/tracks/1L94M3KIu7Ql...   \n",
       "3             4.0  https://api.spotify.com/v1/tracks/7MRyJPksH3G2...   \n",
       "4             4.0  https://api.spotify.com/v1/tracks/1Vp8U39YNsDf...   \n",
       "\n",
       "             type                                   uri  valence  \n",
       "0  audio_features  spotify:track:1KlDcHrlDPUJJPmMup3tUp    0.788  \n",
       "1  audio_features  spotify:track:5mljJfOTZR3nF4ExmRLTjv    0.104  \n",
       "2  audio_features  spotify:track:1L94M3KIu7QluZe63g64rv    0.595  \n",
       "3  audio_features  spotify:track:7MRyJPksH3G2cXHN8UKYzP    0.777  \n",
       "4  audio_features  spotify:track:1Vp8U39YNsDfd6yVuaUq12    0.340  "
      ]
     },
     "execution_count": 786,
     "metadata": {},
     "output_type": "execute_result"
    }
   ],
   "source": [
    "features_df.head()"
   ]
  },
  {
   "cell_type": "code",
   "execution_count": 787,
   "metadata": {},
   "outputs": [],
   "source": [
    "features_df.to_csv('song_features.csv')"
   ]
  }
 ],
 "metadata": {
  "kernelspec": {
   "display_name": "Python 3",
   "language": "python",
   "name": "python3"
  },
  "language_info": {
   "codemirror_mode": {
    "name": "ipython",
    "version": 3
   },
   "file_extension": ".py",
   "mimetype": "text/x-python",
   "name": "python",
   "nbconvert_exporter": "python",
   "pygments_lexer": "ipython3",
   "version": "3.6.8"
  }
 },
 "nbformat": 4,
 "nbformat_minor": 2
}
